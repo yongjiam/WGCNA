{
 "cells": [
  {
   "cell_type": "code",
   "execution_count": 1,
   "id": "659e8ac8-1eb7-40f7-9dbb-a8035c6d1a1d",
   "metadata": {},
   "outputs": [],
   "source": [
    "options(warn=0)"
   ]
  },
  {
   "cell_type": "code",
   "execution_count": 2,
   "id": "ee52cbf0-2c8b-4ba2-abca-679a290a376c",
   "metadata": {
    "scrolled": true
   },
   "outputs": [
    {
     "name": "stderr",
     "output_type": "stream",
     "text": [
      "Loading required package: dynamicTreeCut\n",
      "\n",
      "Loading required package: fastcluster\n",
      "\n",
      "\n",
      "Attaching package: ‘fastcluster’\n",
      "\n",
      "\n",
      "The following object is masked from ‘package:stats’:\n",
      "\n",
      "    hclust\n",
      "\n",
      "\n",
      "\n",
      "\n",
      "\n",
      "Attaching package: ‘WGCNA’\n",
      "\n",
      "\n",
      "The following object is masked from ‘package:stats’:\n",
      "\n",
      "    cor\n",
      "\n",
      "\n",
      "Loading required package: S4Vectors\n",
      "\n",
      "Loading required package: stats4\n",
      "\n",
      "Loading required package: BiocGenerics\n",
      "\n",
      "\n",
      "Attaching package: ‘BiocGenerics’\n",
      "\n",
      "\n",
      "The following objects are masked from ‘package:stats’:\n",
      "\n",
      "    IQR, mad, sd, var, xtabs\n",
      "\n",
      "\n",
      "The following objects are masked from ‘package:base’:\n",
      "\n",
      "    anyDuplicated, aperm, append, as.data.frame, basename, cbind,\n",
      "    colnames, dirname, do.call, duplicated, eval, evalq, Filter, Find,\n",
      "    get, grep, grepl, intersect, is.unsorted, lapply, Map, mapply,\n",
      "    match, mget, order, paste, pmax, pmax.int, pmin, pmin.int,\n",
      "    Position, rank, rbind, Reduce, rownames, sapply, setdiff, sort,\n",
      "    table, tapply, union, unique, unsplit, which.max, which.min\n",
      "\n",
      "\n",
      "\n",
      "Attaching package: ‘S4Vectors’\n",
      "\n",
      "\n",
      "The following object is masked from ‘package:utils’:\n",
      "\n",
      "    findMatches\n",
      "\n",
      "\n",
      "The following objects are masked from ‘package:base’:\n",
      "\n",
      "    expand.grid, I, unname\n",
      "\n",
      "\n",
      "Loading required package: IRanges\n",
      "\n",
      "Loading required package: GenomicRanges\n",
      "\n",
      "Loading required package: GenomeInfoDb\n",
      "\n",
      "Loading required package: SummarizedExperiment\n",
      "\n",
      "Loading required package: MatrixGenerics\n",
      "\n",
      "Loading required package: matrixStats\n",
      "\n",
      "\n",
      "Attaching package: ‘MatrixGenerics’\n",
      "\n",
      "\n",
      "The following objects are masked from ‘package:matrixStats’:\n",
      "\n",
      "    colAlls, colAnyNAs, colAnys, colAvgsPerRowSet, colCollapse,\n",
      "    colCounts, colCummaxs, colCummins, colCumprods, colCumsums,\n",
      "    colDiffs, colIQRDiffs, colIQRs, colLogSumExps, colMadDiffs,\n",
      "    colMads, colMaxs, colMeans2, colMedians, colMins, colOrderStats,\n",
      "    colProds, colQuantiles, colRanges, colRanks, colSdDiffs, colSds,\n",
      "    colSums2, colTabulates, colVarDiffs, colVars, colWeightedMads,\n",
      "    colWeightedMeans, colWeightedMedians, colWeightedSds,\n",
      "    colWeightedVars, rowAlls, rowAnyNAs, rowAnys, rowAvgsPerColSet,\n",
      "    rowCollapse, rowCounts, rowCummaxs, rowCummins, rowCumprods,\n",
      "    rowCumsums, rowDiffs, rowIQRDiffs, rowIQRs, rowLogSumExps,\n",
      "    rowMadDiffs, rowMads, rowMaxs, rowMeans2, rowMedians, rowMins,\n",
      "    rowOrderStats, rowProds, rowQuantiles, rowRanges, rowRanks,\n",
      "    rowSdDiffs, rowSds, rowSums2, rowTabulates, rowVarDiffs, rowVars,\n",
      "    rowWeightedMads, rowWeightedMeans, rowWeightedMedians,\n",
      "    rowWeightedSds, rowWeightedVars\n",
      "\n",
      "\n",
      "Loading required package: Biobase\n",
      "\n",
      "Welcome to Bioconductor\n",
      "\n",
      "    Vignettes contain introductory material; view with\n",
      "    'browseVignettes()'. To cite Bioconductor, see\n",
      "    'citation(\"Biobase\")', and for packages 'citation(\"pkgname\")'.\n",
      "\n",
      "\n",
      "\n",
      "Attaching package: ‘Biobase’\n",
      "\n",
      "\n",
      "The following object is masked from ‘package:MatrixGenerics’:\n",
      "\n",
      "    rowMedians\n",
      "\n",
      "\n",
      "The following objects are masked from ‘package:matrixStats’:\n",
      "\n",
      "    anyMissing, rowMedians\n",
      "\n",
      "\n"
     ]
    }
   ],
   "source": [
    "library(WGCNA)\n",
    "library(DESeq2)"
   ]
  },
  {
   "cell_type": "code",
   "execution_count": 3,
   "id": "39a35013-2b26-4bb5-b788-dcbf2aae9b7a",
   "metadata": {},
   "outputs": [],
   "source": [
    "setwd(\"/data/wgcna/zhanghui_v3\")"
   ]
  },
  {
   "cell_type": "code",
   "execution_count": 4,
   "id": "4d617127-292a-4b16-bcc1-8be054cb26de",
   "metadata": {},
   "outputs": [],
   "source": [
    "# Read the gene fpkm table\n",
    "data0 = read.table(\"merged.tpm\", header = TRUE, sep = \"\\t\")"
   ]
  },
  {
   "cell_type": "code",
   "execution_count": 5,
   "id": "1f1d20c5-b2ba-4550-9952-27e1975866db",
   "metadata": {},
   "outputs": [
    {
     "data": {
      "text/html": [
       "<style>\n",
       ".list-inline {list-style: none; margin:0; padding: 0}\n",
       ".list-inline>li {display: inline-block}\n",
       ".list-inline>li:not(:last-child)::after {content: \"\\00b7\"; padding: 0 .5ex}\n",
       "</style>\n",
       "<ol class=list-inline><li>'target_id'</li><li>'hggt_10D_1'</li><li>'hggt_10D_2'</li><li>'hggt_10D_3'</li><li>'hggt_20D_1'</li><li>'hggt_20D_2'</li><li>'hggt_20D_3'</li><li>'WT_10D_1'</li><li>'WT_10D_2'</li><li>'WT_10D_3'</li><li>'WT_20D_1'</li><li>'WT_20D_2'</li><li>'WT_20D_3'</li></ol>\n"
      ],
      "text/latex": [
       "\\begin{enumerate*}\n",
       "\\item 'target\\_id'\n",
       "\\item 'hggt\\_10D\\_1'\n",
       "\\item 'hggt\\_10D\\_2'\n",
       "\\item 'hggt\\_10D\\_3'\n",
       "\\item 'hggt\\_20D\\_1'\n",
       "\\item 'hggt\\_20D\\_2'\n",
       "\\item 'hggt\\_20D\\_3'\n",
       "\\item 'WT\\_10D\\_1'\n",
       "\\item 'WT\\_10D\\_2'\n",
       "\\item 'WT\\_10D\\_3'\n",
       "\\item 'WT\\_20D\\_1'\n",
       "\\item 'WT\\_20D\\_2'\n",
       "\\item 'WT\\_20D\\_3'\n",
       "\\end{enumerate*}\n"
      ],
      "text/markdown": [
       "1. 'target_id'\n",
       "2. 'hggt_10D_1'\n",
       "3. 'hggt_10D_2'\n",
       "4. 'hggt_10D_3'\n",
       "5. 'hggt_20D_1'\n",
       "6. 'hggt_20D_2'\n",
       "7. 'hggt_20D_3'\n",
       "8. 'WT_10D_1'\n",
       "9. 'WT_10D_2'\n",
       "10. 'WT_10D_3'\n",
       "11. 'WT_20D_1'\n",
       "12. 'WT_20D_2'\n",
       "13. 'WT_20D_3'\n",
       "\n",
       "\n"
      ],
      "text/plain": [
       " [1] \"target_id\"  \"hggt_10D_1\" \"hggt_10D_2\" \"hggt_10D_3\" \"hggt_20D_1\"\n",
       " [6] \"hggt_20D_2\" \"hggt_20D_3\" \"WT_10D_1\"   \"WT_10D_2\"   \"WT_10D_3\"  \n",
       "[11] \"WT_20D_1\"   \"WT_20D_2\"   \"WT_20D_3\"  "
      ]
     },
     "metadata": {},
     "output_type": "display_data"
    }
   ],
   "source": [
    "colnames(data0)"
   ]
  },
  {
   "cell_type": "code",
   "execution_count": 6,
   "id": "a74a5e44-7525-4bee-9b54-612b2ef8379f",
   "metadata": {},
   "outputs": [],
   "source": [
    "colnames(data0) = c('target_id','hggt_8D_1','hggt_8D_2','hggt_8D_3',\n",
    "                    'hggt_16D_1','hggt_16D_2','hggt_16D_3',\n",
    "                    'WT_8D_1','WT_8D_2','WT_8D_3',\n",
    "                    'WT_16D_1','WT_16D_2','WT_16D_3')"
   ]
  },
  {
   "cell_type": "code",
   "execution_count": 7,
   "id": "e7c405f7-d3a2-41d8-b050-8574aa832e90",
   "metadata": {},
   "outputs": [
    {
     "data": {
      "text/html": [
       "<table class=\"dataframe\">\n",
       "<caption>A data.frame: 6 × 13</caption>\n",
       "<thead>\n",
       "\t<tr><th></th><th scope=col>target_id</th><th scope=col>hggt_8D_1</th><th scope=col>hggt_8D_2</th><th scope=col>hggt_8D_3</th><th scope=col>hggt_16D_1</th><th scope=col>hggt_16D_2</th><th scope=col>hggt_16D_3</th><th scope=col>WT_8D_1</th><th scope=col>WT_8D_2</th><th scope=col>WT_8D_3</th><th scope=col>WT_16D_1</th><th scope=col>WT_16D_2</th><th scope=col>WT_16D_3</th></tr>\n",
       "\t<tr><th></th><th scope=col>&lt;chr&gt;</th><th scope=col>&lt;dbl&gt;</th><th scope=col>&lt;dbl&gt;</th><th scope=col>&lt;dbl&gt;</th><th scope=col>&lt;dbl&gt;</th><th scope=col>&lt;dbl&gt;</th><th scope=col>&lt;dbl&gt;</th><th scope=col>&lt;dbl&gt;</th><th scope=col>&lt;dbl&gt;</th><th scope=col>&lt;dbl&gt;</th><th scope=col>&lt;dbl&gt;</th><th scope=col>&lt;dbl&gt;</th><th scope=col>&lt;dbl&gt;</th></tr>\n",
       "</thead>\n",
       "<tbody>\n",
       "\t<tr><th scope=row>1</th><td>HORVU.MOREX.r3.1HG0000030.1</td><td> 13.03070</td><td>  8.02224</td><td>  9.81177</td><td>  4.31599</td><td>  6.70822</td><td>  5.13413</td><td> 10.89640</td><td>  9.57887</td><td> 14.6837</td><td>  4.59355</td><td> 3.85278</td><td> 2.648220</td></tr>\n",
       "\t<tr><th scope=row>2</th><td>HORVU.MOREX.r3.1HG0000040.1</td><td> 47.18170</td><td> 41.46960</td><td> 47.92280</td><td> 24.49680</td><td> 23.47860</td><td> 23.64910</td><td> 55.25730</td><td> 51.12740</td><td> 49.2386</td><td> 13.37140</td><td> 9.42113</td><td> 9.950870</td></tr>\n",
       "\t<tr><th scope=row>3</th><td>HORVU.MOREX.r3.1HG0000050.1</td><td> 47.38270</td><td> 42.50090</td><td> 41.18810</td><td> 25.89890</td><td> 25.97290</td><td> 26.57840</td><td> 34.98360</td><td> 38.57170</td><td> 45.7351</td><td> 21.49450</td><td>20.82710</td><td>14.854400</td></tr>\n",
       "\t<tr><th scope=row>4</th><td>HORVU.MOREX.r3.1HG0000060.1</td><td> 22.32380</td><td> 18.64610</td><td> 21.87200</td><td>  8.92564</td><td>  7.67433</td><td>  9.51952</td><td> 19.81910</td><td> 17.22270</td><td> 14.3668</td><td>  5.03569</td><td> 3.75181</td><td> 4.667130</td></tr>\n",
       "\t<tr><th scope=row>5</th><td>HORVU.MOREX.r3.1HG0000070.1</td><td>345.73300</td><td>312.90300</td><td>344.57100</td><td>177.57500</td><td>155.68900</td><td>194.30700</td><td>328.87100</td><td>327.40400</td><td>316.6470</td><td>130.22500</td><td>92.81230</td><td>99.209500</td></tr>\n",
       "\t<tr><th scope=row>6</th><td>HORVU.MOREX.r3.1HG0000080.1</td><td>  1.92991</td><td>  1.82328</td><td>  2.50253</td><td>  1.67945</td><td>  1.06344</td><td>  1.45583</td><td>  2.14616</td><td>  1.60033</td><td>  1.3419</td><td>  1.23019</td><td> 0.89228</td><td> 0.945767</td></tr>\n",
       "</tbody>\n",
       "</table>\n"
      ],
      "text/latex": [
       "A data.frame: 6 × 13\n",
       "\\begin{tabular}{r|lllllllllllll}\n",
       "  & target\\_id & hggt\\_8D\\_1 & hggt\\_8D\\_2 & hggt\\_8D\\_3 & hggt\\_16D\\_1 & hggt\\_16D\\_2 & hggt\\_16D\\_3 & WT\\_8D\\_1 & WT\\_8D\\_2 & WT\\_8D\\_3 & WT\\_16D\\_1 & WT\\_16D\\_2 & WT\\_16D\\_3\\\\\n",
       "  & <chr> & <dbl> & <dbl> & <dbl> & <dbl> & <dbl> & <dbl> & <dbl> & <dbl> & <dbl> & <dbl> & <dbl> & <dbl>\\\\\n",
       "\\hline\n",
       "\t1 & HORVU.MOREX.r3.1HG0000030.1 &  13.03070 &   8.02224 &   9.81177 &   4.31599 &   6.70822 &   5.13413 &  10.89640 &   9.57887 &  14.6837 &   4.59355 &  3.85278 &  2.648220\\\\\n",
       "\t2 & HORVU.MOREX.r3.1HG0000040.1 &  47.18170 &  41.46960 &  47.92280 &  24.49680 &  23.47860 &  23.64910 &  55.25730 &  51.12740 &  49.2386 &  13.37140 &  9.42113 &  9.950870\\\\\n",
       "\t3 & HORVU.MOREX.r3.1HG0000050.1 &  47.38270 &  42.50090 &  41.18810 &  25.89890 &  25.97290 &  26.57840 &  34.98360 &  38.57170 &  45.7351 &  21.49450 & 20.82710 & 14.854400\\\\\n",
       "\t4 & HORVU.MOREX.r3.1HG0000060.1 &  22.32380 &  18.64610 &  21.87200 &   8.92564 &   7.67433 &   9.51952 &  19.81910 &  17.22270 &  14.3668 &   5.03569 &  3.75181 &  4.667130\\\\\n",
       "\t5 & HORVU.MOREX.r3.1HG0000070.1 & 345.73300 & 312.90300 & 344.57100 & 177.57500 & 155.68900 & 194.30700 & 328.87100 & 327.40400 & 316.6470 & 130.22500 & 92.81230 & 99.209500\\\\\n",
       "\t6 & HORVU.MOREX.r3.1HG0000080.1 &   1.92991 &   1.82328 &   2.50253 &   1.67945 &   1.06344 &   1.45583 &   2.14616 &   1.60033 &   1.3419 &   1.23019 &  0.89228 &  0.945767\\\\\n",
       "\\end{tabular}\n"
      ],
      "text/markdown": [
       "\n",
       "A data.frame: 6 × 13\n",
       "\n",
       "| <!--/--> | target_id &lt;chr&gt; | hggt_8D_1 &lt;dbl&gt; | hggt_8D_2 &lt;dbl&gt; | hggt_8D_3 &lt;dbl&gt; | hggt_16D_1 &lt;dbl&gt; | hggt_16D_2 &lt;dbl&gt; | hggt_16D_3 &lt;dbl&gt; | WT_8D_1 &lt;dbl&gt; | WT_8D_2 &lt;dbl&gt; | WT_8D_3 &lt;dbl&gt; | WT_16D_1 &lt;dbl&gt; | WT_16D_2 &lt;dbl&gt; | WT_16D_3 &lt;dbl&gt; |\n",
       "|---|---|---|---|---|---|---|---|---|---|---|---|---|---|\n",
       "| 1 | HORVU.MOREX.r3.1HG0000030.1 |  13.03070 |   8.02224 |   9.81177 |   4.31599 |   6.70822 |   5.13413 |  10.89640 |   9.57887 |  14.6837 |   4.59355 |  3.85278 |  2.648220 |\n",
       "| 2 | HORVU.MOREX.r3.1HG0000040.1 |  47.18170 |  41.46960 |  47.92280 |  24.49680 |  23.47860 |  23.64910 |  55.25730 |  51.12740 |  49.2386 |  13.37140 |  9.42113 |  9.950870 |\n",
       "| 3 | HORVU.MOREX.r3.1HG0000050.1 |  47.38270 |  42.50090 |  41.18810 |  25.89890 |  25.97290 |  26.57840 |  34.98360 |  38.57170 |  45.7351 |  21.49450 | 20.82710 | 14.854400 |\n",
       "| 4 | HORVU.MOREX.r3.1HG0000060.1 |  22.32380 |  18.64610 |  21.87200 |   8.92564 |   7.67433 |   9.51952 |  19.81910 |  17.22270 |  14.3668 |   5.03569 |  3.75181 |  4.667130 |\n",
       "| 5 | HORVU.MOREX.r3.1HG0000070.1 | 345.73300 | 312.90300 | 344.57100 | 177.57500 | 155.68900 | 194.30700 | 328.87100 | 327.40400 | 316.6470 | 130.22500 | 92.81230 | 99.209500 |\n",
       "| 6 | HORVU.MOREX.r3.1HG0000080.1 |   1.92991 |   1.82328 |   2.50253 |   1.67945 |   1.06344 |   1.45583 |   2.14616 |   1.60033 |   1.3419 |   1.23019 |  0.89228 |  0.945767 |\n",
       "\n"
      ],
      "text/plain": [
       "  target_id                   hggt_8D_1 hggt_8D_2 hggt_8D_3 hggt_16D_1\n",
       "1 HORVU.MOREX.r3.1HG0000030.1  13.03070   8.02224   9.81177   4.31599 \n",
       "2 HORVU.MOREX.r3.1HG0000040.1  47.18170  41.46960  47.92280  24.49680 \n",
       "3 HORVU.MOREX.r3.1HG0000050.1  47.38270  42.50090  41.18810  25.89890 \n",
       "4 HORVU.MOREX.r3.1HG0000060.1  22.32380  18.64610  21.87200   8.92564 \n",
       "5 HORVU.MOREX.r3.1HG0000070.1 345.73300 312.90300 344.57100 177.57500 \n",
       "6 HORVU.MOREX.r3.1HG0000080.1   1.92991   1.82328   2.50253   1.67945 \n",
       "  hggt_16D_2 hggt_16D_3 WT_8D_1   WT_8D_2   WT_8D_3  WT_16D_1  WT_16D_2\n",
       "1   6.70822    5.13413   10.89640   9.57887  14.6837   4.59355  3.85278\n",
       "2  23.47860   23.64910   55.25730  51.12740  49.2386  13.37140  9.42113\n",
       "3  25.97290   26.57840   34.98360  38.57170  45.7351  21.49450 20.82710\n",
       "4   7.67433    9.51952   19.81910  17.22270  14.3668   5.03569  3.75181\n",
       "5 155.68900  194.30700  328.87100 327.40400 316.6470 130.22500 92.81230\n",
       "6   1.06344    1.45583    2.14616   1.60033   1.3419   1.23019  0.89228\n",
       "  WT_16D_3 \n",
       "1  2.648220\n",
       "2  9.950870\n",
       "3 14.854400\n",
       "4  4.667130\n",
       "5 99.209500\n",
       "6  0.945767"
      ]
     },
     "metadata": {},
     "output_type": "display_data"
    }
   ],
   "source": [
    "head(data0)"
   ]
  },
  {
   "cell_type": "code",
   "execution_count": 8,
   "id": "0fd1a207-2654-40d7-a09a-fb0a4e4e46d1",
   "metadata": {},
   "outputs": [
    {
     "data": {
      "text/html": [
       "<style>\n",
       ".list-inline {list-style: none; margin:0; padding: 0}\n",
       ".list-inline>li {display: inline-block}\n",
       ".list-inline>li:not(:last-child)::after {content: \"\\00b7\"; padding: 0 .5ex}\n",
       "</style>\n",
       "<ol class=list-inline><li>37963</li><li>13</li></ol>\n"
      ],
      "text/latex": [
       "\\begin{enumerate*}\n",
       "\\item 37963\n",
       "\\item 13\n",
       "\\end{enumerate*}\n"
      ],
      "text/markdown": [
       "1. 37963\n",
       "2. 13\n",
       "\n",
       "\n"
      ],
      "text/plain": [
       "[1] 37963    13"
      ]
     },
     "metadata": {},
     "output_type": "display_data"
    }
   ],
   "source": [
    "dim(data0)"
   ]
  },
  {
   "cell_type": "code",
   "execution_count": 9,
   "id": "2ca686ea-a498-4b87-acc5-15482d51baee",
   "metadata": {},
   "outputs": [
    {
     "data": {
      "text/html": [
       "<table class=\"dataframe\">\n",
       "<caption>A matrix: 6 × 37963 of type dbl</caption>\n",
       "<thead>\n",
       "\t<tr><th></th><th scope=col>HORVU.MOREX.r3.1HG0000030.1</th><th scope=col>HORVU.MOREX.r3.1HG0000040.1</th><th scope=col>HORVU.MOREX.r3.1HG0000050.1</th><th scope=col>HORVU.MOREX.r3.1HG0000060.1</th><th scope=col>HORVU.MOREX.r3.1HG0000070.1</th><th scope=col>HORVU.MOREX.r3.1HG0000080.1</th><th scope=col>HORVU.MOREX.r3.1HG0000090.1</th><th scope=col>HORVU.MOREX.r3.1HG0000110.1</th><th scope=col>HORVU.MOREX.r3.1HG0000130.1</th><th scope=col>HORVU.MOREX.r3.1HG0000140.1</th><th scope=col>⋯</th><th scope=col>HORVU.MOREX.r3.UnG0815770.1</th><th scope=col>HORVU.MOREX.r3.UnG0815900.1</th><th scope=col>HORVU.MOREX.r3.UnG0816010.1</th><th scope=col>HORVU.MOREX.r3.UnG0816020.1</th><th scope=col>HORVU.MOREX.r3.UnG0816040.1</th><th scope=col>HORVU.MOREX.r3.UnG0816160.1</th><th scope=col>HORVU.MOREX.r3.UnG0816310.1</th><th scope=col>HORVU.MOREX.r3.UnG0816320.1</th><th scope=col>HORVU.MOREX.r3.UnG0816490.1</th><th scope=col>HORVU.MOREX.r3.UnG0816610.1</th></tr>\n",
       "</thead>\n",
       "<tbody>\n",
       "\t<tr><th scope=row>hggt_8D_1</th><td>13.03070</td><td>47.1817</td><td>47.3827</td><td>22.32380</td><td>345.733</td><td>1.92991</td><td>3.18166</td><td>11.46600</td><td>60.8678</td><td>25.5635</td><td>⋯</td><td>0.2269500</td><td>0</td><td>0</td><td>0</td><td>0.001157840</td><td>0</td><td>0.2269500</td><td>0</td><td>0.0396612</td><td>0</td></tr>\n",
       "\t<tr><th scope=row>hggt_8D_2</th><td> 8.02224</td><td>41.4696</td><td>42.5009</td><td>18.64610</td><td>312.903</td><td>1.82328</td><td>3.21960</td><td>12.24510</td><td>53.3122</td><td>20.8341</td><td>⋯</td><td>0.1258870</td><td>0</td><td>0</td><td>0</td><td>0.000207479</td><td>0</td><td>0.1258870</td><td>0</td><td>0.0326679</td><td>0</td></tr>\n",
       "\t<tr><th scope=row>hggt_8D_3</th><td> 9.81177</td><td>47.9228</td><td>41.1881</td><td>21.87200</td><td>344.571</td><td>2.50253</td><td>3.56736</td><td>12.55190</td><td>62.5327</td><td>25.3633</td><td>⋯</td><td>0.1292130</td><td>0</td><td>0</td><td>0</td><td>0.000000000</td><td>0</td><td>0.1292130</td><td>0</td><td>0.0552127</td><td>0</td></tr>\n",
       "\t<tr><th scope=row>hggt_16D_1</th><td> 4.31599</td><td>24.4968</td><td>25.8989</td><td> 8.92564</td><td>177.575</td><td>1.67945</td><td>2.01375</td><td> 8.93963</td><td>34.5973</td><td>10.9870</td><td>⋯</td><td>0.0590349</td><td>0</td><td>0</td><td>0</td><td>0.003808600</td><td>0</td><td>0.0590349</td><td>0</td><td>0.0197909</td><td>0</td></tr>\n",
       "\t<tr><th scope=row>hggt_16D_2</th><td> 6.70822</td><td>23.4786</td><td>25.9729</td><td> 7.67433</td><td>155.689</td><td>1.06344</td><td>2.00732</td><td> 7.63070</td><td>32.0121</td><td>10.6602</td><td>⋯</td><td>0.1480690</td><td>0</td><td>0</td><td>0</td><td>0.000000000</td><td>0</td><td>0.1480690</td><td>0</td><td>0.0227355</td><td>0</td></tr>\n",
       "\t<tr><th scope=row>hggt_16D_3</th><td> 5.13413</td><td>23.6491</td><td>26.5784</td><td> 9.51952</td><td>194.307</td><td>1.45583</td><td>1.75644</td><td> 8.03434</td><td>35.8602</td><td>11.5101</td><td>⋯</td><td>0.1700960</td><td>0</td><td>0</td><td>0</td><td>0.054317400</td><td>0</td><td>0.1700960</td><td>0</td><td>0.0542089</td><td>0</td></tr>\n",
       "</tbody>\n",
       "</table>\n"
      ],
      "text/latex": [
       "A matrix: 6 × 37963 of type dbl\n",
       "\\begin{tabular}{r|lllllllllllllllllllll}\n",
       "  & HORVU.MOREX.r3.1HG0000030.1 & HORVU.MOREX.r3.1HG0000040.1 & HORVU.MOREX.r3.1HG0000050.1 & HORVU.MOREX.r3.1HG0000060.1 & HORVU.MOREX.r3.1HG0000070.1 & HORVU.MOREX.r3.1HG0000080.1 & HORVU.MOREX.r3.1HG0000090.1 & HORVU.MOREX.r3.1HG0000110.1 & HORVU.MOREX.r3.1HG0000130.1 & HORVU.MOREX.r3.1HG0000140.1 & ⋯ & HORVU.MOREX.r3.UnG0815770.1 & HORVU.MOREX.r3.UnG0815900.1 & HORVU.MOREX.r3.UnG0816010.1 & HORVU.MOREX.r3.UnG0816020.1 & HORVU.MOREX.r3.UnG0816040.1 & HORVU.MOREX.r3.UnG0816160.1 & HORVU.MOREX.r3.UnG0816310.1 & HORVU.MOREX.r3.UnG0816320.1 & HORVU.MOREX.r3.UnG0816490.1 & HORVU.MOREX.r3.UnG0816610.1\\\\\n",
       "\\hline\n",
       "\thggt\\_8D\\_1 & 13.03070 & 47.1817 & 47.3827 & 22.32380 & 345.733 & 1.92991 & 3.18166 & 11.46600 & 60.8678 & 25.5635 & ⋯ & 0.2269500 & 0 & 0 & 0 & 0.001157840 & 0 & 0.2269500 & 0 & 0.0396612 & 0\\\\\n",
       "\thggt\\_8D\\_2 &  8.02224 & 41.4696 & 42.5009 & 18.64610 & 312.903 & 1.82328 & 3.21960 & 12.24510 & 53.3122 & 20.8341 & ⋯ & 0.1258870 & 0 & 0 & 0 & 0.000207479 & 0 & 0.1258870 & 0 & 0.0326679 & 0\\\\\n",
       "\thggt\\_8D\\_3 &  9.81177 & 47.9228 & 41.1881 & 21.87200 & 344.571 & 2.50253 & 3.56736 & 12.55190 & 62.5327 & 25.3633 & ⋯ & 0.1292130 & 0 & 0 & 0 & 0.000000000 & 0 & 0.1292130 & 0 & 0.0552127 & 0\\\\\n",
       "\thggt\\_16D\\_1 &  4.31599 & 24.4968 & 25.8989 &  8.92564 & 177.575 & 1.67945 & 2.01375 &  8.93963 & 34.5973 & 10.9870 & ⋯ & 0.0590349 & 0 & 0 & 0 & 0.003808600 & 0 & 0.0590349 & 0 & 0.0197909 & 0\\\\\n",
       "\thggt\\_16D\\_2 &  6.70822 & 23.4786 & 25.9729 &  7.67433 & 155.689 & 1.06344 & 2.00732 &  7.63070 & 32.0121 & 10.6602 & ⋯ & 0.1480690 & 0 & 0 & 0 & 0.000000000 & 0 & 0.1480690 & 0 & 0.0227355 & 0\\\\\n",
       "\thggt\\_16D\\_3 &  5.13413 & 23.6491 & 26.5784 &  9.51952 & 194.307 & 1.45583 & 1.75644 &  8.03434 & 35.8602 & 11.5101 & ⋯ & 0.1700960 & 0 & 0 & 0 & 0.054317400 & 0 & 0.1700960 & 0 & 0.0542089 & 0\\\\\n",
       "\\end{tabular}\n"
      ],
      "text/markdown": [
       "\n",
       "A matrix: 6 × 37963 of type dbl\n",
       "\n",
       "| <!--/--> | HORVU.MOREX.r3.1HG0000030.1 | HORVU.MOREX.r3.1HG0000040.1 | HORVU.MOREX.r3.1HG0000050.1 | HORVU.MOREX.r3.1HG0000060.1 | HORVU.MOREX.r3.1HG0000070.1 | HORVU.MOREX.r3.1HG0000080.1 | HORVU.MOREX.r3.1HG0000090.1 | HORVU.MOREX.r3.1HG0000110.1 | HORVU.MOREX.r3.1HG0000130.1 | HORVU.MOREX.r3.1HG0000140.1 | ⋯ | HORVU.MOREX.r3.UnG0815770.1 | HORVU.MOREX.r3.UnG0815900.1 | HORVU.MOREX.r3.UnG0816010.1 | HORVU.MOREX.r3.UnG0816020.1 | HORVU.MOREX.r3.UnG0816040.1 | HORVU.MOREX.r3.UnG0816160.1 | HORVU.MOREX.r3.UnG0816310.1 | HORVU.MOREX.r3.UnG0816320.1 | HORVU.MOREX.r3.UnG0816490.1 | HORVU.MOREX.r3.UnG0816610.1 |\n",
       "|---|---|---|---|---|---|---|---|---|---|---|---|---|---|---|---|---|---|---|---|---|---|\n",
       "| hggt_8D_1 | 13.03070 | 47.1817 | 47.3827 | 22.32380 | 345.733 | 1.92991 | 3.18166 | 11.46600 | 60.8678 | 25.5635 | ⋯ | 0.2269500 | 0 | 0 | 0 | 0.001157840 | 0 | 0.2269500 | 0 | 0.0396612 | 0 |\n",
       "| hggt_8D_2 |  8.02224 | 41.4696 | 42.5009 | 18.64610 | 312.903 | 1.82328 | 3.21960 | 12.24510 | 53.3122 | 20.8341 | ⋯ | 0.1258870 | 0 | 0 | 0 | 0.000207479 | 0 | 0.1258870 | 0 | 0.0326679 | 0 |\n",
       "| hggt_8D_3 |  9.81177 | 47.9228 | 41.1881 | 21.87200 | 344.571 | 2.50253 | 3.56736 | 12.55190 | 62.5327 | 25.3633 | ⋯ | 0.1292130 | 0 | 0 | 0 | 0.000000000 | 0 | 0.1292130 | 0 | 0.0552127 | 0 |\n",
       "| hggt_16D_1 |  4.31599 | 24.4968 | 25.8989 |  8.92564 | 177.575 | 1.67945 | 2.01375 |  8.93963 | 34.5973 | 10.9870 | ⋯ | 0.0590349 | 0 | 0 | 0 | 0.003808600 | 0 | 0.0590349 | 0 | 0.0197909 | 0 |\n",
       "| hggt_16D_2 |  6.70822 | 23.4786 | 25.9729 |  7.67433 | 155.689 | 1.06344 | 2.00732 |  7.63070 | 32.0121 | 10.6602 | ⋯ | 0.1480690 | 0 | 0 | 0 | 0.000000000 | 0 | 0.1480690 | 0 | 0.0227355 | 0 |\n",
       "| hggt_16D_3 |  5.13413 | 23.6491 | 26.5784 |  9.51952 | 194.307 | 1.45583 | 1.75644 |  8.03434 | 35.8602 | 11.5101 | ⋯ | 0.1700960 | 0 | 0 | 0 | 0.054317400 | 0 | 0.1700960 | 0 | 0.0542089 | 0 |\n",
       "\n"
      ],
      "text/plain": [
       "           HORVU.MOREX.r3.1HG0000030.1 HORVU.MOREX.r3.1HG0000040.1\n",
       "hggt_8D_1  13.03070                    47.1817                    \n",
       "hggt_8D_2   8.02224                    41.4696                    \n",
       "hggt_8D_3   9.81177                    47.9228                    \n",
       "hggt_16D_1  4.31599                    24.4968                    \n",
       "hggt_16D_2  6.70822                    23.4786                    \n",
       "hggt_16D_3  5.13413                    23.6491                    \n",
       "           HORVU.MOREX.r3.1HG0000050.1 HORVU.MOREX.r3.1HG0000060.1\n",
       "hggt_8D_1  47.3827                     22.32380                   \n",
       "hggt_8D_2  42.5009                     18.64610                   \n",
       "hggt_8D_3  41.1881                     21.87200                   \n",
       "hggt_16D_1 25.8989                      8.92564                   \n",
       "hggt_16D_2 25.9729                      7.67433                   \n",
       "hggt_16D_3 26.5784                      9.51952                   \n",
       "           HORVU.MOREX.r3.1HG0000070.1 HORVU.MOREX.r3.1HG0000080.1\n",
       "hggt_8D_1  345.733                     1.92991                    \n",
       "hggt_8D_2  312.903                     1.82328                    \n",
       "hggt_8D_3  344.571                     2.50253                    \n",
       "hggt_16D_1 177.575                     1.67945                    \n",
       "hggt_16D_2 155.689                     1.06344                    \n",
       "hggt_16D_3 194.307                     1.45583                    \n",
       "           HORVU.MOREX.r3.1HG0000090.1 HORVU.MOREX.r3.1HG0000110.1\n",
       "hggt_8D_1  3.18166                     11.46600                   \n",
       "hggt_8D_2  3.21960                     12.24510                   \n",
       "hggt_8D_3  3.56736                     12.55190                   \n",
       "hggt_16D_1 2.01375                      8.93963                   \n",
       "hggt_16D_2 2.00732                      7.63070                   \n",
       "hggt_16D_3 1.75644                      8.03434                   \n",
       "           HORVU.MOREX.r3.1HG0000130.1 HORVU.MOREX.r3.1HG0000140.1 ⋯\n",
       "hggt_8D_1  60.8678                     25.5635                     ⋯\n",
       "hggt_8D_2  53.3122                     20.8341                     ⋯\n",
       "hggt_8D_3  62.5327                     25.3633                     ⋯\n",
       "hggt_16D_1 34.5973                     10.9870                     ⋯\n",
       "hggt_16D_2 32.0121                     10.6602                     ⋯\n",
       "hggt_16D_3 35.8602                     11.5101                     ⋯\n",
       "           HORVU.MOREX.r3.UnG0815770.1 HORVU.MOREX.r3.UnG0815900.1\n",
       "hggt_8D_1  0.2269500                   0                          \n",
       "hggt_8D_2  0.1258870                   0                          \n",
       "hggt_8D_3  0.1292130                   0                          \n",
       "hggt_16D_1 0.0590349                   0                          \n",
       "hggt_16D_2 0.1480690                   0                          \n",
       "hggt_16D_3 0.1700960                   0                          \n",
       "           HORVU.MOREX.r3.UnG0816010.1 HORVU.MOREX.r3.UnG0816020.1\n",
       "hggt_8D_1  0                           0                          \n",
       "hggt_8D_2  0                           0                          \n",
       "hggt_8D_3  0                           0                          \n",
       "hggt_16D_1 0                           0                          \n",
       "hggt_16D_2 0                           0                          \n",
       "hggt_16D_3 0                           0                          \n",
       "           HORVU.MOREX.r3.UnG0816040.1 HORVU.MOREX.r3.UnG0816160.1\n",
       "hggt_8D_1  0.001157840                 0                          \n",
       "hggt_8D_2  0.000207479                 0                          \n",
       "hggt_8D_3  0.000000000                 0                          \n",
       "hggt_16D_1 0.003808600                 0                          \n",
       "hggt_16D_2 0.000000000                 0                          \n",
       "hggt_16D_3 0.054317400                 0                          \n",
       "           HORVU.MOREX.r3.UnG0816310.1 HORVU.MOREX.r3.UnG0816320.1\n",
       "hggt_8D_1  0.2269500                   0                          \n",
       "hggt_8D_2  0.1258870                   0                          \n",
       "hggt_8D_3  0.1292130                   0                          \n",
       "hggt_16D_1 0.0590349                   0                          \n",
       "hggt_16D_2 0.1480690                   0                          \n",
       "hggt_16D_3 0.1700960                   0                          \n",
       "           HORVU.MOREX.r3.UnG0816490.1 HORVU.MOREX.r3.UnG0816610.1\n",
       "hggt_8D_1  0.0396612                   0                          \n",
       "hggt_8D_2  0.0326679                   0                          \n",
       "hggt_8D_3  0.0552127                   0                          \n",
       "hggt_16D_1 0.0197909                   0                          \n",
       "hggt_16D_2 0.0227355                   0                          \n",
       "hggt_16D_3 0.0542089                   0                          "
      ]
     },
     "metadata": {},
     "output_type": "display_data"
    }
   ],
   "source": [
    "datExpr0 = as.data.frame(data0[, -c(1)]) ##\n",
    "rownames(datExpr0) = data0$target_id\n",
    "datExpr0 = t(datExpr0)\n",
    "head(datExpr0)"
   ]
  },
  {
   "cell_type": "code",
   "execution_count": 10,
   "id": "1d322e96-ddfe-4609-afeb-9c0ed83c3f31",
   "metadata": {},
   "outputs": [
    {
     "data": {
      "text/html": [
       "<style>\n",
       ".list-inline {list-style: none; margin:0; padding: 0}\n",
       ".list-inline>li {display: inline-block}\n",
       ".list-inline>li:not(:last-child)::after {content: \"\\00b7\"; padding: 0 .5ex}\n",
       "</style>\n",
       "<ol class=list-inline><li>12</li><li>37963</li></ol>\n"
      ],
      "text/latex": [
       "\\begin{enumerate*}\n",
       "\\item 12\n",
       "\\item 37963\n",
       "\\end{enumerate*}\n"
      ],
      "text/markdown": [
       "1. 12\n",
       "2. 37963\n",
       "\n",
       "\n"
      ],
      "text/plain": [
       "[1]    12 37963"
      ]
     },
     "metadata": {},
     "output_type": "display_data"
    }
   ],
   "source": [
    "dim(datExpr0)"
   ]
  },
  {
   "cell_type": "code",
   "execution_count": 11,
   "id": "3d4ab2b2-d55c-4447-aad4-09bc6552fc76",
   "metadata": {},
   "outputs": [
    {
     "name": "stdout",
     "output_type": "stream",
     "text": [
      " Flagging genes and samples with too many missing values...\n",
      "  ..step 1\n",
      "  ..Excluding 9438 genes from the calculation due to too many missing samples or zero variance.\n",
      "  ..step 2\n",
      "Removing genes: \n"
     ]
    }
   ],
   "source": [
    "gsg = goodSamplesGenes(datExpr0, verbose = 3)\n",
    "if (!gsg$allOK)\n",
    "{\n",
    "# Optionally, print the gene and sample names that were removed:\n",
    "if (sum(!gsg$goodGenes)>0)\n",
    "printFlush(paste(\"Removing genes:\", paste(names(datExpr0)[!gsg$goodGenes], collapse = \", \")));\n",
    "if (sum(!gsg$goodSamples)>0)\n",
    "printFlush(paste(\"Removing samples:\", paste(rownames(datExpr0)[!gsg$goodSamples], collapse = \", \")));\n",
    "# Remove the offending genes and samples from the data:\n",
    "datExpr0 = datExpr0[gsg$goodSamples, gsg$goodGenes]\n",
    "}"
   ]
  },
  {
   "cell_type": "code",
   "execution_count": 12,
   "id": "71d56e73-a0da-474a-b633-ca496d797b1a",
   "metadata": {},
   "outputs": [
    {
     "data": {
      "text/html": [
       "<style>\n",
       ".list-inline {list-style: none; margin:0; padding: 0}\n",
       ".list-inline>li {display: inline-block}\n",
       ".list-inline>li:not(:last-child)::after {content: \"\\00b7\"; padding: 0 .5ex}\n",
       "</style>\n",
       "<ol class=list-inline><li>12</li><li>28525</li></ol>\n"
      ],
      "text/latex": [
       "\\begin{enumerate*}\n",
       "\\item 12\n",
       "\\item 28525\n",
       "\\end{enumerate*}\n"
      ],
      "text/markdown": [
       "1. 12\n",
       "2. 28525\n",
       "\n",
       "\n"
      ],
      "text/plain": [
       "[1]    12 28525"
      ]
     },
     "metadata": {},
     "output_type": "display_data"
    }
   ],
   "source": [
    "datExpr = log2(datExpr0+1)\n",
    "dim(datExpr)"
   ]
  },
  {
   "cell_type": "code",
   "execution_count": 13,
   "id": "f2844db5-927d-4356-83f8-7cb941ede8bc",
   "metadata": {},
   "outputs": [
    {
     "data": {
      "text/html": [
       "<table class=\"dataframe\">\n",
       "<caption>A matrix: 6 × 28525 of type dbl</caption>\n",
       "<thead>\n",
       "\t<tr><th></th><th scope=col>HORVU.MOREX.r3.1HG0000030.1</th><th scope=col>HORVU.MOREX.r3.1HG0000040.1</th><th scope=col>HORVU.MOREX.r3.1HG0000050.1</th><th scope=col>HORVU.MOREX.r3.1HG0000060.1</th><th scope=col>HORVU.MOREX.r3.1HG0000070.1</th><th scope=col>HORVU.MOREX.r3.1HG0000080.1</th><th scope=col>HORVU.MOREX.r3.1HG0000090.1</th><th scope=col>HORVU.MOREX.r3.1HG0000110.1</th><th scope=col>HORVU.MOREX.r3.1HG0000130.1</th><th scope=col>HORVU.MOREX.r3.1HG0000140.1</th><th scope=col>⋯</th><th scope=col>HORVU.MOREX.r3.UnG0815590.1</th><th scope=col>HORVU.MOREX.r3.UnG0815640.1</th><th scope=col>HORVU.MOREX.r3.UnG0815660.1</th><th scope=col>HORVU.MOREX.r3.UnG0815680.1</th><th scope=col>HORVU.MOREX.r3.UnG0815710.1</th><th scope=col>HORVU.MOREX.r3.UnG0815720.1</th><th scope=col>HORVU.MOREX.r3.UnG0815770.1</th><th scope=col>HORVU.MOREX.r3.UnG0816040.1</th><th scope=col>HORVU.MOREX.r3.UnG0816310.1</th><th scope=col>HORVU.MOREX.r3.UnG0816490.1</th></tr>\n",
       "</thead>\n",
       "<tbody>\n",
       "\t<tr><th scope=row>hggt_8D_1</th><td>3.810515</td><td>5.590413</td><td>5.596419</td><td>4.543731</td><td>8.437681</td><td>1.550856</td><td>2.064076</td><td>3.639927</td><td>5.951117</td><td>4.731373</td><td>⋯</td><td>0.29507646</td><td>0.05306642</td><td>0.021704713</td><td>0.20503336</td><td>0.1373347</td><td>0.08532009</td><td>0.29507646</td><td>0.0016694437</td><td>0.29507646</td><td>0.05611347</td></tr>\n",
       "\t<tr><th scope=row>hggt_8D_2</th><td>3.173486</td><td>5.408359</td><td>5.442973</td><td>4.296171</td><td>8.294175</td><td>1.497372</td><td>2.077106</td><td>3.727387</td><td>5.763204</td><td>4.448511</td><td>⋯</td><td>0.17106204</td><td>0.02294172</td><td>0.021508012</td><td>0.00000000</td><td>0.1004653</td><td>0.08456368</td><td>0.17106204</td><td>0.0002992979</td><td>0.17106204</td><td>0.04637637</td></tr>\n",
       "\t<tr><th scope=row>hggt_8D_3</th><td>3.434531</td><td>5.612435</td><td>5.398764</td><td>4.515511</td><td>8.432838</td><td>1.808397</td><td>2.191361</td><td>3.760423</td><td>5.989427</td><td>4.720459</td><td>⋯</td><td>0.17531764</td><td>0.03424896</td><td>0.037702004</td><td>0.09629330</td><td>0.1005354</td><td>0.04286605</td><td>0.17531764</td><td>0.0000000000</td><td>0.17531764</td><td>0.07753383</td></tr>\n",
       "\t<tr><th scope=row>hggt_16D_1</th><td>2.410338</td><td>4.672244</td><td>4.749475</td><td>3.311160</td><td>7.480386</td><td>1.421937</td><td>1.591560</td><td>3.313192</td><td>5.153696</td><td>3.583399</td><td>⋯</td><td>0.08275013</td><td>0.00000000</td><td>0.000000000</td><td>0.02019253</td><td>0.0193152</td><td>0.08041058</td><td>0.08275013</td><td>0.0054842114</td><td>0.08275013</td><td>0.02827337</td></tr>\n",
       "\t<tr><th scope=row>hggt_16D_2</th><td>2.946398</td><td>4.613449</td><td>4.753439</td><td>3.116752</td><td>7.291760</td><td>1.045051</td><td>1.588478</td><td>3.109478</td><td>5.044923</td><td>3.543521</td><td>⋯</td><td>0.19920935</td><td>0.02290693</td><td>0.006168511</td><td>0.06471030</td><td>0.1365588</td><td>0.10735846</td><td>0.19920935</td><td>0.0000000000</td><td>0.19920935</td><td>0.03243308</td></tr>\n",
       "\t<tr><th scope=row>hggt_16D_3</th><td>2.616859</td><td>4.623463</td><td>4.785467</td><td>3.394997</td><td>7.609600</td><td>1.296211</td><td>1.462806</td><td>3.175419</td><td>5.203992</td><td>3.645021</td><td>⋯</td><td>0.22662690</td><td>0.03364233</td><td>0.021651561</td><td>0.08308562</td><td>0.1440633</td><td>0.18814262</td><td>0.22662690</td><td>0.0763092526</td><td>0.22662690</td><td>0.07616078</td></tr>\n",
       "</tbody>\n",
       "</table>\n"
      ],
      "text/latex": [
       "A matrix: 6 × 28525 of type dbl\n",
       "\\begin{tabular}{r|lllllllllllllllllllll}\n",
       "  & HORVU.MOREX.r3.1HG0000030.1 & HORVU.MOREX.r3.1HG0000040.1 & HORVU.MOREX.r3.1HG0000050.1 & HORVU.MOREX.r3.1HG0000060.1 & HORVU.MOREX.r3.1HG0000070.1 & HORVU.MOREX.r3.1HG0000080.1 & HORVU.MOREX.r3.1HG0000090.1 & HORVU.MOREX.r3.1HG0000110.1 & HORVU.MOREX.r3.1HG0000130.1 & HORVU.MOREX.r3.1HG0000140.1 & ⋯ & HORVU.MOREX.r3.UnG0815590.1 & HORVU.MOREX.r3.UnG0815640.1 & HORVU.MOREX.r3.UnG0815660.1 & HORVU.MOREX.r3.UnG0815680.1 & HORVU.MOREX.r3.UnG0815710.1 & HORVU.MOREX.r3.UnG0815720.1 & HORVU.MOREX.r3.UnG0815770.1 & HORVU.MOREX.r3.UnG0816040.1 & HORVU.MOREX.r3.UnG0816310.1 & HORVU.MOREX.r3.UnG0816490.1\\\\\n",
       "\\hline\n",
       "\thggt\\_8D\\_1 & 3.810515 & 5.590413 & 5.596419 & 4.543731 & 8.437681 & 1.550856 & 2.064076 & 3.639927 & 5.951117 & 4.731373 & ⋯ & 0.29507646 & 0.05306642 & 0.021704713 & 0.20503336 & 0.1373347 & 0.08532009 & 0.29507646 & 0.0016694437 & 0.29507646 & 0.05611347\\\\\n",
       "\thggt\\_8D\\_2 & 3.173486 & 5.408359 & 5.442973 & 4.296171 & 8.294175 & 1.497372 & 2.077106 & 3.727387 & 5.763204 & 4.448511 & ⋯ & 0.17106204 & 0.02294172 & 0.021508012 & 0.00000000 & 0.1004653 & 0.08456368 & 0.17106204 & 0.0002992979 & 0.17106204 & 0.04637637\\\\\n",
       "\thggt\\_8D\\_3 & 3.434531 & 5.612435 & 5.398764 & 4.515511 & 8.432838 & 1.808397 & 2.191361 & 3.760423 & 5.989427 & 4.720459 & ⋯ & 0.17531764 & 0.03424896 & 0.037702004 & 0.09629330 & 0.1005354 & 0.04286605 & 0.17531764 & 0.0000000000 & 0.17531764 & 0.07753383\\\\\n",
       "\thggt\\_16D\\_1 & 2.410338 & 4.672244 & 4.749475 & 3.311160 & 7.480386 & 1.421937 & 1.591560 & 3.313192 & 5.153696 & 3.583399 & ⋯ & 0.08275013 & 0.00000000 & 0.000000000 & 0.02019253 & 0.0193152 & 0.08041058 & 0.08275013 & 0.0054842114 & 0.08275013 & 0.02827337\\\\\n",
       "\thggt\\_16D\\_2 & 2.946398 & 4.613449 & 4.753439 & 3.116752 & 7.291760 & 1.045051 & 1.588478 & 3.109478 & 5.044923 & 3.543521 & ⋯ & 0.19920935 & 0.02290693 & 0.006168511 & 0.06471030 & 0.1365588 & 0.10735846 & 0.19920935 & 0.0000000000 & 0.19920935 & 0.03243308\\\\\n",
       "\thggt\\_16D\\_3 & 2.616859 & 4.623463 & 4.785467 & 3.394997 & 7.609600 & 1.296211 & 1.462806 & 3.175419 & 5.203992 & 3.645021 & ⋯ & 0.22662690 & 0.03364233 & 0.021651561 & 0.08308562 & 0.1440633 & 0.18814262 & 0.22662690 & 0.0763092526 & 0.22662690 & 0.07616078\\\\\n",
       "\\end{tabular}\n"
      ],
      "text/markdown": [
       "\n",
       "A matrix: 6 × 28525 of type dbl\n",
       "\n",
       "| <!--/--> | HORVU.MOREX.r3.1HG0000030.1 | HORVU.MOREX.r3.1HG0000040.1 | HORVU.MOREX.r3.1HG0000050.1 | HORVU.MOREX.r3.1HG0000060.1 | HORVU.MOREX.r3.1HG0000070.1 | HORVU.MOREX.r3.1HG0000080.1 | HORVU.MOREX.r3.1HG0000090.1 | HORVU.MOREX.r3.1HG0000110.1 | HORVU.MOREX.r3.1HG0000130.1 | HORVU.MOREX.r3.1HG0000140.1 | ⋯ | HORVU.MOREX.r3.UnG0815590.1 | HORVU.MOREX.r3.UnG0815640.1 | HORVU.MOREX.r3.UnG0815660.1 | HORVU.MOREX.r3.UnG0815680.1 | HORVU.MOREX.r3.UnG0815710.1 | HORVU.MOREX.r3.UnG0815720.1 | HORVU.MOREX.r3.UnG0815770.1 | HORVU.MOREX.r3.UnG0816040.1 | HORVU.MOREX.r3.UnG0816310.1 | HORVU.MOREX.r3.UnG0816490.1 |\n",
       "|---|---|---|---|---|---|---|---|---|---|---|---|---|---|---|---|---|---|---|---|---|---|\n",
       "| hggt_8D_1 | 3.810515 | 5.590413 | 5.596419 | 4.543731 | 8.437681 | 1.550856 | 2.064076 | 3.639927 | 5.951117 | 4.731373 | ⋯ | 0.29507646 | 0.05306642 | 0.021704713 | 0.20503336 | 0.1373347 | 0.08532009 | 0.29507646 | 0.0016694437 | 0.29507646 | 0.05611347 |\n",
       "| hggt_8D_2 | 3.173486 | 5.408359 | 5.442973 | 4.296171 | 8.294175 | 1.497372 | 2.077106 | 3.727387 | 5.763204 | 4.448511 | ⋯ | 0.17106204 | 0.02294172 | 0.021508012 | 0.00000000 | 0.1004653 | 0.08456368 | 0.17106204 | 0.0002992979 | 0.17106204 | 0.04637637 |\n",
       "| hggt_8D_3 | 3.434531 | 5.612435 | 5.398764 | 4.515511 | 8.432838 | 1.808397 | 2.191361 | 3.760423 | 5.989427 | 4.720459 | ⋯ | 0.17531764 | 0.03424896 | 0.037702004 | 0.09629330 | 0.1005354 | 0.04286605 | 0.17531764 | 0.0000000000 | 0.17531764 | 0.07753383 |\n",
       "| hggt_16D_1 | 2.410338 | 4.672244 | 4.749475 | 3.311160 | 7.480386 | 1.421937 | 1.591560 | 3.313192 | 5.153696 | 3.583399 | ⋯ | 0.08275013 | 0.00000000 | 0.000000000 | 0.02019253 | 0.0193152 | 0.08041058 | 0.08275013 | 0.0054842114 | 0.08275013 | 0.02827337 |\n",
       "| hggt_16D_2 | 2.946398 | 4.613449 | 4.753439 | 3.116752 | 7.291760 | 1.045051 | 1.588478 | 3.109478 | 5.044923 | 3.543521 | ⋯ | 0.19920935 | 0.02290693 | 0.006168511 | 0.06471030 | 0.1365588 | 0.10735846 | 0.19920935 | 0.0000000000 | 0.19920935 | 0.03243308 |\n",
       "| hggt_16D_3 | 2.616859 | 4.623463 | 4.785467 | 3.394997 | 7.609600 | 1.296211 | 1.462806 | 3.175419 | 5.203992 | 3.645021 | ⋯ | 0.22662690 | 0.03364233 | 0.021651561 | 0.08308562 | 0.1440633 | 0.18814262 | 0.22662690 | 0.0763092526 | 0.22662690 | 0.07616078 |\n",
       "\n"
      ],
      "text/plain": [
       "           HORVU.MOREX.r3.1HG0000030.1 HORVU.MOREX.r3.1HG0000040.1\n",
       "hggt_8D_1  3.810515                    5.590413                   \n",
       "hggt_8D_2  3.173486                    5.408359                   \n",
       "hggt_8D_3  3.434531                    5.612435                   \n",
       "hggt_16D_1 2.410338                    4.672244                   \n",
       "hggt_16D_2 2.946398                    4.613449                   \n",
       "hggt_16D_3 2.616859                    4.623463                   \n",
       "           HORVU.MOREX.r3.1HG0000050.1 HORVU.MOREX.r3.1HG0000060.1\n",
       "hggt_8D_1  5.596419                    4.543731                   \n",
       "hggt_8D_2  5.442973                    4.296171                   \n",
       "hggt_8D_3  5.398764                    4.515511                   \n",
       "hggt_16D_1 4.749475                    3.311160                   \n",
       "hggt_16D_2 4.753439                    3.116752                   \n",
       "hggt_16D_3 4.785467                    3.394997                   \n",
       "           HORVU.MOREX.r3.1HG0000070.1 HORVU.MOREX.r3.1HG0000080.1\n",
       "hggt_8D_1  8.437681                    1.550856                   \n",
       "hggt_8D_2  8.294175                    1.497372                   \n",
       "hggt_8D_3  8.432838                    1.808397                   \n",
       "hggt_16D_1 7.480386                    1.421937                   \n",
       "hggt_16D_2 7.291760                    1.045051                   \n",
       "hggt_16D_3 7.609600                    1.296211                   \n",
       "           HORVU.MOREX.r3.1HG0000090.1 HORVU.MOREX.r3.1HG0000110.1\n",
       "hggt_8D_1  2.064076                    3.639927                   \n",
       "hggt_8D_2  2.077106                    3.727387                   \n",
       "hggt_8D_3  2.191361                    3.760423                   \n",
       "hggt_16D_1 1.591560                    3.313192                   \n",
       "hggt_16D_2 1.588478                    3.109478                   \n",
       "hggt_16D_3 1.462806                    3.175419                   \n",
       "           HORVU.MOREX.r3.1HG0000130.1 HORVU.MOREX.r3.1HG0000140.1 ⋯\n",
       "hggt_8D_1  5.951117                    4.731373                    ⋯\n",
       "hggt_8D_2  5.763204                    4.448511                    ⋯\n",
       "hggt_8D_3  5.989427                    4.720459                    ⋯\n",
       "hggt_16D_1 5.153696                    3.583399                    ⋯\n",
       "hggt_16D_2 5.044923                    3.543521                    ⋯\n",
       "hggt_16D_3 5.203992                    3.645021                    ⋯\n",
       "           HORVU.MOREX.r3.UnG0815590.1 HORVU.MOREX.r3.UnG0815640.1\n",
       "hggt_8D_1  0.29507646                  0.05306642                 \n",
       "hggt_8D_2  0.17106204                  0.02294172                 \n",
       "hggt_8D_3  0.17531764                  0.03424896                 \n",
       "hggt_16D_1 0.08275013                  0.00000000                 \n",
       "hggt_16D_2 0.19920935                  0.02290693                 \n",
       "hggt_16D_3 0.22662690                  0.03364233                 \n",
       "           HORVU.MOREX.r3.UnG0815660.1 HORVU.MOREX.r3.UnG0815680.1\n",
       "hggt_8D_1  0.021704713                 0.20503336                 \n",
       "hggt_8D_2  0.021508012                 0.00000000                 \n",
       "hggt_8D_3  0.037702004                 0.09629330                 \n",
       "hggt_16D_1 0.000000000                 0.02019253                 \n",
       "hggt_16D_2 0.006168511                 0.06471030                 \n",
       "hggt_16D_3 0.021651561                 0.08308562                 \n",
       "           HORVU.MOREX.r3.UnG0815710.1 HORVU.MOREX.r3.UnG0815720.1\n",
       "hggt_8D_1  0.1373347                   0.08532009                 \n",
       "hggt_8D_2  0.1004653                   0.08456368                 \n",
       "hggt_8D_3  0.1005354                   0.04286605                 \n",
       "hggt_16D_1 0.0193152                   0.08041058                 \n",
       "hggt_16D_2 0.1365588                   0.10735846                 \n",
       "hggt_16D_3 0.1440633                   0.18814262                 \n",
       "           HORVU.MOREX.r3.UnG0815770.1 HORVU.MOREX.r3.UnG0816040.1\n",
       "hggt_8D_1  0.29507646                  0.0016694437               \n",
       "hggt_8D_2  0.17106204                  0.0002992979               \n",
       "hggt_8D_3  0.17531764                  0.0000000000               \n",
       "hggt_16D_1 0.08275013                  0.0054842114               \n",
       "hggt_16D_2 0.19920935                  0.0000000000               \n",
       "hggt_16D_3 0.22662690                  0.0763092526               \n",
       "           HORVU.MOREX.r3.UnG0816310.1 HORVU.MOREX.r3.UnG0816490.1\n",
       "hggt_8D_1  0.29507646                  0.05611347                 \n",
       "hggt_8D_2  0.17106204                  0.04637637                 \n",
       "hggt_8D_3  0.17531764                  0.07753383                 \n",
       "hggt_16D_1 0.08275013                  0.02827337                 \n",
       "hggt_16D_2 0.19920935                  0.03243308                 \n",
       "hggt_16D_3 0.22662690                  0.07616078                 "
      ]
     },
     "metadata": {},
     "output_type": "display_data"
    }
   ],
   "source": [
    "head(datExpr)"
   ]
  },
  {
   "cell_type": "code",
   "execution_count": 14,
   "id": "ab4d58d1-4f92-47e9-ae27-73c0ab2aebf9",
   "metadata": {},
   "outputs": [
    {
     "data": {
      "text/html": [
       "<strong>png:</strong> 2"
      ],
      "text/latex": [
       "\\textbf{png:} 2"
      ],
      "text/markdown": [
       "**png:** 2"
      ],
      "text/plain": [
       "png \n",
       "  2 "
      ]
     },
     "metadata": {},
     "output_type": "display_data"
    }
   ],
   "source": [
    "# Calculate sample distance and cluster the samples\n",
    "sampleTree = hclust(dist(datExpr), method = \"average\");\n",
    "# plot sample tree\n",
    "pdf(file = \"1-n-sampleClustering.pdf\", width = 12, height = 9);\n",
    "par(cex = 1.6);\n",
    "par(mar = c(0,4,2,0))\n",
    "plot(sampleTree, main = \"Sample clustering to detect outliers\", sub=\"\", xlab=\"\",\n",
    "     cex.lab = 1.5,cex.axis = 1.5, cex.main = 2)\n",
    "dev.off()"
   ]
  },
  {
   "cell_type": "code",
   "execution_count": 116,
   "id": "fb265974-926d-4d5e-8de8-fa09b3b9bf6c",
   "metadata": {},
   "outputs": [
    {
     "data": {
      "text/html": [
       "<table class=\"dataframe\">\n",
       "<caption>A data.frame: 6 × 88</caption>\n",
       "<thead>\n",
       "\t<tr><th></th><th scope=col>mutation</th><th scope=col>day</th><th scope=col>X1.3.Di.Tert.Butylbenzene</th><th scope=col>X2.Aminoadipic.acid</th><th scope=col>X2.Aminobutyric.acid</th><th scope=col>X2.Hydroxyglutaric.acid</th><th scope=col>X2.Keto.L.Gluconic.acid</th><th scope=col>X2.Ketoglutaric.acid</th><th scope=col>X2.Oxoisocaproic.acid</th><th scope=col>X4.Aminobutyric.acid</th><th scope=col>⋯</th><th scope=col>Threonine</th><th scope=col>Trehalose</th><th scope=col>Tryptophan</th><th scope=col>Tyrosine</th><th scope=col>Uracil</th><th scope=col>Urea</th><th scope=col>Uridine</th><th scope=col>Valine</th><th scope=col>Xylitol</th><th scope=col>Xylose</th></tr>\n",
       "\t<tr><th></th><th scope=col>&lt;int&gt;</th><th scope=col>&lt;int&gt;</th><th scope=col>&lt;dbl&gt;</th><th scope=col>&lt;dbl&gt;</th><th scope=col>&lt;dbl&gt;</th><th scope=col>&lt;dbl&gt;</th><th scope=col>&lt;dbl&gt;</th><th scope=col>&lt;dbl&gt;</th><th scope=col>&lt;dbl&gt;</th><th scope=col>&lt;dbl&gt;</th><th scope=col>⋯</th><th scope=col>&lt;dbl&gt;</th><th scope=col>&lt;dbl&gt;</th><th scope=col>&lt;dbl&gt;</th><th scope=col>&lt;dbl&gt;</th><th scope=col>&lt;dbl&gt;</th><th scope=col>&lt;dbl&gt;</th><th scope=col>&lt;dbl&gt;</th><th scope=col>&lt;dbl&gt;</th><th scope=col>&lt;dbl&gt;</th><th scope=col>&lt;dbl&gt;</th></tr>\n",
       "</thead>\n",
       "<tbody>\n",
       "\t<tr><th scope=row>WT_16D_1</th><td>0</td><td>16</td><td>1.691127</td><td>15.505808</td><td> 9.200334</td><td>1.761205</td><td>3.549224</td><td>13.434477</td><td>1.454947</td><td> 123.3928</td><td>⋯</td><td>439.6497</td><td>229.7973</td><td>50.21292</td><td> 86.4842</td><td>102.34800</td><td>2.2731353</td><td>13.48603</td><td> 352.4574</td><td>1.636187</td><td> 4.342453</td></tr>\n",
       "\t<tr><th scope=row>WT_16D_2</th><td>0</td><td>16</td><td>1.691127</td><td>15.505808</td><td> 9.200334</td><td>1.761205</td><td>3.549224</td><td>13.434477</td><td>1.454947</td><td> 123.3928</td><td>⋯</td><td>439.6497</td><td>229.7973</td><td>50.21292</td><td> 86.4842</td><td>102.34800</td><td>2.2731353</td><td>13.48603</td><td> 352.4574</td><td>1.636187</td><td> 4.342453</td></tr>\n",
       "\t<tr><th scope=row>WT_16D_3</th><td>0</td><td>16</td><td>1.691127</td><td>15.505808</td><td> 9.200334</td><td>1.761205</td><td>3.549224</td><td>13.434477</td><td>1.454947</td><td> 123.3928</td><td>⋯</td><td>439.6497</td><td>229.7973</td><td>50.21292</td><td> 86.4842</td><td>102.34800</td><td>2.2731353</td><td>13.48603</td><td> 352.4574</td><td>1.636187</td><td> 4.342453</td></tr>\n",
       "\t<tr><th scope=row>WT_8D_1</th><td>0</td><td> 8</td><td>2.410496</td><td> 1.114313</td><td>29.388846</td><td>1.446237</td><td>6.556177</td><td> 1.252001</td><td>2.632365</td><td>1004.6681</td><td>⋯</td><td>797.4040</td><td>159.6470</td><td>62.55957</td><td>198.5062</td><td> 47.63866</td><td>0.8039331</td><td>20.30028</td><td>2187.5902</td><td>1.705393</td><td>14.057764</td></tr>\n",
       "\t<tr><th scope=row>WT_8D_2</th><td>0</td><td> 8</td><td>2.410496</td><td> 1.114313</td><td>29.388846</td><td>1.446237</td><td>6.556177</td><td> 1.252001</td><td>2.632365</td><td>1004.6681</td><td>⋯</td><td>797.4040</td><td>159.6470</td><td>62.55957</td><td>198.5062</td><td> 47.63866</td><td>0.8039331</td><td>20.30028</td><td>2187.5902</td><td>1.705393</td><td>14.057764</td></tr>\n",
       "\t<tr><th scope=row>WT_8D_3</th><td>0</td><td> 8</td><td>2.410496</td><td> 1.114313</td><td>29.388846</td><td>1.446237</td><td>6.556177</td><td> 1.252001</td><td>2.632365</td><td>1004.6681</td><td>⋯</td><td>797.4040</td><td>159.6470</td><td>62.55957</td><td>198.5062</td><td> 47.63866</td><td>0.8039331</td><td>20.30028</td><td>2187.5902</td><td>1.705393</td><td>14.057764</td></tr>\n",
       "</tbody>\n",
       "</table>\n"
      ],
      "text/latex": [
       "A data.frame: 6 × 88\n",
       "\\begin{tabular}{r|lllllllllllllllllllll}\n",
       "  & mutation & day & X1.3.Di.Tert.Butylbenzene & X2.Aminoadipic.acid & X2.Aminobutyric.acid & X2.Hydroxyglutaric.acid & X2.Keto.L.Gluconic.acid & X2.Ketoglutaric.acid & X2.Oxoisocaproic.acid & X4.Aminobutyric.acid & ⋯ & Threonine & Trehalose & Tryptophan & Tyrosine & Uracil & Urea & Uridine & Valine & Xylitol & Xylose\\\\\n",
       "  & <int> & <int> & <dbl> & <dbl> & <dbl> & <dbl> & <dbl> & <dbl> & <dbl> & <dbl> & ⋯ & <dbl> & <dbl> & <dbl> & <dbl> & <dbl> & <dbl> & <dbl> & <dbl> & <dbl> & <dbl>\\\\\n",
       "\\hline\n",
       "\tWT\\_16D\\_1 & 0 & 16 & 1.691127 & 15.505808 &  9.200334 & 1.761205 & 3.549224 & 13.434477 & 1.454947 &  123.3928 & ⋯ & 439.6497 & 229.7973 & 50.21292 &  86.4842 & 102.34800 & 2.2731353 & 13.48603 &  352.4574 & 1.636187 &  4.342453\\\\\n",
       "\tWT\\_16D\\_2 & 0 & 16 & 1.691127 & 15.505808 &  9.200334 & 1.761205 & 3.549224 & 13.434477 & 1.454947 &  123.3928 & ⋯ & 439.6497 & 229.7973 & 50.21292 &  86.4842 & 102.34800 & 2.2731353 & 13.48603 &  352.4574 & 1.636187 &  4.342453\\\\\n",
       "\tWT\\_16D\\_3 & 0 & 16 & 1.691127 & 15.505808 &  9.200334 & 1.761205 & 3.549224 & 13.434477 & 1.454947 &  123.3928 & ⋯ & 439.6497 & 229.7973 & 50.21292 &  86.4842 & 102.34800 & 2.2731353 & 13.48603 &  352.4574 & 1.636187 &  4.342453\\\\\n",
       "\tWT\\_8D\\_1 & 0 &  8 & 2.410496 &  1.114313 & 29.388846 & 1.446237 & 6.556177 &  1.252001 & 2.632365 & 1004.6681 & ⋯ & 797.4040 & 159.6470 & 62.55957 & 198.5062 &  47.63866 & 0.8039331 & 20.30028 & 2187.5902 & 1.705393 & 14.057764\\\\\n",
       "\tWT\\_8D\\_2 & 0 &  8 & 2.410496 &  1.114313 & 29.388846 & 1.446237 & 6.556177 &  1.252001 & 2.632365 & 1004.6681 & ⋯ & 797.4040 & 159.6470 & 62.55957 & 198.5062 &  47.63866 & 0.8039331 & 20.30028 & 2187.5902 & 1.705393 & 14.057764\\\\\n",
       "\tWT\\_8D\\_3 & 0 &  8 & 2.410496 &  1.114313 & 29.388846 & 1.446237 & 6.556177 &  1.252001 & 2.632365 & 1004.6681 & ⋯ & 797.4040 & 159.6470 & 62.55957 & 198.5062 &  47.63866 & 0.8039331 & 20.30028 & 2187.5902 & 1.705393 & 14.057764\\\\\n",
       "\\end{tabular}\n"
      ],
      "text/markdown": [
       "\n",
       "A data.frame: 6 × 88\n",
       "\n",
       "| <!--/--> | mutation &lt;int&gt; | day &lt;int&gt; | X1.3.Di.Tert.Butylbenzene &lt;dbl&gt; | X2.Aminoadipic.acid &lt;dbl&gt; | X2.Aminobutyric.acid &lt;dbl&gt; | X2.Hydroxyglutaric.acid &lt;dbl&gt; | X2.Keto.L.Gluconic.acid &lt;dbl&gt; | X2.Ketoglutaric.acid &lt;dbl&gt; | X2.Oxoisocaproic.acid &lt;dbl&gt; | X4.Aminobutyric.acid &lt;dbl&gt; | ⋯ ⋯ | Threonine &lt;dbl&gt; | Trehalose &lt;dbl&gt; | Tryptophan &lt;dbl&gt; | Tyrosine &lt;dbl&gt; | Uracil &lt;dbl&gt; | Urea &lt;dbl&gt; | Uridine &lt;dbl&gt; | Valine &lt;dbl&gt; | Xylitol &lt;dbl&gt; | Xylose &lt;dbl&gt; |\n",
       "|---|---|---|---|---|---|---|---|---|---|---|---|---|---|---|---|---|---|---|---|---|---|\n",
       "| WT_16D_1 | 0 | 16 | 1.691127 | 15.505808 |  9.200334 | 1.761205 | 3.549224 | 13.434477 | 1.454947 |  123.3928 | ⋯ | 439.6497 | 229.7973 | 50.21292 |  86.4842 | 102.34800 | 2.2731353 | 13.48603 |  352.4574 | 1.636187 |  4.342453 |\n",
       "| WT_16D_2 | 0 | 16 | 1.691127 | 15.505808 |  9.200334 | 1.761205 | 3.549224 | 13.434477 | 1.454947 |  123.3928 | ⋯ | 439.6497 | 229.7973 | 50.21292 |  86.4842 | 102.34800 | 2.2731353 | 13.48603 |  352.4574 | 1.636187 |  4.342453 |\n",
       "| WT_16D_3 | 0 | 16 | 1.691127 | 15.505808 |  9.200334 | 1.761205 | 3.549224 | 13.434477 | 1.454947 |  123.3928 | ⋯ | 439.6497 | 229.7973 | 50.21292 |  86.4842 | 102.34800 | 2.2731353 | 13.48603 |  352.4574 | 1.636187 |  4.342453 |\n",
       "| WT_8D_1 | 0 |  8 | 2.410496 |  1.114313 | 29.388846 | 1.446237 | 6.556177 |  1.252001 | 2.632365 | 1004.6681 | ⋯ | 797.4040 | 159.6470 | 62.55957 | 198.5062 |  47.63866 | 0.8039331 | 20.30028 | 2187.5902 | 1.705393 | 14.057764 |\n",
       "| WT_8D_2 | 0 |  8 | 2.410496 |  1.114313 | 29.388846 | 1.446237 | 6.556177 |  1.252001 | 2.632365 | 1004.6681 | ⋯ | 797.4040 | 159.6470 | 62.55957 | 198.5062 |  47.63866 | 0.8039331 | 20.30028 | 2187.5902 | 1.705393 | 14.057764 |\n",
       "| WT_8D_3 | 0 |  8 | 2.410496 |  1.114313 | 29.388846 | 1.446237 | 6.556177 |  1.252001 | 2.632365 | 1004.6681 | ⋯ | 797.4040 | 159.6470 | 62.55957 | 198.5062 |  47.63866 | 0.8039331 | 20.30028 | 2187.5902 | 1.705393 | 14.057764 |\n",
       "\n"
      ],
      "text/plain": [
       "         mutation day X1.3.Di.Tert.Butylbenzene X2.Aminoadipic.acid\n",
       "WT_16D_1 0        16  1.691127                  15.505808          \n",
       "WT_16D_2 0        16  1.691127                  15.505808          \n",
       "WT_16D_3 0        16  1.691127                  15.505808          \n",
       "WT_8D_1  0         8  2.410496                   1.114313          \n",
       "WT_8D_2  0         8  2.410496                   1.114313          \n",
       "WT_8D_3  0         8  2.410496                   1.114313          \n",
       "         X2.Aminobutyric.acid X2.Hydroxyglutaric.acid X2.Keto.L.Gluconic.acid\n",
       "WT_16D_1  9.200334            1.761205                3.549224               \n",
       "WT_16D_2  9.200334            1.761205                3.549224               \n",
       "WT_16D_3  9.200334            1.761205                3.549224               \n",
       "WT_8D_1  29.388846            1.446237                6.556177               \n",
       "WT_8D_2  29.388846            1.446237                6.556177               \n",
       "WT_8D_3  29.388846            1.446237                6.556177               \n",
       "         X2.Ketoglutaric.acid X2.Oxoisocaproic.acid X4.Aminobutyric.acid ⋯\n",
       "WT_16D_1 13.434477            1.454947               123.3928            ⋯\n",
       "WT_16D_2 13.434477            1.454947               123.3928            ⋯\n",
       "WT_16D_3 13.434477            1.454947               123.3928            ⋯\n",
       "WT_8D_1   1.252001            2.632365              1004.6681            ⋯\n",
       "WT_8D_2   1.252001            2.632365              1004.6681            ⋯\n",
       "WT_8D_3   1.252001            2.632365              1004.6681            ⋯\n",
       "         Threonine Trehalose Tryptophan Tyrosine Uracil    Urea      Uridine \n",
       "WT_16D_1 439.6497  229.7973  50.21292    86.4842 102.34800 2.2731353 13.48603\n",
       "WT_16D_2 439.6497  229.7973  50.21292    86.4842 102.34800 2.2731353 13.48603\n",
       "WT_16D_3 439.6497  229.7973  50.21292    86.4842 102.34800 2.2731353 13.48603\n",
       "WT_8D_1  797.4040  159.6470  62.55957   198.5062  47.63866 0.8039331 20.30028\n",
       "WT_8D_2  797.4040  159.6470  62.55957   198.5062  47.63866 0.8039331 20.30028\n",
       "WT_8D_3  797.4040  159.6470  62.55957   198.5062  47.63866 0.8039331 20.30028\n",
       "         Valine    Xylitol  Xylose   \n",
       "WT_16D_1  352.4574 1.636187  4.342453\n",
       "WT_16D_2  352.4574 1.636187  4.342453\n",
       "WT_16D_3  352.4574 1.636187  4.342453\n",
       "WT_8D_1  2187.5902 1.705393 14.057764\n",
       "WT_8D_2  2187.5902 1.705393 14.057764\n",
       "WT_8D_3  2187.5902 1.705393 14.057764"
      ]
     },
     "metadata": {},
     "output_type": "display_data"
    }
   ],
   "source": [
    "head(allTraits)"
   ]
  },
  {
   "cell_type": "code",
   "execution_count": 117,
   "id": "575290b9-9f19-4a2a-9602-19d22361f40b",
   "metadata": {},
   "outputs": [
    {
     "data": {
      "text/html": [
       "<strong>png:</strong> 2"
      ],
      "text/latex": [
       "\\textbf{png:} 2"
      ],
      "text/markdown": [
       "**png:** 2"
      ],
      "text/plain": [
       "png \n",
       "  2 "
      ]
     },
     "metadata": {},
     "output_type": "display_data"
    }
   ],
   "source": [
    "mutationDays = allTraits[c('mutation','day')]\n",
    "# Re-cluster samples\n",
    "sampleTree2 = hclust(dist(datExpr), method = \"average\")\n",
    "# Convert traits to a color representation: white means low, red means high, grey means missing entry\n",
    "traitColors = numbers2colors(mutationDays, signed = FALSE);\n",
    "# Plot the sample dendrogram and the colors underneath.\n",
    "pdf(file = \"1-n-sampleClustering2.pdf\", width = 12, height = 9);\n",
    "plotDendroAndColors(sampleTree2, traitColors,\n",
    "                    groupLabels = names(mutationDays), \n",
    "                    main = \"Sample dendrogram and trait heatmap\")\n",
    "dev.off()"
   ]
  },
  {
   "cell_type": "code",
   "execution_count": 15,
   "id": "4a68fa0e-955e-478f-b2ff-7afd5507627c",
   "metadata": {},
   "outputs": [
    {
     "name": "stdout",
     "output_type": "stream",
     "text": [
      "pickSoftThreshold: will use block size 1568.\n",
      " pickSoftThreshold: calculating connectivity for given powers...\n",
      "   ..working on genes 1 through 1568 of 28525\n"
     ]
    },
    {
     "name": "stderr",
     "output_type": "stream",
     "text": [
      "Warning message:\n",
      "“executing %dopar% sequentially: no parallel backend registered”\n"
     ]
    },
    {
     "name": "stdout",
     "output_type": "stream",
     "text": [
      "   ..working on genes 1569 through 3136 of 28525\n",
      "   ..working on genes 3137 through 4704 of 28525\n",
      "   ..working on genes 4705 through 6272 of 28525\n",
      "   ..working on genes 6273 through 7840 of 28525\n",
      "   ..working on genes 7841 through 9408 of 28525\n",
      "   ..working on genes 9409 through 10976 of 28525\n",
      "   ..working on genes 10977 through 12544 of 28525\n",
      "   ..working on genes 12545 through 14112 of 28525\n",
      "   ..working on genes 14113 through 15680 of 28525\n",
      "   ..working on genes 15681 through 17248 of 28525\n",
      "   ..working on genes 17249 through 18816 of 28525\n",
      "   ..working on genes 18817 through 20384 of 28525\n",
      "   ..working on genes 20385 through 21952 of 28525\n",
      "   ..working on genes 21953 through 23520 of 28525\n",
      "   ..working on genes 23521 through 25088 of 28525\n",
      "   ..working on genes 25089 through 26656 of 28525\n",
      "   ..working on genes 26657 through 28224 of 28525\n",
      "   ..working on genes 28225 through 28525 of 28525\n",
      "   Power SFT.R.sq  slope truncated.R.sq mean.k. median.k. max.k.\n",
      "1      1   0.3710  0.828          0.230   12600     13400  17900\n",
      "2      2   0.0172 -0.101          0.431    7980      8030  14100\n",
      "3      3   0.1650 -0.304          0.785    5870      5250  12000\n",
      "4      4   0.2570 -0.379          0.906    4670      3610  10700\n",
      "5      5   0.3190 -0.418          0.965    3900      2560   9770\n",
      "6      6   0.3630 -0.439          0.989    3350      1870   9030\n",
      "7      7   0.4170 -0.465          0.992    2940      1390   8440\n",
      "8      8   0.4620 -0.483          0.993    2620      1060   7930\n",
      "9      9   0.5060 -0.500          0.990    2360       818   7500\n",
      "10    10   0.5500 -0.519          0.987    2140       638   7130\n",
      "11    11   0.5850 -0.533          0.981    1960       505   6800\n",
      "12    12   0.6200 -0.547          0.974    1810       403   6500\n",
      "13    13   0.6540 -0.563          0.968    1670       331   6230\n",
      "14    14   0.6830 -0.576          0.962    1550       297   5980\n",
      "15    15   0.7060 -0.588          0.957    1450       271   5750\n",
      "16    16   0.7330 -0.601          0.951    1360       261   5540\n",
      "17    17   0.7470 -0.612          0.942    1280       250   5350\n",
      "18    18   0.7620 -0.625          0.933    1200       245   5170\n",
      "19    19   0.7740 -0.636          0.926    1130       228   5000\n",
      "20    20   0.7900 -0.648          0.923    1070       213   4850\n",
      "21    22   0.8150 -0.669          0.916     966       188   4560\n",
      "22    24   0.8350 -0.691          0.910     876       174   4310\n",
      "23    26   0.8470 -0.712          0.898     798       157   4080\n",
      "24    28   0.8620 -0.731          0.899     731       127   3870\n",
      "25    30   0.8670 -0.750          0.889     673       112   3680\n"
     ]
    },
    {
     "data": {
      "text/html": [
       "<strong>png:</strong> 2"
      ],
      "text/latex": [
       "\\textbf{png:} 2"
      ],
      "text/markdown": [
       "**png:** 2"
      ],
      "text/plain": [
       "png \n",
       "  2 "
      ]
     },
     "metadata": {},
     "output_type": "display_data"
    }
   ],
   "source": [
    "#===============================================================================\n",
    "#\n",
    "#  Choose soft threshold parameter\n",
    "#\n",
    "#===============================================================================\n",
    "\n",
    "# Choose a set of soft threshold parameters\n",
    "powers = c(c(1:20), seq(from = 22, to=30, by=2))\n",
    "sft = pickSoftThreshold(datExpr, powerVector = powers, verbose = 5) \n",
    "# Scale-free topology fit index as a function of the soft-thresholding power\n",
    "pdf(file = \"2-n-sft.pdf\", width = 9, height = 5);\n",
    "par(mfrow = c(1,2));\n",
    "cex1 = 0.9;\n",
    "plot(sft$fitIndices[,1], -sign(sft$fitIndices[,3])*sft$fitIndices[,2],\n",
    "\txlab=\"Soft Threshold (power)\",ylab=\"Scale Free Topology Model Fit,signed R^2\",type=\"n\",\n",
    "\tmain = paste(\"Scale independence\"));\n",
    "text(sft$fitIndices[,1], -sign(sft$fitIndices[,3])*sft$fitIndices[,2],\n",
    "labels=powers,cex=cex1,col=\"red\");\n",
    "# this line corresponds to using an R^2 cut-off of h\n",
    "abline(h=0.90,col=\"red\") \n",
    "# Mean connectivity as a function of the soft-thresholding power\n",
    "plot(sft$fitIndices[,1], sft$fitIndices[,5],\n",
    "\txlab=\"Soft Threshold (power)\",ylab=\"Mean Connectivity\", type=\"n\",\n",
    "\tmain = paste(\"Mean connectivity\")) \n",
    "text(sft$fitIndices[,1], sft$fitIndices[,5], labels=powers, cex=cex1,col=\"red\")\n",
    "dev.off()"
   ]
  },
  {
   "cell_type": "code",
   "execution_count": 16,
   "id": "a2357a69-fc4a-4ce0-acb8-2a479fd44b26",
   "metadata": {},
   "outputs": [
    {
     "name": "stdout",
     "output_type": "stream",
     "text": [
      "TOM calculation: adjacency..\n",
      "..will not use multithreading.\n",
      " Fraction of slow calculations: 0.000000\n",
      "..connectivity..\n",
      "..matrix multiplication (system BLAS)..\n",
      "..normalization..\n",
      "..done.\n"
     ]
    },
    {
     "data": {
      "text/html": [
       "<strong>png:</strong> 2"
      ],
      "text/latex": [
       "\\textbf{png:} 2"
      ],
      "text/markdown": [
       "**png:** 2"
      ],
      "text/plain": [
       "png \n",
       "  2 "
      ]
     },
     "metadata": {},
     "output_type": "display_data"
    }
   ],
   "source": [
    "#===============================================================================\n",
    "#\n",
    "#  Turn data expression into topological overlap matrix\n",
    "#\n",
    "#===============================================================================\n",
    "\n",
    "# Turn data expression into topological overlap matrix\n",
    "power=sft$powerEstimate\n",
    "TOM = TOMsimilarityFromExpr(datExpr, power = power)\n",
    "dissTOM = 1-TOM \n",
    "# Plot gene tree\n",
    "geneTree = hclust(as.dist(dissTOM), method = \"average\"); ## hclust(dist(datExpr0), method = \"average\")\n",
    "pdf(file = \"3-gene_cluster.pdf\", width = 12, height = 9);\n",
    "plot(geneTree, xlab=\"\", sub=\"\", main = \"Gene clustering on TOM-based dissimilarity\",\n",
    "     labels = FALSE, hang = 0.04);\n",
    "dev.off()"
   ]
  },
  {
   "cell_type": "code",
   "execution_count": 17,
   "id": "e4c3fd2e-4e91-4434-99a6-c400ca1b651b",
   "metadata": {},
   "outputs": [
    {
     "data": {
      "text/html": [
       "28"
      ],
      "text/latex": [
       "28"
      ],
      "text/markdown": [
       "28"
      ],
      "text/plain": [
       "[1] 28"
      ]
     },
     "metadata": {},
     "output_type": "display_data"
    }
   ],
   "source": [
    "power"
   ]
  },
  {
   "cell_type": "code",
   "execution_count": 18,
   "id": "837dfb71-2346-484e-bdbd-7f906a3d1b13",
   "metadata": {},
   "outputs": [
    {
     "name": "stdout",
     "output_type": "stream",
     "text": [
      " ..cutHeight not given, setting it to 0.99  ===>  99% of the (truncated) height range in dendro.\n",
      " ..done.\n"
     ]
    },
    {
     "data": {
      "text/plain": [
       "dynamicMods\n",
       "   0    1    2    3    4    5    6    7    8    9   10   11   12   13   14   15 \n",
       "2796 6351 6109 1417 1331  655  644  604  503  500  446  436  433  422  422  356 \n",
       "  16   17   18   19   20   21   22   23   24   25   26   27   28   29   30   31 \n",
       " 354  328  312  296  294  274  231  226  173  159  158  156  127  119  118  110 \n",
       "  32   33   34   35   36   37   38   39   40   41   42   43   44   45   46   47 \n",
       " 110   94   89   89   87   85   81   80   71   67   64   58   57   56   55   55 \n",
       "  48   49   50   51   52   53   54   55   56   57 \n",
       "  52   52   51   50   50   50   45   40   39   38 "
      ]
     },
     "metadata": {},
     "output_type": "display_data"
    },
    {
     "data": {
      "text/html": [
       "58"
      ],
      "text/latex": [
       "58"
      ],
      "text/markdown": [
       "58"
      ],
      "text/plain": [
       "[1] 58"
      ]
     },
     "metadata": {},
     "output_type": "display_data"
    },
    {
     "data": {
      "text/plain": [
       "dynamicColors\n",
       "        bisque4           black            blue           brown          brown4 \n",
       "             55             604            6109            1417              55 \n",
       "           cyan       darkgreen        darkgrey     darkmagenta  darkolivegreen \n",
       "            422             231             173              89              94 \n",
       "     darkorange     darkorange2         darkred   darkslateblue   darkturquoise \n",
       "            158              56             274              52             226 \n",
       "    floralwhite           green     greenyellow            grey          grey60 \n",
       "             57             655             436            2796             328 \n",
       "          ivory  lavenderblush3       lightcyan      lightcyan1      lightgreen \n",
       "             58              38             354              64             312 \n",
       "     lightpink4 lightsteelblue1     lightyellow         magenta          maroon \n",
       "             39              67             296             500              40 \n",
       "  mediumpurple3    midnightblue    navajowhite2          orange      orangered4 \n",
       "             71             356              45             159              80 \n",
       "  paleturquoise  palevioletred3            pink           plum1           plum2 \n",
       "            110              50             503              81              52 \n",
       "         purple             red       royalblue     saddlebrown          salmon \n",
       "            446             644             294             119             422 \n",
       "        salmon4         sienna3         skyblue        skyblue3       steelblue \n",
       "             50              89             127              85             118 \n",
       "            tan        thistle1        thistle2       turquoise          violet \n",
       "            433              50              51            6351             110 \n",
       "          white          yellow     yellowgreen \n",
       "            156            1331              87 "
      ]
     },
     "metadata": {},
     "output_type": "display_data"
    },
    {
     "data": {
      "text/html": [
       "<strong>png:</strong> 2"
      ],
      "text/latex": [
       "\\textbf{png:} 2"
      ],
      "text/markdown": [
       "**png:** 2"
      ],
      "text/plain": [
       "png \n",
       "  2 "
      ]
     },
     "metadata": {},
     "output_type": "display_data"
    }
   ],
   "source": [
    "#===============================================================================\n",
    "#\n",
    "#  Construct modules\n",
    "#\n",
    "#===============================================================================\n",
    "\n",
    "# Module identification using dynamic tree cut\n",
    "dynamicMods = cutreeDynamic(dendro = geneTree, distM = dissTOM,deepSplit = 2, \n",
    "                            pamRespectsDendro = FALSE,minClusterSize = 30);\n",
    "table(dynamicMods)\n",
    "length(table(dynamicMods)) \n",
    "# Convert numeric labels into colors\n",
    "dynamicColors = labels2colors(dynamicMods)\n",
    "table(dynamicColors)\n",
    "# Plot the dendrogram and colors underneath\n",
    "pdf(file = \"4-module_tree.pdf\", width = 8, height = 6);\n",
    "plotDendroAndColors(geneTree, dynamicColors, \"Dynamic Tree Cut\",dendroLabels = FALSE,\n",
    "                    hang = 0.03,addGuide = TRUE, guideHang = 0.05,main = \"Gene dendrogram and module colors\")\n",
    "dev.off()"
   ]
  },
  {
   "cell_type": "code",
   "execution_count": 19,
   "id": "1928c5f8-9822-4132-ad51-839de1f7b4ce",
   "metadata": {},
   "outputs": [
    {
     "name": "stdout",
     "output_type": "stream",
     "text": [
      " mergeCloseModules: Merging modules whose distance is less than 0.25\n",
      "   multiSetMEs: Calculating module MEs.\n",
      "     Working on set 1 ...\n",
      "     moduleEigengenes: Calculating 58 module eigengenes in given set.\n",
      "   multiSetMEs: Calculating module MEs.\n",
      "     Working on set 1 ...\n",
      "     moduleEigengenes: Calculating 41 module eigengenes in given set.\n",
      "   multiSetMEs: Calculating module MEs.\n",
      "     Working on set 1 ...\n",
      "     moduleEigengenes: Calculating 38 module eigengenes in given set.\n",
      "   Calculating new MEs...\n",
      "   multiSetMEs: Calculating module MEs.\n",
      "     Working on set 1 ...\n",
      "     moduleEigengenes: Calculating 38 module eigengenes in given set.\n"
     ]
    },
    {
     "data": {
      "text/html": [
       "<strong>png:</strong> 2"
      ],
      "text/latex": [
       "\\textbf{png:} 2"
      ],
      "text/markdown": [
       "**png:** 2"
      ],
      "text/plain": [
       "png \n",
       "  2 "
      ]
     },
     "metadata": {},
     "output_type": "display_data"
    }
   ],
   "source": [
    "#===============================================================================\n",
    "#\n",
    "#  Merge modules\n",
    "#\n",
    "#===============================================================================\n",
    "\n",
    "# Merge close modules\n",
    "MEDissThres=0.25 ## change this value based on own data\n",
    "merge = mergeCloseModules(datExpr, dynamicColors, cutHeight = MEDissThres, verbose = 3) \n",
    "mergedColors = merge$colors  \n",
    "mergedMEs = merge$newMEs  \n",
    "# Plot merged module tree\n",
    "pdf(file = \"5-merged_Module_Tree.pdf\", width = 12, height = 9)  \n",
    "plotDendroAndColors(geneTree, cbind(dynamicColors, mergedColors), \n",
    "                    c(\"Dynamic Tree Cut\", \"Merged dynamic\"), dendroLabels = FALSE, \n",
    "                    hang = 0.03, addGuide = TRUE, guideHang = 0.05)  \n",
    "dev.off()\n",
    "write.table(merge$oldMEs,file=\"oldMEs.txt\");\n",
    "write.table(merge$newMEs,file=\"newMEs.txt\");"
   ]
  },
  {
   "cell_type": "code",
   "execution_count": 20,
   "id": "24748903-e4cf-432e-9abe-a9c98a9d1832",
   "metadata": {},
   "outputs": [],
   "source": [
    "#===============================================================================\n",
    "#\n",
    "#  Export of networks to external software\n",
    "#\n",
    "#===============================================================================\n",
    "\n",
    "# Export the gene list of new modules \n",
    "for (i in 1:length(merge$newMEs)){\n",
    "    modules = c(substring(names(merge$newMEs)[i], 3));\n",
    "    genes = colnames(datExpr)\n",
    "    inModule = is.finite(match(dynamicColors,modules))\n",
    "    modGenes = genes[inModule]\n",
    "    modTOM=TOM[inModule,inModule]\n",
    "    dimnames(modTOM)=list(modGenes,modGenes)\n",
    "    cyt = exportNetworkToCytoscape(modTOM,\n",
    "            edgeFile = paste(\"orign_CytoscapeInput-edges-\", paste(modules, collapse=\"-\"), \".txt\", sep=\"\"),\n",
    "            nodeFile = paste(\"orign_CytoscapeInput-nodes-\", paste(modules, collapse=\"-\"), \".txt\", sep=\"\"),\n",
    "            weighted = TRUE, threshold = -1, nodeNames = modGenes, nodeAttr = dynamicColors[inModule]);\n",
    "}"
   ]
  },
  {
   "cell_type": "code",
   "execution_count": 21,
   "id": "1d88cbc6-a8a4-4171-a555-79b5ce3d4986",
   "metadata": {},
   "outputs": [
    {
     "data": {
      "text/html": [
       "<table class=\"dataframe\">\n",
       "<caption>A data.frame: 6 × 38</caption>\n",
       "<thead>\n",
       "\t<tr><th></th><th scope=col>MEdarkorange2</th><th scope=col>MEfloralwhite</th><th scope=col>MEorangered4</th><th scope=col>MEroyalblue</th><th scope=col>MEbrown4</th><th scope=col>MEblack</th><th scope=col>MEdarkmagenta</th><th scope=col>MEbrown</th><th scope=col>MEorange</th><th scope=col>MEdarkolivegreen</th><th scope=col>⋯</th><th scope=col>MEdarkslateblue</th><th scope=col>MEgreen</th><th scope=col>MEpalevioletred3</th><th scope=col>MElavenderblush3</th><th scope=col>MElightcyan</th><th scope=col>MEmaroon</th><th scope=col>MEdarkturquoise</th><th scope=col>MEbisque4</th><th scope=col>MEgrey60</th><th scope=col>MEgrey</th></tr>\n",
       "\t<tr><th></th><th scope=col>&lt;dbl&gt;</th><th scope=col>&lt;dbl&gt;</th><th scope=col>&lt;dbl&gt;</th><th scope=col>&lt;dbl&gt;</th><th scope=col>&lt;dbl&gt;</th><th scope=col>&lt;dbl&gt;</th><th scope=col>&lt;dbl&gt;</th><th scope=col>&lt;dbl&gt;</th><th scope=col>&lt;dbl&gt;</th><th scope=col>&lt;dbl&gt;</th><th scope=col>⋯</th><th scope=col>&lt;dbl&gt;</th><th scope=col>&lt;dbl&gt;</th><th scope=col>&lt;dbl&gt;</th><th scope=col>&lt;dbl&gt;</th><th scope=col>&lt;dbl&gt;</th><th scope=col>&lt;dbl&gt;</th><th scope=col>&lt;dbl&gt;</th><th scope=col>&lt;dbl&gt;</th><th scope=col>&lt;dbl&gt;</th><th scope=col>&lt;dbl&gt;</th></tr>\n",
       "</thead>\n",
       "<tbody>\n",
       "\t<tr><th scope=row>hggt_8D_1</th><td>-0.1547160</td><td>-0.13860480</td><td> 0.56318625</td><td>-0.08549718</td><td>-0.1227549</td><td>-0.07133603</td><td>-0.1000516</td><td> 0.2853357</td><td> 0.03274687</td><td> 0.63592297</td><td>⋯</td><td>-0.1022584</td><td>-0.08858037</td><td> 0.5989983</td><td>-0.13315294</td><td>-0.10071830</td><td>-0.14017595</td><td>-0.08579307</td><td>-0.12760825</td><td>-0.10431161</td><td>0.2394393</td></tr>\n",
       "\t<tr><th scope=row>hggt_8D_2</th><td> 0.6589993</td><td> 0.66050690</td><td> 0.71398502</td><td> 0.95669528</td><td>-0.1270866</td><td>-0.04845404</td><td>-0.1347371</td><td> 0.1971228</td><td> 0.64769622</td><td> 0.13322404</td><td>⋯</td><td>-0.1573200</td><td>-0.08967677</td><td>-0.1193089</td><td>-0.13046476</td><td>-0.08286471</td><td>-0.12584077</td><td>-0.07907947</td><td>-0.08879141</td><td>-0.08703377</td><td>0.2683340</td></tr>\n",
       "\t<tr><th scope=row>hggt_8D_3</th><td>-0.1233636</td><td> 0.03675637</td><td>-0.13748536</td><td>-0.06092011</td><td> 0.6298489</td><td> 0.95437153</td><td> 0.6700439</td><td> 0.2957457</td><td> 0.61795703</td><td> 0.59467065</td><td>⋯</td><td>-0.1360943</td><td>-0.04859532</td><td>-0.0757872</td><td>-0.10178069</td><td>-0.10982989</td><td>-0.14138929</td><td>-0.09344094</td><td>-0.10903336</td><td>-0.11172854</td><td>0.3658184</td></tr>\n",
       "\t<tr><th scope=row>hggt_16D_1</th><td>-0.1002725</td><td>-0.07110781</td><td>-0.06573589</td><td>-0.08089203</td><td>-0.1140415</td><td>-0.08017986</td><td>-0.1007327</td><td>-0.1202045</td><td>-0.09647784</td><td>-0.13406815</td><td>⋯</td><td> 0.5928925</td><td>-0.10428365</td><td>-0.1084976</td><td>-0.13710790</td><td>-0.10693515</td><td> 0.60561751</td><td>-0.05302763</td><td>-0.13960589</td><td>-0.08035341</td><td>0.3176854</td></tr>\n",
       "\t<tr><th scope=row>hggt_16D_2</th><td>-0.1460405</td><td> 0.60022533</td><td>-0.12941555</td><td>-0.08571670</td><td>-0.1662987</td><td>-0.09179035</td><td>-0.1190252</td><td>-0.1935702</td><td>-0.10011463</td><td>-0.09772226</td><td>⋯</td><td>-0.1179488</td><td>-0.11233519</td><td>-0.1403901</td><td>-0.13952094</td><td>-0.09757914</td><td>-0.12846030</td><td>-0.08154164</td><td>-0.15712812</td><td>-0.10417386</td><td>0.3178860</td></tr>\n",
       "\t<tr><th scope=row>hggt_16D_3</th><td>-0.1257549</td><td>-0.07226089</td><td>-0.11206347</td><td>-0.07994047</td><td>-0.1559568</td><td>-0.07258843</td><td>-0.1490733</td><td>-0.1135137</td><td>-0.10890700</td><td>-0.14684569</td><td>⋯</td><td>-0.1310272</td><td>-0.10243634</td><td>-0.1392471</td><td>-0.08831012</td><td>-0.10661480</td><td>-0.07032656</td><td>-0.09458985</td><td>-0.16439475</td><td>-0.08467824</td><td>0.1569796</td></tr>\n",
       "</tbody>\n",
       "</table>\n"
      ],
      "text/latex": [
       "A data.frame: 6 × 38\n",
       "\\begin{tabular}{r|lllllllllllllllllllll}\n",
       "  & MEdarkorange2 & MEfloralwhite & MEorangered4 & MEroyalblue & MEbrown4 & MEblack & MEdarkmagenta & MEbrown & MEorange & MEdarkolivegreen & ⋯ & MEdarkslateblue & MEgreen & MEpalevioletred3 & MElavenderblush3 & MElightcyan & MEmaroon & MEdarkturquoise & MEbisque4 & MEgrey60 & MEgrey\\\\\n",
       "  & <dbl> & <dbl> & <dbl> & <dbl> & <dbl> & <dbl> & <dbl> & <dbl> & <dbl> & <dbl> & ⋯ & <dbl> & <dbl> & <dbl> & <dbl> & <dbl> & <dbl> & <dbl> & <dbl> & <dbl> & <dbl>\\\\\n",
       "\\hline\n",
       "\thggt\\_8D\\_1 & -0.1547160 & -0.13860480 &  0.56318625 & -0.08549718 & -0.1227549 & -0.07133603 & -0.1000516 &  0.2853357 &  0.03274687 &  0.63592297 & ⋯ & -0.1022584 & -0.08858037 &  0.5989983 & -0.13315294 & -0.10071830 & -0.14017595 & -0.08579307 & -0.12760825 & -0.10431161 & 0.2394393\\\\\n",
       "\thggt\\_8D\\_2 &  0.6589993 &  0.66050690 &  0.71398502 &  0.95669528 & -0.1270866 & -0.04845404 & -0.1347371 &  0.1971228 &  0.64769622 &  0.13322404 & ⋯ & -0.1573200 & -0.08967677 & -0.1193089 & -0.13046476 & -0.08286471 & -0.12584077 & -0.07907947 & -0.08879141 & -0.08703377 & 0.2683340\\\\\n",
       "\thggt\\_8D\\_3 & -0.1233636 &  0.03675637 & -0.13748536 & -0.06092011 &  0.6298489 &  0.95437153 &  0.6700439 &  0.2957457 &  0.61795703 &  0.59467065 & ⋯ & -0.1360943 & -0.04859532 & -0.0757872 & -0.10178069 & -0.10982989 & -0.14138929 & -0.09344094 & -0.10903336 & -0.11172854 & 0.3658184\\\\\n",
       "\thggt\\_16D\\_1 & -0.1002725 & -0.07110781 & -0.06573589 & -0.08089203 & -0.1140415 & -0.08017986 & -0.1007327 & -0.1202045 & -0.09647784 & -0.13406815 & ⋯ &  0.5928925 & -0.10428365 & -0.1084976 & -0.13710790 & -0.10693515 &  0.60561751 & -0.05302763 & -0.13960589 & -0.08035341 & 0.3176854\\\\\n",
       "\thggt\\_16D\\_2 & -0.1460405 &  0.60022533 & -0.12941555 & -0.08571670 & -0.1662987 & -0.09179035 & -0.1190252 & -0.1935702 & -0.10011463 & -0.09772226 & ⋯ & -0.1179488 & -0.11233519 & -0.1403901 & -0.13952094 & -0.09757914 & -0.12846030 & -0.08154164 & -0.15712812 & -0.10417386 & 0.3178860\\\\\n",
       "\thggt\\_16D\\_3 & -0.1257549 & -0.07226089 & -0.11206347 & -0.07994047 & -0.1559568 & -0.07258843 & -0.1490733 & -0.1135137 & -0.10890700 & -0.14684569 & ⋯ & -0.1310272 & -0.10243634 & -0.1392471 & -0.08831012 & -0.10661480 & -0.07032656 & -0.09458985 & -0.16439475 & -0.08467824 & 0.1569796\\\\\n",
       "\\end{tabular}\n"
      ],
      "text/markdown": [
       "\n",
       "A data.frame: 6 × 38\n",
       "\n",
       "| <!--/--> | MEdarkorange2 &lt;dbl&gt; | MEfloralwhite &lt;dbl&gt; | MEorangered4 &lt;dbl&gt; | MEroyalblue &lt;dbl&gt; | MEbrown4 &lt;dbl&gt; | MEblack &lt;dbl&gt; | MEdarkmagenta &lt;dbl&gt; | MEbrown &lt;dbl&gt; | MEorange &lt;dbl&gt; | MEdarkolivegreen &lt;dbl&gt; | ⋯ ⋯ | MEdarkslateblue &lt;dbl&gt; | MEgreen &lt;dbl&gt; | MEpalevioletred3 &lt;dbl&gt; | MElavenderblush3 &lt;dbl&gt; | MElightcyan &lt;dbl&gt; | MEmaroon &lt;dbl&gt; | MEdarkturquoise &lt;dbl&gt; | MEbisque4 &lt;dbl&gt; | MEgrey60 &lt;dbl&gt; | MEgrey &lt;dbl&gt; |\n",
       "|---|---|---|---|---|---|---|---|---|---|---|---|---|---|---|---|---|---|---|---|---|---|\n",
       "| hggt_8D_1 | -0.1547160 | -0.13860480 |  0.56318625 | -0.08549718 | -0.1227549 | -0.07133603 | -0.1000516 |  0.2853357 |  0.03274687 |  0.63592297 | ⋯ | -0.1022584 | -0.08858037 |  0.5989983 | -0.13315294 | -0.10071830 | -0.14017595 | -0.08579307 | -0.12760825 | -0.10431161 | 0.2394393 |\n",
       "| hggt_8D_2 |  0.6589993 |  0.66050690 |  0.71398502 |  0.95669528 | -0.1270866 | -0.04845404 | -0.1347371 |  0.1971228 |  0.64769622 |  0.13322404 | ⋯ | -0.1573200 | -0.08967677 | -0.1193089 | -0.13046476 | -0.08286471 | -0.12584077 | -0.07907947 | -0.08879141 | -0.08703377 | 0.2683340 |\n",
       "| hggt_8D_3 | -0.1233636 |  0.03675637 | -0.13748536 | -0.06092011 |  0.6298489 |  0.95437153 |  0.6700439 |  0.2957457 |  0.61795703 |  0.59467065 | ⋯ | -0.1360943 | -0.04859532 | -0.0757872 | -0.10178069 | -0.10982989 | -0.14138929 | -0.09344094 | -0.10903336 | -0.11172854 | 0.3658184 |\n",
       "| hggt_16D_1 | -0.1002725 | -0.07110781 | -0.06573589 | -0.08089203 | -0.1140415 | -0.08017986 | -0.1007327 | -0.1202045 | -0.09647784 | -0.13406815 | ⋯ |  0.5928925 | -0.10428365 | -0.1084976 | -0.13710790 | -0.10693515 |  0.60561751 | -0.05302763 | -0.13960589 | -0.08035341 | 0.3176854 |\n",
       "| hggt_16D_2 | -0.1460405 |  0.60022533 | -0.12941555 | -0.08571670 | -0.1662987 | -0.09179035 | -0.1190252 | -0.1935702 | -0.10011463 | -0.09772226 | ⋯ | -0.1179488 | -0.11233519 | -0.1403901 | -0.13952094 | -0.09757914 | -0.12846030 | -0.08154164 | -0.15712812 | -0.10417386 | 0.3178860 |\n",
       "| hggt_16D_3 | -0.1257549 | -0.07226089 | -0.11206347 | -0.07994047 | -0.1559568 | -0.07258843 | -0.1490733 | -0.1135137 | -0.10890700 | -0.14684569 | ⋯ | -0.1310272 | -0.10243634 | -0.1392471 | -0.08831012 | -0.10661480 | -0.07032656 | -0.09458985 | -0.16439475 | -0.08467824 | 0.1569796 |\n",
       "\n"
      ],
      "text/plain": [
       "           MEdarkorange2 MEfloralwhite MEorangered4 MEroyalblue MEbrown4  \n",
       "hggt_8D_1  -0.1547160    -0.13860480    0.56318625  -0.08549718 -0.1227549\n",
       "hggt_8D_2   0.6589993     0.66050690    0.71398502   0.95669528 -0.1270866\n",
       "hggt_8D_3  -0.1233636     0.03675637   -0.13748536  -0.06092011  0.6298489\n",
       "hggt_16D_1 -0.1002725    -0.07110781   -0.06573589  -0.08089203 -0.1140415\n",
       "hggt_16D_2 -0.1460405     0.60022533   -0.12941555  -0.08571670 -0.1662987\n",
       "hggt_16D_3 -0.1257549    -0.07226089   -0.11206347  -0.07994047 -0.1559568\n",
       "           MEblack     MEdarkmagenta MEbrown    MEorange    MEdarkolivegreen ⋯\n",
       "hggt_8D_1  -0.07133603 -0.1000516     0.2853357  0.03274687  0.63592297      ⋯\n",
       "hggt_8D_2  -0.04845404 -0.1347371     0.1971228  0.64769622  0.13322404      ⋯\n",
       "hggt_8D_3   0.95437153  0.6700439     0.2957457  0.61795703  0.59467065      ⋯\n",
       "hggt_16D_1 -0.08017986 -0.1007327    -0.1202045 -0.09647784 -0.13406815      ⋯\n",
       "hggt_16D_2 -0.09179035 -0.1190252    -0.1935702 -0.10011463 -0.09772226      ⋯\n",
       "hggt_16D_3 -0.07258843 -0.1490733    -0.1135137 -0.10890700 -0.14684569      ⋯\n",
       "           MEdarkslateblue MEgreen     MEpalevioletred3 MElavenderblush3\n",
       "hggt_8D_1  -0.1022584      -0.08858037  0.5989983       -0.13315294     \n",
       "hggt_8D_2  -0.1573200      -0.08967677 -0.1193089       -0.13046476     \n",
       "hggt_8D_3  -0.1360943      -0.04859532 -0.0757872       -0.10178069     \n",
       "hggt_16D_1  0.5928925      -0.10428365 -0.1084976       -0.13710790     \n",
       "hggt_16D_2 -0.1179488      -0.11233519 -0.1403901       -0.13952094     \n",
       "hggt_16D_3 -0.1310272      -0.10243634 -0.1392471       -0.08831012     \n",
       "           MElightcyan MEmaroon    MEdarkturquoise MEbisque4   MEgrey60   \n",
       "hggt_8D_1  -0.10071830 -0.14017595 -0.08579307     -0.12760825 -0.10431161\n",
       "hggt_8D_2  -0.08286471 -0.12584077 -0.07907947     -0.08879141 -0.08703377\n",
       "hggt_8D_3  -0.10982989 -0.14138929 -0.09344094     -0.10903336 -0.11172854\n",
       "hggt_16D_1 -0.10693515  0.60561751 -0.05302763     -0.13960589 -0.08035341\n",
       "hggt_16D_2 -0.09757914 -0.12846030 -0.08154164     -0.15712812 -0.10417386\n",
       "hggt_16D_3 -0.10661480 -0.07032656 -0.09458985     -0.16439475 -0.08467824\n",
       "           MEgrey   \n",
       "hggt_8D_1  0.2394393\n",
       "hggt_8D_2  0.2683340\n",
       "hggt_8D_3  0.3658184\n",
       "hggt_16D_1 0.3176854\n",
       "hggt_16D_2 0.3178860\n",
       "hggt_16D_3 0.1569796"
      ]
     },
     "metadata": {},
     "output_type": "display_data"
    }
   ],
   "source": [
    "head(merge$newMEs)"
   ]
  },
  {
   "cell_type": "code",
   "execution_count": 22,
   "id": "3741e379-f342-474a-ae01-a4c54868a181",
   "metadata": {},
   "outputs": [],
   "source": [
    "#===============================================================================\n",
    "#\n",
    "#  Plot the heatmap of module eigen-genes and samples\n",
    "#\n",
    "#===============================================================================\n",
    "\n",
    "library(\"pheatmap\")"
   ]
  },
  {
   "cell_type": "code",
   "execution_count": 65,
   "id": "d9f42a43-90c9-4a1d-a6ff-4bd953478ac5",
   "metadata": {},
   "outputs": [
    {
     "data": {
      "text/html": [
       "<style>\n",
       ".list-inline {list-style: none; margin:0; padding: 0}\n",
       ".list-inline>li {display: inline-block}\n",
       ".list-inline>li:not(:last-child)::after {content: \"\\00b7\"; padding: 0 .5ex}\n",
       "</style>\n",
       "<ol class=list-inline><li>12</li><li>38</li></ol>\n"
      ],
      "text/latex": [
       "\\begin{enumerate*}\n",
       "\\item 12\n",
       "\\item 38\n",
       "\\end{enumerate*}\n"
      ],
      "text/markdown": [
       "1. 12\n",
       "2. 38\n",
       "\n",
       "\n"
      ],
      "text/plain": [
       "[1] 12 38"
      ]
     },
     "metadata": {},
     "output_type": "display_data"
    }
   ],
   "source": [
    "dim(merge$newMEs)"
   ]
  },
  {
   "cell_type": "code",
   "execution_count": 66,
   "id": "ee6dd694-1c02-4b9f-9fa8-21a0942a8beb",
   "metadata": {},
   "outputs": [
    {
     "data": {
      "text/html": [
       "<table class=\"dataframe\">\n",
       "<caption>A data.frame: 6 × 38</caption>\n",
       "<thead>\n",
       "\t<tr><th></th><th scope=col>MEdarkorange2</th><th scope=col>MEfloralwhite</th><th scope=col>MEorangered4</th><th scope=col>MEroyalblue</th><th scope=col>MEbrown4</th><th scope=col>MEblack</th><th scope=col>MEdarkmagenta</th><th scope=col>MEbrown</th><th scope=col>MEorange</th><th scope=col>MEdarkolivegreen</th><th scope=col>⋯</th><th scope=col>MEdarkslateblue</th><th scope=col>MEgreen</th><th scope=col>MEpalevioletred3</th><th scope=col>MElavenderblush3</th><th scope=col>MElightcyan</th><th scope=col>MEmaroon</th><th scope=col>MEdarkturquoise</th><th scope=col>MEbisque4</th><th scope=col>MEgrey60</th><th scope=col>MEgrey</th></tr>\n",
       "\t<tr><th></th><th scope=col>&lt;dbl&gt;</th><th scope=col>&lt;dbl&gt;</th><th scope=col>&lt;dbl&gt;</th><th scope=col>&lt;dbl&gt;</th><th scope=col>&lt;dbl&gt;</th><th scope=col>&lt;dbl&gt;</th><th scope=col>&lt;dbl&gt;</th><th scope=col>&lt;dbl&gt;</th><th scope=col>&lt;dbl&gt;</th><th scope=col>&lt;dbl&gt;</th><th scope=col>⋯</th><th scope=col>&lt;dbl&gt;</th><th scope=col>&lt;dbl&gt;</th><th scope=col>&lt;dbl&gt;</th><th scope=col>&lt;dbl&gt;</th><th scope=col>&lt;dbl&gt;</th><th scope=col>&lt;dbl&gt;</th><th scope=col>&lt;dbl&gt;</th><th scope=col>&lt;dbl&gt;</th><th scope=col>&lt;dbl&gt;</th><th scope=col>&lt;dbl&gt;</th></tr>\n",
       "</thead>\n",
       "<tbody>\n",
       "\t<tr><th scope=row>hggt_8D_1</th><td>-0.1547160</td><td>-0.13860480</td><td> 0.56318625</td><td>-0.08549718</td><td>-0.1227549</td><td>-0.07133603</td><td>-0.1000516</td><td> 0.2853357</td><td> 0.03274687</td><td> 0.63592297</td><td>⋯</td><td>-0.1022584</td><td>-0.08858037</td><td> 0.5989983</td><td>-0.13315294</td><td>-0.10071830</td><td>-0.14017595</td><td>-0.08579307</td><td>-0.12760825</td><td>-0.10431161</td><td>0.2394393</td></tr>\n",
       "\t<tr><th scope=row>hggt_8D_2</th><td> 0.6589993</td><td> 0.66050690</td><td> 0.71398502</td><td> 0.95669528</td><td>-0.1270866</td><td>-0.04845404</td><td>-0.1347371</td><td> 0.1971228</td><td> 0.64769622</td><td> 0.13322404</td><td>⋯</td><td>-0.1573200</td><td>-0.08967677</td><td>-0.1193089</td><td>-0.13046476</td><td>-0.08286471</td><td>-0.12584077</td><td>-0.07907947</td><td>-0.08879141</td><td>-0.08703377</td><td>0.2683340</td></tr>\n",
       "\t<tr><th scope=row>hggt_8D_3</th><td>-0.1233636</td><td> 0.03675637</td><td>-0.13748536</td><td>-0.06092011</td><td> 0.6298489</td><td> 0.95437153</td><td> 0.6700439</td><td> 0.2957457</td><td> 0.61795703</td><td> 0.59467065</td><td>⋯</td><td>-0.1360943</td><td>-0.04859532</td><td>-0.0757872</td><td>-0.10178069</td><td>-0.10982989</td><td>-0.14138929</td><td>-0.09344094</td><td>-0.10903336</td><td>-0.11172854</td><td>0.3658184</td></tr>\n",
       "\t<tr><th scope=row>hggt_16D_1</th><td>-0.1002725</td><td>-0.07110781</td><td>-0.06573589</td><td>-0.08089203</td><td>-0.1140415</td><td>-0.08017986</td><td>-0.1007327</td><td>-0.1202045</td><td>-0.09647784</td><td>-0.13406815</td><td>⋯</td><td> 0.5928925</td><td>-0.10428365</td><td>-0.1084976</td><td>-0.13710790</td><td>-0.10693515</td><td> 0.60561751</td><td>-0.05302763</td><td>-0.13960589</td><td>-0.08035341</td><td>0.3176854</td></tr>\n",
       "\t<tr><th scope=row>hggt_16D_2</th><td>-0.1460405</td><td> 0.60022533</td><td>-0.12941555</td><td>-0.08571670</td><td>-0.1662987</td><td>-0.09179035</td><td>-0.1190252</td><td>-0.1935702</td><td>-0.10011463</td><td>-0.09772226</td><td>⋯</td><td>-0.1179488</td><td>-0.11233519</td><td>-0.1403901</td><td>-0.13952094</td><td>-0.09757914</td><td>-0.12846030</td><td>-0.08154164</td><td>-0.15712812</td><td>-0.10417386</td><td>0.3178860</td></tr>\n",
       "\t<tr><th scope=row>hggt_16D_3</th><td>-0.1257549</td><td>-0.07226089</td><td>-0.11206347</td><td>-0.07994047</td><td>-0.1559568</td><td>-0.07258843</td><td>-0.1490733</td><td>-0.1135137</td><td>-0.10890700</td><td>-0.14684569</td><td>⋯</td><td>-0.1310272</td><td>-0.10243634</td><td>-0.1392471</td><td>-0.08831012</td><td>-0.10661480</td><td>-0.07032656</td><td>-0.09458985</td><td>-0.16439475</td><td>-0.08467824</td><td>0.1569796</td></tr>\n",
       "</tbody>\n",
       "</table>\n"
      ],
      "text/latex": [
       "A data.frame: 6 × 38\n",
       "\\begin{tabular}{r|lllllllllllllllllllll}\n",
       "  & MEdarkorange2 & MEfloralwhite & MEorangered4 & MEroyalblue & MEbrown4 & MEblack & MEdarkmagenta & MEbrown & MEorange & MEdarkolivegreen & ⋯ & MEdarkslateblue & MEgreen & MEpalevioletred3 & MElavenderblush3 & MElightcyan & MEmaroon & MEdarkturquoise & MEbisque4 & MEgrey60 & MEgrey\\\\\n",
       "  & <dbl> & <dbl> & <dbl> & <dbl> & <dbl> & <dbl> & <dbl> & <dbl> & <dbl> & <dbl> & ⋯ & <dbl> & <dbl> & <dbl> & <dbl> & <dbl> & <dbl> & <dbl> & <dbl> & <dbl> & <dbl>\\\\\n",
       "\\hline\n",
       "\thggt\\_8D\\_1 & -0.1547160 & -0.13860480 &  0.56318625 & -0.08549718 & -0.1227549 & -0.07133603 & -0.1000516 &  0.2853357 &  0.03274687 &  0.63592297 & ⋯ & -0.1022584 & -0.08858037 &  0.5989983 & -0.13315294 & -0.10071830 & -0.14017595 & -0.08579307 & -0.12760825 & -0.10431161 & 0.2394393\\\\\n",
       "\thggt\\_8D\\_2 &  0.6589993 &  0.66050690 &  0.71398502 &  0.95669528 & -0.1270866 & -0.04845404 & -0.1347371 &  0.1971228 &  0.64769622 &  0.13322404 & ⋯ & -0.1573200 & -0.08967677 & -0.1193089 & -0.13046476 & -0.08286471 & -0.12584077 & -0.07907947 & -0.08879141 & -0.08703377 & 0.2683340\\\\\n",
       "\thggt\\_8D\\_3 & -0.1233636 &  0.03675637 & -0.13748536 & -0.06092011 &  0.6298489 &  0.95437153 &  0.6700439 &  0.2957457 &  0.61795703 &  0.59467065 & ⋯ & -0.1360943 & -0.04859532 & -0.0757872 & -0.10178069 & -0.10982989 & -0.14138929 & -0.09344094 & -0.10903336 & -0.11172854 & 0.3658184\\\\\n",
       "\thggt\\_16D\\_1 & -0.1002725 & -0.07110781 & -0.06573589 & -0.08089203 & -0.1140415 & -0.08017986 & -0.1007327 & -0.1202045 & -0.09647784 & -0.13406815 & ⋯ &  0.5928925 & -0.10428365 & -0.1084976 & -0.13710790 & -0.10693515 &  0.60561751 & -0.05302763 & -0.13960589 & -0.08035341 & 0.3176854\\\\\n",
       "\thggt\\_16D\\_2 & -0.1460405 &  0.60022533 & -0.12941555 & -0.08571670 & -0.1662987 & -0.09179035 & -0.1190252 & -0.1935702 & -0.10011463 & -0.09772226 & ⋯ & -0.1179488 & -0.11233519 & -0.1403901 & -0.13952094 & -0.09757914 & -0.12846030 & -0.08154164 & -0.15712812 & -0.10417386 & 0.3178860\\\\\n",
       "\thggt\\_16D\\_3 & -0.1257549 & -0.07226089 & -0.11206347 & -0.07994047 & -0.1559568 & -0.07258843 & -0.1490733 & -0.1135137 & -0.10890700 & -0.14684569 & ⋯ & -0.1310272 & -0.10243634 & -0.1392471 & -0.08831012 & -0.10661480 & -0.07032656 & -0.09458985 & -0.16439475 & -0.08467824 & 0.1569796\\\\\n",
       "\\end{tabular}\n"
      ],
      "text/markdown": [
       "\n",
       "A data.frame: 6 × 38\n",
       "\n",
       "| <!--/--> | MEdarkorange2 &lt;dbl&gt; | MEfloralwhite &lt;dbl&gt; | MEorangered4 &lt;dbl&gt; | MEroyalblue &lt;dbl&gt; | MEbrown4 &lt;dbl&gt; | MEblack &lt;dbl&gt; | MEdarkmagenta &lt;dbl&gt; | MEbrown &lt;dbl&gt; | MEorange &lt;dbl&gt; | MEdarkolivegreen &lt;dbl&gt; | ⋯ ⋯ | MEdarkslateblue &lt;dbl&gt; | MEgreen &lt;dbl&gt; | MEpalevioletred3 &lt;dbl&gt; | MElavenderblush3 &lt;dbl&gt; | MElightcyan &lt;dbl&gt; | MEmaroon &lt;dbl&gt; | MEdarkturquoise &lt;dbl&gt; | MEbisque4 &lt;dbl&gt; | MEgrey60 &lt;dbl&gt; | MEgrey &lt;dbl&gt; |\n",
       "|---|---|---|---|---|---|---|---|---|---|---|---|---|---|---|---|---|---|---|---|---|---|\n",
       "| hggt_8D_1 | -0.1547160 | -0.13860480 |  0.56318625 | -0.08549718 | -0.1227549 | -0.07133603 | -0.1000516 |  0.2853357 |  0.03274687 |  0.63592297 | ⋯ | -0.1022584 | -0.08858037 |  0.5989983 | -0.13315294 | -0.10071830 | -0.14017595 | -0.08579307 | -0.12760825 | -0.10431161 | 0.2394393 |\n",
       "| hggt_8D_2 |  0.6589993 |  0.66050690 |  0.71398502 |  0.95669528 | -0.1270866 | -0.04845404 | -0.1347371 |  0.1971228 |  0.64769622 |  0.13322404 | ⋯ | -0.1573200 | -0.08967677 | -0.1193089 | -0.13046476 | -0.08286471 | -0.12584077 | -0.07907947 | -0.08879141 | -0.08703377 | 0.2683340 |\n",
       "| hggt_8D_3 | -0.1233636 |  0.03675637 | -0.13748536 | -0.06092011 |  0.6298489 |  0.95437153 |  0.6700439 |  0.2957457 |  0.61795703 |  0.59467065 | ⋯ | -0.1360943 | -0.04859532 | -0.0757872 | -0.10178069 | -0.10982989 | -0.14138929 | -0.09344094 | -0.10903336 | -0.11172854 | 0.3658184 |\n",
       "| hggt_16D_1 | -0.1002725 | -0.07110781 | -0.06573589 | -0.08089203 | -0.1140415 | -0.08017986 | -0.1007327 | -0.1202045 | -0.09647784 | -0.13406815 | ⋯ |  0.5928925 | -0.10428365 | -0.1084976 | -0.13710790 | -0.10693515 |  0.60561751 | -0.05302763 | -0.13960589 | -0.08035341 | 0.3176854 |\n",
       "| hggt_16D_2 | -0.1460405 |  0.60022533 | -0.12941555 | -0.08571670 | -0.1662987 | -0.09179035 | -0.1190252 | -0.1935702 | -0.10011463 | -0.09772226 | ⋯ | -0.1179488 | -0.11233519 | -0.1403901 | -0.13952094 | -0.09757914 | -0.12846030 | -0.08154164 | -0.15712812 | -0.10417386 | 0.3178860 |\n",
       "| hggt_16D_3 | -0.1257549 | -0.07226089 | -0.11206347 | -0.07994047 | -0.1559568 | -0.07258843 | -0.1490733 | -0.1135137 | -0.10890700 | -0.14684569 | ⋯ | -0.1310272 | -0.10243634 | -0.1392471 | -0.08831012 | -0.10661480 | -0.07032656 | -0.09458985 | -0.16439475 | -0.08467824 | 0.1569796 |\n",
       "\n"
      ],
      "text/plain": [
       "           MEdarkorange2 MEfloralwhite MEorangered4 MEroyalblue MEbrown4  \n",
       "hggt_8D_1  -0.1547160    -0.13860480    0.56318625  -0.08549718 -0.1227549\n",
       "hggt_8D_2   0.6589993     0.66050690    0.71398502   0.95669528 -0.1270866\n",
       "hggt_8D_3  -0.1233636     0.03675637   -0.13748536  -0.06092011  0.6298489\n",
       "hggt_16D_1 -0.1002725    -0.07110781   -0.06573589  -0.08089203 -0.1140415\n",
       "hggt_16D_2 -0.1460405     0.60022533   -0.12941555  -0.08571670 -0.1662987\n",
       "hggt_16D_3 -0.1257549    -0.07226089   -0.11206347  -0.07994047 -0.1559568\n",
       "           MEblack     MEdarkmagenta MEbrown    MEorange    MEdarkolivegreen ⋯\n",
       "hggt_8D_1  -0.07133603 -0.1000516     0.2853357  0.03274687  0.63592297      ⋯\n",
       "hggt_8D_2  -0.04845404 -0.1347371     0.1971228  0.64769622  0.13322404      ⋯\n",
       "hggt_8D_3   0.95437153  0.6700439     0.2957457  0.61795703  0.59467065      ⋯\n",
       "hggt_16D_1 -0.08017986 -0.1007327    -0.1202045 -0.09647784 -0.13406815      ⋯\n",
       "hggt_16D_2 -0.09179035 -0.1190252    -0.1935702 -0.10011463 -0.09772226      ⋯\n",
       "hggt_16D_3 -0.07258843 -0.1490733    -0.1135137 -0.10890700 -0.14684569      ⋯\n",
       "           MEdarkslateblue MEgreen     MEpalevioletred3 MElavenderblush3\n",
       "hggt_8D_1  -0.1022584      -0.08858037  0.5989983       -0.13315294     \n",
       "hggt_8D_2  -0.1573200      -0.08967677 -0.1193089       -0.13046476     \n",
       "hggt_8D_3  -0.1360943      -0.04859532 -0.0757872       -0.10178069     \n",
       "hggt_16D_1  0.5928925      -0.10428365 -0.1084976       -0.13710790     \n",
       "hggt_16D_2 -0.1179488      -0.11233519 -0.1403901       -0.13952094     \n",
       "hggt_16D_3 -0.1310272      -0.10243634 -0.1392471       -0.08831012     \n",
       "           MElightcyan MEmaroon    MEdarkturquoise MEbisque4   MEgrey60   \n",
       "hggt_8D_1  -0.10071830 -0.14017595 -0.08579307     -0.12760825 -0.10431161\n",
       "hggt_8D_2  -0.08286471 -0.12584077 -0.07907947     -0.08879141 -0.08703377\n",
       "hggt_8D_3  -0.10982989 -0.14138929 -0.09344094     -0.10903336 -0.11172854\n",
       "hggt_16D_1 -0.10693515  0.60561751 -0.05302763     -0.13960589 -0.08035341\n",
       "hggt_16D_2 -0.09757914 -0.12846030 -0.08154164     -0.15712812 -0.10417386\n",
       "hggt_16D_3 -0.10661480 -0.07032656 -0.09458985     -0.16439475 -0.08467824\n",
       "           MEgrey   \n",
       "hggt_8D_1  0.2394393\n",
       "hggt_8D_2  0.2683340\n",
       "hggt_8D_3  0.3658184\n",
       "hggt_16D_1 0.3176854\n",
       "hggt_16D_2 0.3178860\n",
       "hggt_16D_3 0.1569796"
      ]
     },
     "metadata": {},
     "output_type": "display_data"
    }
   ],
   "source": [
    "head(merge$newMEs)"
   ]
  },
  {
   "cell_type": "code",
   "execution_count": 124,
   "id": "9d5bf0be-784c-4da7-b09f-1a09f5c23c86",
   "metadata": {},
   "outputs": [
    {
     "data": {
      "text/html": [
       "<strong>pdf:</strong> 3"
      ],
      "text/latex": [
       "\\textbf{pdf:} 3"
      ],
      "text/markdown": [
       "**pdf:** 3"
      ],
      "text/plain": [
       "pdf \n",
       "  3 "
      ]
     },
     "metadata": {},
     "output_type": "display_data"
    },
    {
     "data": {
      "text/html": [
       "<strong>pdf:</strong> 3"
      ],
      "text/latex": [
       "\\textbf{pdf:} 3"
      ],
      "text/markdown": [
       "**pdf:** 3"
      ],
      "text/plain": [
       "pdf \n",
       "  3 "
      ]
     },
     "metadata": {},
     "output_type": "display_data"
    },
    {
     "data": {
      "text/html": [
       "<strong>pdf:</strong> 3"
      ],
      "text/latex": [
       "\\textbf{pdf:} 3"
      ],
      "text/markdown": [
       "**pdf:** 3"
      ],
      "text/plain": [
       "pdf \n",
       "  3 "
      ]
     },
     "metadata": {},
     "output_type": "display_data"
    }
   ],
   "source": [
    "dev.off()\n",
    "# Heatmap of old module eigen-genes and samples\n",
    "pdf(file=\"oldMEs.pdf\",heigh=4.5,width=10)\n",
    "\n",
    "pheatmap(merge$oldMEs,cluster_col=T,cluster_row=T,show_rownames=T,show_colnames=T,fontsize=10)\n",
    "dev.off()\n",
    "# Heatmap of new module eigen-genes and samples\n",
    "pdf(file=\"newMEs_no_colnames.pdf\",heigh=3,width=10)\n",
    "\n",
    "pheatmap(merge$newMEs,cluster_col=F,cluster_row=T,show_rownames=T,show_colnames=F,fontsize=10)\n",
    "dev.off()"
   ]
  },
  {
   "cell_type": "code",
   "execution_count": 24,
   "id": "74bb7507-3187-41cb-b732-628cf1d06758",
   "metadata": {},
   "outputs": [
    {
     "data": {
      "text/html": [
       "<style>\n",
       ".list-inline {list-style: none; margin:0; padding: 0}\n",
       ".list-inline>li {display: inline-block}\n",
       ".list-inline>li:not(:last-child)::after {content: \"\\00b7\"; padding: 0 .5ex}\n",
       "</style>\n",
       "<ol class=list-inline><li>'hggt_8D_1'</li><li>'hggt_8D_2'</li><li>'hggt_8D_3'</li><li>'hggt_16D_1'</li><li>'hggt_16D_2'</li><li>'hggt_16D_3'</li><li>'WT_8D_1'</li><li>'WT_8D_2'</li><li>'WT_8D_3'</li><li>'WT_16D_1'</li><li>'WT_16D_2'</li><li>'WT_16D_3'</li></ol>\n"
      ],
      "text/latex": [
       "\\begin{enumerate*}\n",
       "\\item 'hggt\\_8D\\_1'\n",
       "\\item 'hggt\\_8D\\_2'\n",
       "\\item 'hggt\\_8D\\_3'\n",
       "\\item 'hggt\\_16D\\_1'\n",
       "\\item 'hggt\\_16D\\_2'\n",
       "\\item 'hggt\\_16D\\_3'\n",
       "\\item 'WT\\_8D\\_1'\n",
       "\\item 'WT\\_8D\\_2'\n",
       "\\item 'WT\\_8D\\_3'\n",
       "\\item 'WT\\_16D\\_1'\n",
       "\\item 'WT\\_16D\\_2'\n",
       "\\item 'WT\\_16D\\_3'\n",
       "\\end{enumerate*}\n"
      ],
      "text/markdown": [
       "1. 'hggt_8D_1'\n",
       "2. 'hggt_8D_2'\n",
       "3. 'hggt_8D_3'\n",
       "4. 'hggt_16D_1'\n",
       "5. 'hggt_16D_2'\n",
       "6. 'hggt_16D_3'\n",
       "7. 'WT_8D_1'\n",
       "8. 'WT_8D_2'\n",
       "9. 'WT_8D_3'\n",
       "10. 'WT_16D_1'\n",
       "11. 'WT_16D_2'\n",
       "12. 'WT_16D_3'\n",
       "\n",
       "\n"
      ],
      "text/plain": [
       " [1] \"hggt_8D_1\"  \"hggt_8D_2\"  \"hggt_8D_3\"  \"hggt_16D_1\" \"hggt_16D_2\"\n",
       " [6] \"hggt_16D_3\" \"WT_8D_1\"    \"WT_8D_2\"    \"WT_8D_3\"    \"WT_16D_1\"  \n",
       "[11] \"WT_16D_2\"   \"WT_16D_3\"  "
      ]
     },
     "metadata": {},
     "output_type": "display_data"
    }
   ],
   "source": [
    "rownames(datExpr)"
   ]
  },
  {
   "cell_type": "code",
   "execution_count": 47,
   "id": "2d13fe8d-6b5b-408a-960d-fe54faf36341",
   "metadata": {},
   "outputs": [
    {
     "data": {
      "text/html": [
       "<table class=\"dataframe\">\n",
       "<caption>A data.frame: 12 × 2</caption>\n",
       "<thead>\n",
       "\t<tr><th></th><th scope=col>mutation</th><th scope=col>day</th></tr>\n",
       "\t<tr><th></th><th scope=col>&lt;dbl&gt;</th><th scope=col>&lt;dbl&gt;</th></tr>\n",
       "</thead>\n",
       "<tbody>\n",
       "\t<tr><th scope=row>hggt_10D_1</th><td>1</td><td> 8</td></tr>\n",
       "\t<tr><th scope=row>hggt_10D_2</th><td>1</td><td> 8</td></tr>\n",
       "\t<tr><th scope=row>hggt_10D_3</th><td>1</td><td> 8</td></tr>\n",
       "\t<tr><th scope=row>hggt_20D_1</th><td>1</td><td>16</td></tr>\n",
       "\t<tr><th scope=row>hggt_20D_2</th><td>1</td><td>16</td></tr>\n",
       "\t<tr><th scope=row>hggt_20D_3</th><td>1</td><td>16</td></tr>\n",
       "\t<tr><th scope=row>WT_10D_1</th><td>0</td><td> 8</td></tr>\n",
       "\t<tr><th scope=row>WT_10D_2</th><td>0</td><td> 8</td></tr>\n",
       "\t<tr><th scope=row>WT_10D_3</th><td>0</td><td> 8</td></tr>\n",
       "\t<tr><th scope=row>WT_20D_1</th><td>0</td><td>16</td></tr>\n",
       "\t<tr><th scope=row>WT_20D_2</th><td>0</td><td>16</td></tr>\n",
       "\t<tr><th scope=row>WT_20D_3</th><td>0</td><td>16</td></tr>\n",
       "</tbody>\n",
       "</table>\n"
      ],
      "text/latex": [
       "A data.frame: 12 × 2\n",
       "\\begin{tabular}{r|ll}\n",
       "  & mutation & day\\\\\n",
       "  & <dbl> & <dbl>\\\\\n",
       "\\hline\n",
       "\thggt\\_10D\\_1 & 1 &  8\\\\\n",
       "\thggt\\_10D\\_2 & 1 &  8\\\\\n",
       "\thggt\\_10D\\_3 & 1 &  8\\\\\n",
       "\thggt\\_20D\\_1 & 1 & 16\\\\\n",
       "\thggt\\_20D\\_2 & 1 & 16\\\\\n",
       "\thggt\\_20D\\_3 & 1 & 16\\\\\n",
       "\tWT\\_10D\\_1 & 0 &  8\\\\\n",
       "\tWT\\_10D\\_2 & 0 &  8\\\\\n",
       "\tWT\\_10D\\_3 & 0 &  8\\\\\n",
       "\tWT\\_20D\\_1 & 0 & 16\\\\\n",
       "\tWT\\_20D\\_2 & 0 & 16\\\\\n",
       "\tWT\\_20D\\_3 & 0 & 16\\\\\n",
       "\\end{tabular}\n"
      ],
      "text/markdown": [
       "\n",
       "A data.frame: 12 × 2\n",
       "\n",
       "| <!--/--> | mutation &lt;dbl&gt; | day &lt;dbl&gt; |\n",
       "|---|---|---|\n",
       "| hggt_10D_1 | 1 |  8 |\n",
       "| hggt_10D_2 | 1 |  8 |\n",
       "| hggt_10D_3 | 1 |  8 |\n",
       "| hggt_20D_1 | 1 | 16 |\n",
       "| hggt_20D_2 | 1 | 16 |\n",
       "| hggt_20D_3 | 1 | 16 |\n",
       "| WT_10D_1 | 0 |  8 |\n",
       "| WT_10D_2 | 0 |  8 |\n",
       "| WT_10D_3 | 0 |  8 |\n",
       "| WT_20D_1 | 0 | 16 |\n",
       "| WT_20D_2 | 0 | 16 |\n",
       "| WT_20D_3 | 0 | 16 |\n",
       "\n"
      ],
      "text/plain": [
       "           mutation day\n",
       "hggt_10D_1 1         8 \n",
       "hggt_10D_2 1         8 \n",
       "hggt_10D_3 1         8 \n",
       "hggt_20D_1 1        16 \n",
       "hggt_20D_2 1        16 \n",
       "hggt_20D_3 1        16 \n",
       "WT_10D_1   0         8 \n",
       "WT_10D_2   0         8 \n",
       "WT_10D_3   0         8 \n",
       "WT_20D_1   0        16 \n",
       "WT_20D_2   0        16 \n",
       "WT_20D_3   0        16 "
      ]
     },
     "metadata": {},
     "output_type": "display_data"
    }
   ],
   "source": [
    "allTraits"
   ]
  },
  {
   "cell_type": "code",
   "execution_count": 85,
   "id": "bc9322e3-6591-48f4-920d-c1852128c182",
   "metadata": {},
   "outputs": [],
   "source": [
    "library(readxl)"
   ]
  },
  {
   "cell_type": "code",
   "execution_count": 154,
   "id": "e80db492-862d-4e9e-bd13-89cc73c211f7",
   "metadata": {},
   "outputs": [
    {
     "data": {
      "text/html": [
       "<table class=\"dataframe\">\n",
       "<caption>A data.frame: 6 × 89</caption>\n",
       "<thead>\n",
       "\t<tr><th></th><th scope=col>sample</th><th scope=col>mutation</th><th scope=col>day</th><th scope=col>X1.3.Di.Tert.Butylbenzene</th><th scope=col>X2.Aminoadipic.acid</th><th scope=col>X2.Aminobutyric.acid</th><th scope=col>X2.Hydroxyglutaric.acid</th><th scope=col>X2.Keto.L.Gluconic.acid</th><th scope=col>X2.Ketoglutaric.acid</th><th scope=col>X2.Oxoisocaproic.acid</th><th scope=col>⋯</th><th scope=col>Threonine</th><th scope=col>Trehalose</th><th scope=col>Tryptophan</th><th scope=col>Tyrosine</th><th scope=col>Uracil</th><th scope=col>Urea</th><th scope=col>Uridine</th><th scope=col>Valine</th><th scope=col>Xylitol</th><th scope=col>Xylose</th></tr>\n",
       "\t<tr><th></th><th scope=col>&lt;chr&gt;</th><th scope=col>&lt;int&gt;</th><th scope=col>&lt;int&gt;</th><th scope=col>&lt;dbl&gt;</th><th scope=col>&lt;dbl&gt;</th><th scope=col>&lt;dbl&gt;</th><th scope=col>&lt;dbl&gt;</th><th scope=col>&lt;dbl&gt;</th><th scope=col>&lt;dbl&gt;</th><th scope=col>&lt;dbl&gt;</th><th scope=col>⋯</th><th scope=col>&lt;dbl&gt;</th><th scope=col>&lt;dbl&gt;</th><th scope=col>&lt;dbl&gt;</th><th scope=col>&lt;dbl&gt;</th><th scope=col>&lt;dbl&gt;</th><th scope=col>&lt;dbl&gt;</th><th scope=col>&lt;dbl&gt;</th><th scope=col>&lt;dbl&gt;</th><th scope=col>&lt;dbl&gt;</th><th scope=col>&lt;dbl&gt;</th></tr>\n",
       "</thead>\n",
       "<tbody>\n",
       "\t<tr><th scope=row>1</th><td>WT_16D_1</td><td>0</td><td>16</td><td>1.691127</td><td>15.505808</td><td> 9.200334</td><td>1.761205</td><td>3.549224</td><td>13.434477</td><td>1.454947</td><td>⋯</td><td>439.6497</td><td>229.7973</td><td>50.21292</td><td> 86.4842</td><td>102.34800</td><td>2.2731353</td><td>13.48603</td><td> 352.4574</td><td>1.636187</td><td> 4.342453</td></tr>\n",
       "\t<tr><th scope=row>2</th><td>WT_16D_2</td><td>0</td><td>16</td><td>1.691127</td><td>15.505808</td><td> 9.200334</td><td>1.761205</td><td>3.549224</td><td>13.434477</td><td>1.454947</td><td>⋯</td><td>439.6497</td><td>229.7973</td><td>50.21292</td><td> 86.4842</td><td>102.34800</td><td>2.2731353</td><td>13.48603</td><td> 352.4574</td><td>1.636187</td><td> 4.342453</td></tr>\n",
       "\t<tr><th scope=row>3</th><td>WT_16D_3</td><td>0</td><td>16</td><td>1.691127</td><td>15.505808</td><td> 9.200334</td><td>1.761205</td><td>3.549224</td><td>13.434477</td><td>1.454947</td><td>⋯</td><td>439.6497</td><td>229.7973</td><td>50.21292</td><td> 86.4842</td><td>102.34800</td><td>2.2731353</td><td>13.48603</td><td> 352.4574</td><td>1.636187</td><td> 4.342453</td></tr>\n",
       "\t<tr><th scope=row>4</th><td>WT_8D_1 </td><td>0</td><td> 8</td><td>2.410496</td><td> 1.114313</td><td>29.388846</td><td>1.446237</td><td>6.556177</td><td> 1.252001</td><td>2.632365</td><td>⋯</td><td>797.4040</td><td>159.6470</td><td>62.55957</td><td>198.5062</td><td> 47.63866</td><td>0.8039331</td><td>20.30028</td><td>2187.5902</td><td>1.705393</td><td>14.057764</td></tr>\n",
       "\t<tr><th scope=row>5</th><td>WT_8D_2 </td><td>0</td><td> 8</td><td>2.410496</td><td> 1.114313</td><td>29.388846</td><td>1.446237</td><td>6.556177</td><td> 1.252001</td><td>2.632365</td><td>⋯</td><td>797.4040</td><td>159.6470</td><td>62.55957</td><td>198.5062</td><td> 47.63866</td><td>0.8039331</td><td>20.30028</td><td>2187.5902</td><td>1.705393</td><td>14.057764</td></tr>\n",
       "\t<tr><th scope=row>6</th><td>WT_8D_3 </td><td>0</td><td> 8</td><td>2.410496</td><td> 1.114313</td><td>29.388846</td><td>1.446237</td><td>6.556177</td><td> 1.252001</td><td>2.632365</td><td>⋯</td><td>797.4040</td><td>159.6470</td><td>62.55957</td><td>198.5062</td><td> 47.63866</td><td>0.8039331</td><td>20.30028</td><td>2187.5902</td><td>1.705393</td><td>14.057764</td></tr>\n",
       "</tbody>\n",
       "</table>\n"
      ],
      "text/latex": [
       "A data.frame: 6 × 89\n",
       "\\begin{tabular}{r|lllllllllllllllllllll}\n",
       "  & sample & mutation & day & X1.3.Di.Tert.Butylbenzene & X2.Aminoadipic.acid & X2.Aminobutyric.acid & X2.Hydroxyglutaric.acid & X2.Keto.L.Gluconic.acid & X2.Ketoglutaric.acid & X2.Oxoisocaproic.acid & ⋯ & Threonine & Trehalose & Tryptophan & Tyrosine & Uracil & Urea & Uridine & Valine & Xylitol & Xylose\\\\\n",
       "  & <chr> & <int> & <int> & <dbl> & <dbl> & <dbl> & <dbl> & <dbl> & <dbl> & <dbl> & ⋯ & <dbl> & <dbl> & <dbl> & <dbl> & <dbl> & <dbl> & <dbl> & <dbl> & <dbl> & <dbl>\\\\\n",
       "\\hline\n",
       "\t1 & WT\\_16D\\_1 & 0 & 16 & 1.691127 & 15.505808 &  9.200334 & 1.761205 & 3.549224 & 13.434477 & 1.454947 & ⋯ & 439.6497 & 229.7973 & 50.21292 &  86.4842 & 102.34800 & 2.2731353 & 13.48603 &  352.4574 & 1.636187 &  4.342453\\\\\n",
       "\t2 & WT\\_16D\\_2 & 0 & 16 & 1.691127 & 15.505808 &  9.200334 & 1.761205 & 3.549224 & 13.434477 & 1.454947 & ⋯ & 439.6497 & 229.7973 & 50.21292 &  86.4842 & 102.34800 & 2.2731353 & 13.48603 &  352.4574 & 1.636187 &  4.342453\\\\\n",
       "\t3 & WT\\_16D\\_3 & 0 & 16 & 1.691127 & 15.505808 &  9.200334 & 1.761205 & 3.549224 & 13.434477 & 1.454947 & ⋯ & 439.6497 & 229.7973 & 50.21292 &  86.4842 & 102.34800 & 2.2731353 & 13.48603 &  352.4574 & 1.636187 &  4.342453\\\\\n",
       "\t4 & WT\\_8D\\_1  & 0 &  8 & 2.410496 &  1.114313 & 29.388846 & 1.446237 & 6.556177 &  1.252001 & 2.632365 & ⋯ & 797.4040 & 159.6470 & 62.55957 & 198.5062 &  47.63866 & 0.8039331 & 20.30028 & 2187.5902 & 1.705393 & 14.057764\\\\\n",
       "\t5 & WT\\_8D\\_2  & 0 &  8 & 2.410496 &  1.114313 & 29.388846 & 1.446237 & 6.556177 &  1.252001 & 2.632365 & ⋯ & 797.4040 & 159.6470 & 62.55957 & 198.5062 &  47.63866 & 0.8039331 & 20.30028 & 2187.5902 & 1.705393 & 14.057764\\\\\n",
       "\t6 & WT\\_8D\\_3  & 0 &  8 & 2.410496 &  1.114313 & 29.388846 & 1.446237 & 6.556177 &  1.252001 & 2.632365 & ⋯ & 797.4040 & 159.6470 & 62.55957 & 198.5062 &  47.63866 & 0.8039331 & 20.30028 & 2187.5902 & 1.705393 & 14.057764\\\\\n",
       "\\end{tabular}\n"
      ],
      "text/markdown": [
       "\n",
       "A data.frame: 6 × 89\n",
       "\n",
       "| <!--/--> | sample &lt;chr&gt; | mutation &lt;int&gt; | day &lt;int&gt; | X1.3.Di.Tert.Butylbenzene &lt;dbl&gt; | X2.Aminoadipic.acid &lt;dbl&gt; | X2.Aminobutyric.acid &lt;dbl&gt; | X2.Hydroxyglutaric.acid &lt;dbl&gt; | X2.Keto.L.Gluconic.acid &lt;dbl&gt; | X2.Ketoglutaric.acid &lt;dbl&gt; | X2.Oxoisocaproic.acid &lt;dbl&gt; | ⋯ ⋯ | Threonine &lt;dbl&gt; | Trehalose &lt;dbl&gt; | Tryptophan &lt;dbl&gt; | Tyrosine &lt;dbl&gt; | Uracil &lt;dbl&gt; | Urea &lt;dbl&gt; | Uridine &lt;dbl&gt; | Valine &lt;dbl&gt; | Xylitol &lt;dbl&gt; | Xylose &lt;dbl&gt; |\n",
       "|---|---|---|---|---|---|---|---|---|---|---|---|---|---|---|---|---|---|---|---|---|---|\n",
       "| 1 | WT_16D_1 | 0 | 16 | 1.691127 | 15.505808 |  9.200334 | 1.761205 | 3.549224 | 13.434477 | 1.454947 | ⋯ | 439.6497 | 229.7973 | 50.21292 |  86.4842 | 102.34800 | 2.2731353 | 13.48603 |  352.4574 | 1.636187 |  4.342453 |\n",
       "| 2 | WT_16D_2 | 0 | 16 | 1.691127 | 15.505808 |  9.200334 | 1.761205 | 3.549224 | 13.434477 | 1.454947 | ⋯ | 439.6497 | 229.7973 | 50.21292 |  86.4842 | 102.34800 | 2.2731353 | 13.48603 |  352.4574 | 1.636187 |  4.342453 |\n",
       "| 3 | WT_16D_3 | 0 | 16 | 1.691127 | 15.505808 |  9.200334 | 1.761205 | 3.549224 | 13.434477 | 1.454947 | ⋯ | 439.6497 | 229.7973 | 50.21292 |  86.4842 | 102.34800 | 2.2731353 | 13.48603 |  352.4574 | 1.636187 |  4.342453 |\n",
       "| 4 | WT_8D_1  | 0 |  8 | 2.410496 |  1.114313 | 29.388846 | 1.446237 | 6.556177 |  1.252001 | 2.632365 | ⋯ | 797.4040 | 159.6470 | 62.55957 | 198.5062 |  47.63866 | 0.8039331 | 20.30028 | 2187.5902 | 1.705393 | 14.057764 |\n",
       "| 5 | WT_8D_2  | 0 |  8 | 2.410496 |  1.114313 | 29.388846 | 1.446237 | 6.556177 |  1.252001 | 2.632365 | ⋯ | 797.4040 | 159.6470 | 62.55957 | 198.5062 |  47.63866 | 0.8039331 | 20.30028 | 2187.5902 | 1.705393 | 14.057764 |\n",
       "| 6 | WT_8D_3  | 0 |  8 | 2.410496 |  1.114313 | 29.388846 | 1.446237 | 6.556177 |  1.252001 | 2.632365 | ⋯ | 797.4040 | 159.6470 | 62.55957 | 198.5062 |  47.63866 | 0.8039331 | 20.30028 | 2187.5902 | 1.705393 | 14.057764 |\n",
       "\n"
      ],
      "text/plain": [
       "  sample   mutation day X1.3.Di.Tert.Butylbenzene X2.Aminoadipic.acid\n",
       "1 WT_16D_1 0        16  1.691127                  15.505808          \n",
       "2 WT_16D_2 0        16  1.691127                  15.505808          \n",
       "3 WT_16D_3 0        16  1.691127                  15.505808          \n",
       "4 WT_8D_1  0         8  2.410496                   1.114313          \n",
       "5 WT_8D_2  0         8  2.410496                   1.114313          \n",
       "6 WT_8D_3  0         8  2.410496                   1.114313          \n",
       "  X2.Aminobutyric.acid X2.Hydroxyglutaric.acid X2.Keto.L.Gluconic.acid\n",
       "1  9.200334            1.761205                3.549224               \n",
       "2  9.200334            1.761205                3.549224               \n",
       "3  9.200334            1.761205                3.549224               \n",
       "4 29.388846            1.446237                6.556177               \n",
       "5 29.388846            1.446237                6.556177               \n",
       "6 29.388846            1.446237                6.556177               \n",
       "  X2.Ketoglutaric.acid X2.Oxoisocaproic.acid ⋯ Threonine Trehalose Tryptophan\n",
       "1 13.434477            1.454947              ⋯ 439.6497  229.7973  50.21292  \n",
       "2 13.434477            1.454947              ⋯ 439.6497  229.7973  50.21292  \n",
       "3 13.434477            1.454947              ⋯ 439.6497  229.7973  50.21292  \n",
       "4  1.252001            2.632365              ⋯ 797.4040  159.6470  62.55957  \n",
       "5  1.252001            2.632365              ⋯ 797.4040  159.6470  62.55957  \n",
       "6  1.252001            2.632365              ⋯ 797.4040  159.6470  62.55957  \n",
       "  Tyrosine Uracil    Urea      Uridine  Valine    Xylitol  Xylose   \n",
       "1  86.4842 102.34800 2.2731353 13.48603  352.4574 1.636187  4.342453\n",
       "2  86.4842 102.34800 2.2731353 13.48603  352.4574 1.636187  4.342453\n",
       "3  86.4842 102.34800 2.2731353 13.48603  352.4574 1.636187  4.342453\n",
       "4 198.5062  47.63866 0.8039331 20.30028 2187.5902 1.705393 14.057764\n",
       "5 198.5062  47.63866 0.8039331 20.30028 2187.5902 1.705393 14.057764\n",
       "6 198.5062  47.63866 0.8039331 20.30028 2187.5902 1.705393 14.057764"
      ]
     },
     "metadata": {},
     "output_type": "display_data"
    }
   ],
   "source": [
    "head(data1)"
   ]
  },
  {
   "cell_type": "code",
   "execution_count": 87,
   "id": "974e52d8-38de-4677-a694-0b23dd26a66a",
   "metadata": {},
   "outputs": [
    {
     "data": {
      "text/html": [
       "<table class=\"dataframe\">\n",
       "<caption>A data.frame: 6 × 23</caption>\n",
       "<thead>\n",
       "\t<tr><th></th><th scope=col>mutation</th><th scope=col>day</th><th scope=col>Fructose</th><th scope=col>Fructose-6-Phosphate</th><th scope=col>Galactose</th><th scope=col>Gentiobiose</th><th scope=col>Gluconic acid</th><th scope=col>Glucose</th><th scope=col>Glucose-6-Phosphate</th><th scope=col>Glycerol</th><th scope=col>⋯</th><th scope=col>Mannitol</th><th scope=col>Myo-Inositol</th><th scope=col>Myo-Inositol-1-Phosphate</th><th scope=col>Ribose</th><th scope=col>Sorbitol-6-Phosphate</th><th scope=col>Sucrose</th><th scope=col>Trehalose</th><th scope=col>Xylitol</th><th scope=col>Xylose</th><th scope=col>Erythritol</th></tr>\n",
       "\t<tr><th></th><th scope=col>&lt;dbl&gt;</th><th scope=col>&lt;dbl&gt;</th><th scope=col>&lt;dbl&gt;</th><th scope=col>&lt;dbl&gt;</th><th scope=col>&lt;dbl&gt;</th><th scope=col>&lt;dbl&gt;</th><th scope=col>&lt;dbl&gt;</th><th scope=col>&lt;dbl&gt;</th><th scope=col>&lt;dbl&gt;</th><th scope=col>&lt;dbl&gt;</th><th scope=col>⋯</th><th scope=col>&lt;dbl&gt;</th><th scope=col>&lt;dbl&gt;</th><th scope=col>&lt;dbl&gt;</th><th scope=col>&lt;dbl&gt;</th><th scope=col>&lt;dbl&gt;</th><th scope=col>&lt;dbl&gt;</th><th scope=col>&lt;dbl&gt;</th><th scope=col>&lt;dbl&gt;</th><th scope=col>&lt;dbl&gt;</th><th scope=col>&lt;dbl&gt;</th></tr>\n",
       "</thead>\n",
       "<tbody>\n",
       "\t<tr><th scope=row>WT_16D_1</th><td>0</td><td>16</td><td> 420.1</td><td>4.7</td><td>131.8</td><td>58.8</td><td>2.9</td><td> 565.0</td><td> 7.2</td><td>203.7</td><td>⋯</td><td>23.0</td><td>167.1</td><td>12.5</td><td>39.4</td><td>1.3</td><td>4165.4</td><td>229.8</td><td>1.6</td><td> 4.3</td><td>2.6</td></tr>\n",
       "\t<tr><th scope=row>WT_16D_2</th><td>0</td><td>16</td><td> 420.1</td><td>4.7</td><td>131.8</td><td>58.8</td><td>2.9</td><td> 565.0</td><td> 7.2</td><td>203.7</td><td>⋯</td><td>23.0</td><td>167.1</td><td>12.5</td><td>39.4</td><td>1.3</td><td>4165.4</td><td>229.8</td><td>1.6</td><td> 4.3</td><td>2.6</td></tr>\n",
       "\t<tr><th scope=row>WT_16D_3</th><td>0</td><td>16</td><td> 420.1</td><td>4.7</td><td>131.8</td><td>58.8</td><td>2.9</td><td> 565.0</td><td> 7.2</td><td>203.7</td><td>⋯</td><td>23.0</td><td>167.1</td><td>12.5</td><td>39.4</td><td>1.3</td><td>4165.4</td><td>229.8</td><td>1.6</td><td> 4.3</td><td>2.6</td></tr>\n",
       "\t<tr><th scope=row>WT_8D_1</th><td>0</td><td> 8</td><td>1882.4</td><td>8.6</td><td>780.7</td><td>44.8</td><td>7.8</td><td>3969.2</td><td>12.0</td><td>407.2</td><td>⋯</td><td>12.5</td><td>264.2</td><td>17.6</td><td>16.4</td><td>2.1</td><td>4537.3</td><td>159.6</td><td>1.7</td><td>14.1</td><td>1.7</td></tr>\n",
       "\t<tr><th scope=row>WT_8D_2</th><td>0</td><td> 8</td><td>1882.4</td><td>8.6</td><td>780.7</td><td>44.8</td><td>7.8</td><td>3969.2</td><td>12.0</td><td>407.2</td><td>⋯</td><td>12.5</td><td>264.2</td><td>17.6</td><td>16.4</td><td>2.1</td><td>4537.3</td><td>159.6</td><td>1.7</td><td>14.1</td><td>1.7</td></tr>\n",
       "\t<tr><th scope=row>WT_8D_3</th><td>0</td><td> 8</td><td>1882.4</td><td>8.6</td><td>780.7</td><td>44.8</td><td>7.8</td><td>3969.2</td><td>12.0</td><td>407.2</td><td>⋯</td><td>12.5</td><td>264.2</td><td>17.6</td><td>16.4</td><td>2.1</td><td>4537.3</td><td>159.6</td><td>1.7</td><td>14.1</td><td>1.7</td></tr>\n",
       "</tbody>\n",
       "</table>\n"
      ],
      "text/latex": [
       "A data.frame: 6 × 23\n",
       "\\begin{tabular}{r|lllllllllllllllllllll}\n",
       "  & mutation & day & Fructose & Fructose-6-Phosphate & Galactose & Gentiobiose & Gluconic acid & Glucose & Glucose-6-Phosphate & Glycerol & ⋯ & Mannitol & Myo-Inositol & Myo-Inositol-1-Phosphate & Ribose & Sorbitol-6-Phosphate & Sucrose & Trehalose & Xylitol & Xylose & Erythritol\\\\\n",
       "  & <dbl> & <dbl> & <dbl> & <dbl> & <dbl> & <dbl> & <dbl> & <dbl> & <dbl> & <dbl> & ⋯ & <dbl> & <dbl> & <dbl> & <dbl> & <dbl> & <dbl> & <dbl> & <dbl> & <dbl> & <dbl>\\\\\n",
       "\\hline\n",
       "\tWT\\_16D\\_1 & 0 & 16 &  420.1 & 4.7 & 131.8 & 58.8 & 2.9 &  565.0 &  7.2 & 203.7 & ⋯ & 23.0 & 167.1 & 12.5 & 39.4 & 1.3 & 4165.4 & 229.8 & 1.6 &  4.3 & 2.6\\\\\n",
       "\tWT\\_16D\\_2 & 0 & 16 &  420.1 & 4.7 & 131.8 & 58.8 & 2.9 &  565.0 &  7.2 & 203.7 & ⋯ & 23.0 & 167.1 & 12.5 & 39.4 & 1.3 & 4165.4 & 229.8 & 1.6 &  4.3 & 2.6\\\\\n",
       "\tWT\\_16D\\_3 & 0 & 16 &  420.1 & 4.7 & 131.8 & 58.8 & 2.9 &  565.0 &  7.2 & 203.7 & ⋯ & 23.0 & 167.1 & 12.5 & 39.4 & 1.3 & 4165.4 & 229.8 & 1.6 &  4.3 & 2.6\\\\\n",
       "\tWT\\_8D\\_1 & 0 &  8 & 1882.4 & 8.6 & 780.7 & 44.8 & 7.8 & 3969.2 & 12.0 & 407.2 & ⋯ & 12.5 & 264.2 & 17.6 & 16.4 & 2.1 & 4537.3 & 159.6 & 1.7 & 14.1 & 1.7\\\\\n",
       "\tWT\\_8D\\_2 & 0 &  8 & 1882.4 & 8.6 & 780.7 & 44.8 & 7.8 & 3969.2 & 12.0 & 407.2 & ⋯ & 12.5 & 264.2 & 17.6 & 16.4 & 2.1 & 4537.3 & 159.6 & 1.7 & 14.1 & 1.7\\\\\n",
       "\tWT\\_8D\\_3 & 0 &  8 & 1882.4 & 8.6 & 780.7 & 44.8 & 7.8 & 3969.2 & 12.0 & 407.2 & ⋯ & 12.5 & 264.2 & 17.6 & 16.4 & 2.1 & 4537.3 & 159.6 & 1.7 & 14.1 & 1.7\\\\\n",
       "\\end{tabular}\n"
      ],
      "text/markdown": [
       "\n",
       "A data.frame: 6 × 23\n",
       "\n",
       "| <!--/--> | mutation &lt;dbl&gt; | day &lt;dbl&gt; | Fructose &lt;dbl&gt; | Fructose-6-Phosphate &lt;dbl&gt; | Galactose &lt;dbl&gt; | Gentiobiose &lt;dbl&gt; | Gluconic acid &lt;dbl&gt; | Glucose &lt;dbl&gt; | Glucose-6-Phosphate &lt;dbl&gt; | Glycerol &lt;dbl&gt; | ⋯ ⋯ | Mannitol &lt;dbl&gt; | Myo-Inositol &lt;dbl&gt; | Myo-Inositol-1-Phosphate &lt;dbl&gt; | Ribose &lt;dbl&gt; | Sorbitol-6-Phosphate &lt;dbl&gt; | Sucrose &lt;dbl&gt; | Trehalose &lt;dbl&gt; | Xylitol &lt;dbl&gt; | Xylose &lt;dbl&gt; | Erythritol &lt;dbl&gt; |\n",
       "|---|---|---|---|---|---|---|---|---|---|---|---|---|---|---|---|---|---|---|---|---|---|\n",
       "| WT_16D_1 | 0 | 16 |  420.1 | 4.7 | 131.8 | 58.8 | 2.9 |  565.0 |  7.2 | 203.7 | ⋯ | 23.0 | 167.1 | 12.5 | 39.4 | 1.3 | 4165.4 | 229.8 | 1.6 |  4.3 | 2.6 |\n",
       "| WT_16D_2 | 0 | 16 |  420.1 | 4.7 | 131.8 | 58.8 | 2.9 |  565.0 |  7.2 | 203.7 | ⋯ | 23.0 | 167.1 | 12.5 | 39.4 | 1.3 | 4165.4 | 229.8 | 1.6 |  4.3 | 2.6 |\n",
       "| WT_16D_3 | 0 | 16 |  420.1 | 4.7 | 131.8 | 58.8 | 2.9 |  565.0 |  7.2 | 203.7 | ⋯ | 23.0 | 167.1 | 12.5 | 39.4 | 1.3 | 4165.4 | 229.8 | 1.6 |  4.3 | 2.6 |\n",
       "| WT_8D_1 | 0 |  8 | 1882.4 | 8.6 | 780.7 | 44.8 | 7.8 | 3969.2 | 12.0 | 407.2 | ⋯ | 12.5 | 264.2 | 17.6 | 16.4 | 2.1 | 4537.3 | 159.6 | 1.7 | 14.1 | 1.7 |\n",
       "| WT_8D_2 | 0 |  8 | 1882.4 | 8.6 | 780.7 | 44.8 | 7.8 | 3969.2 | 12.0 | 407.2 | ⋯ | 12.5 | 264.2 | 17.6 | 16.4 | 2.1 | 4537.3 | 159.6 | 1.7 | 14.1 | 1.7 |\n",
       "| WT_8D_3 | 0 |  8 | 1882.4 | 8.6 | 780.7 | 44.8 | 7.8 | 3969.2 | 12.0 | 407.2 | ⋯ | 12.5 | 264.2 | 17.6 | 16.4 | 2.1 | 4537.3 | 159.6 | 1.7 | 14.1 | 1.7 |\n",
       "\n"
      ],
      "text/plain": [
       "         mutation day Fructose Fructose-6-Phosphate Galactose Gentiobiose\n",
       "WT_16D_1 0        16   420.1   4.7                  131.8     58.8       \n",
       "WT_16D_2 0        16   420.1   4.7                  131.8     58.8       \n",
       "WT_16D_3 0        16   420.1   4.7                  131.8     58.8       \n",
       "WT_8D_1  0         8  1882.4   8.6                  780.7     44.8       \n",
       "WT_8D_2  0         8  1882.4   8.6                  780.7     44.8       \n",
       "WT_8D_3  0         8  1882.4   8.6                  780.7     44.8       \n",
       "         Gluconic acid Glucose Glucose-6-Phosphate Glycerol ⋯ Mannitol\n",
       "WT_16D_1 2.9            565.0   7.2                203.7    ⋯ 23.0    \n",
       "WT_16D_2 2.9            565.0   7.2                203.7    ⋯ 23.0    \n",
       "WT_16D_3 2.9            565.0   7.2                203.7    ⋯ 23.0    \n",
       "WT_8D_1  7.8           3969.2  12.0                407.2    ⋯ 12.5    \n",
       "WT_8D_2  7.8           3969.2  12.0                407.2    ⋯ 12.5    \n",
       "WT_8D_3  7.8           3969.2  12.0                407.2    ⋯ 12.5    \n",
       "         Myo-Inositol Myo-Inositol-1-Phosphate Ribose Sorbitol-6-Phosphate\n",
       "WT_16D_1 167.1        12.5                     39.4   1.3                 \n",
       "WT_16D_2 167.1        12.5                     39.4   1.3                 \n",
       "WT_16D_3 167.1        12.5                     39.4   1.3                 \n",
       "WT_8D_1  264.2        17.6                     16.4   2.1                 \n",
       "WT_8D_2  264.2        17.6                     16.4   2.1                 \n",
       "WT_8D_3  264.2        17.6                     16.4   2.1                 \n",
       "         Sucrose Trehalose Xylitol Xylose Erythritol\n",
       "WT_16D_1 4165.4  229.8     1.6      4.3   2.6       \n",
       "WT_16D_2 4165.4  229.8     1.6      4.3   2.6       \n",
       "WT_16D_3 4165.4  229.8     1.6      4.3   2.6       \n",
       "WT_8D_1  4537.3  159.6     1.7     14.1   1.7       \n",
       "WT_8D_2  4537.3  159.6     1.7     14.1   1.7       \n",
       "WT_8D_3  4537.3  159.6     1.7     14.1   1.7       "
      ]
     },
     "metadata": {},
     "output_type": "display_data"
    }
   ],
   "source": [
    "data1 <- read.csv('allTraits.csv', header = TRUE)\n",
    "sugars <- read_excel(\"allTraits_zzh.xlsx\", sheet = \"sugars\", col_names = TRUE)\n",
    "aminos <- read_excel(\"allTraits_zzh.xlsx\", sheet = \"aminos\", col_names = TRUE)\n",
    "acids <- read_excel(\"allTraits_zzh.xlsx\", sheet = \"acids\", col_names = TRUE)\n",
    "others <- read_excel(\"allTraits_zzh.xlsx\", sheet = \"others\", col_names = TRUE)\n",
    "allTraits = as.data.frame(data1[, -c(1)]) ##\n",
    "rownames(allTraits) = data1$sample\n",
    "\n",
    "sugar = as.data.frame(sugars[, -c(1)]) ##\n",
    "rownames(sugar) = sugars$sample\n",
    "\n",
    "amino = as.data.frame(aminos[, -c(1)]) ##\n",
    "rownames(amino) = aminos$sample\n",
    "\n",
    "acid = as.data.frame(acids[, -c(1)]) ##\n",
    "rownames(acid) = acids$sample\n",
    "\n",
    "other = as.data.frame(others[, -c(1)]) ##\n",
    "rownames(other) = others$sample\n",
    "head(sugar)"
   ]
  },
  {
   "cell_type": "code",
   "execution_count": 155,
   "id": "d0e3a2c1-cc3f-410e-ac43-65781e912ada",
   "metadata": {},
   "outputs": [],
   "source": [
    "mutation_day = as.data.frame(data1[c('mutation','day')]) ##\n",
    "rownames(mutation_day) = data1$sample"
   ]
  },
  {
   "cell_type": "code",
   "execution_count": 156,
   "id": "cfcbfbbf-9eb6-471a-bf33-846f4fb192cb",
   "metadata": {},
   "outputs": [
    {
     "data": {
      "text/html": [
       "<table class=\"dataframe\">\n",
       "<caption>A data.frame: 6 × 2</caption>\n",
       "<thead>\n",
       "\t<tr><th></th><th scope=col>mutation</th><th scope=col>day</th></tr>\n",
       "\t<tr><th></th><th scope=col>&lt;int&gt;</th><th scope=col>&lt;int&gt;</th></tr>\n",
       "</thead>\n",
       "<tbody>\n",
       "\t<tr><th scope=row>WT_16D_1</th><td>0</td><td>16</td></tr>\n",
       "\t<tr><th scope=row>WT_16D_2</th><td>0</td><td>16</td></tr>\n",
       "\t<tr><th scope=row>WT_16D_3</th><td>0</td><td>16</td></tr>\n",
       "\t<tr><th scope=row>WT_8D_1</th><td>0</td><td> 8</td></tr>\n",
       "\t<tr><th scope=row>WT_8D_2</th><td>0</td><td> 8</td></tr>\n",
       "\t<tr><th scope=row>WT_8D_3</th><td>0</td><td> 8</td></tr>\n",
       "</tbody>\n",
       "</table>\n"
      ],
      "text/latex": [
       "A data.frame: 6 × 2\n",
       "\\begin{tabular}{r|ll}\n",
       "  & mutation & day\\\\\n",
       "  & <int> & <int>\\\\\n",
       "\\hline\n",
       "\tWT\\_16D\\_1 & 0 & 16\\\\\n",
       "\tWT\\_16D\\_2 & 0 & 16\\\\\n",
       "\tWT\\_16D\\_3 & 0 & 16\\\\\n",
       "\tWT\\_8D\\_1 & 0 &  8\\\\\n",
       "\tWT\\_8D\\_2 & 0 &  8\\\\\n",
       "\tWT\\_8D\\_3 & 0 &  8\\\\\n",
       "\\end{tabular}\n"
      ],
      "text/markdown": [
       "\n",
       "A data.frame: 6 × 2\n",
       "\n",
       "| <!--/--> | mutation &lt;int&gt; | day &lt;int&gt; |\n",
       "|---|---|---|\n",
       "| WT_16D_1 | 0 | 16 |\n",
       "| WT_16D_2 | 0 | 16 |\n",
       "| WT_16D_3 | 0 | 16 |\n",
       "| WT_8D_1 | 0 |  8 |\n",
       "| WT_8D_2 | 0 |  8 |\n",
       "| WT_8D_3 | 0 |  8 |\n",
       "\n"
      ],
      "text/plain": [
       "         mutation day\n",
       "WT_16D_1 0        16 \n",
       "WT_16D_2 0        16 \n",
       "WT_16D_3 0        16 \n",
       "WT_8D_1  0         8 \n",
       "WT_8D_2  0         8 \n",
       "WT_8D_3  0         8 "
      ]
     },
     "metadata": {},
     "output_type": "display_data"
    }
   ],
   "source": [
    "head(mutation_day)"
   ]
  },
  {
   "cell_type": "code",
   "execution_count": 88,
   "id": "bf61690f-de5a-41ad-8396-b441d181cdb3",
   "metadata": {},
   "outputs": [],
   "source": [
    "#=====================================================================================\n",
    "#\n",
    "#  Correlation between gene modules and microbial traits\n",
    "#\n",
    "#=====================================================================================\n",
    "\n",
    "# Define numbers of genes and samples\n",
    "nGenes = ncol(datExpr);\n",
    "nSamples = nrow(datExpr);\n",
    "# Recalculate MEs with color labels\n",
    "MEs0 = moduleEigengenes(datExpr, mergedColors)$eigengenes\n",
    "MEs = orderMEs(MEs0)"
   ]
  },
  {
   "cell_type": "code",
   "execution_count": 108,
   "id": "05843923-0fe0-4552-a9b6-7f240adc0dc6",
   "metadata": {},
   "outputs": [
    {
     "data": {
      "text/html": [
       "<table class=\"dataframe\">\n",
       "<caption>A data.frame: 6 × 38</caption>\n",
       "<thead>\n",
       "\t<tr><th></th><th scope=col>MEdarkorange2</th><th scope=col>MEfloralwhite</th><th scope=col>MEorangered4</th><th scope=col>MEroyalblue</th><th scope=col>MEbrown4</th><th scope=col>MEblack</th><th scope=col>MEdarkmagenta</th><th scope=col>MEbrown</th><th scope=col>MEorange</th><th scope=col>MEdarkolivegreen</th><th scope=col>⋯</th><th scope=col>MEdarkslateblue</th><th scope=col>MEgreen</th><th scope=col>MEpalevioletred3</th><th scope=col>MElavenderblush3</th><th scope=col>MElightcyan</th><th scope=col>MEmaroon</th><th scope=col>MEdarkturquoise</th><th scope=col>MEbisque4</th><th scope=col>MEgrey60</th><th scope=col>MEgrey</th></tr>\n",
       "\t<tr><th></th><th scope=col>&lt;dbl&gt;</th><th scope=col>&lt;dbl&gt;</th><th scope=col>&lt;dbl&gt;</th><th scope=col>&lt;dbl&gt;</th><th scope=col>&lt;dbl&gt;</th><th scope=col>&lt;dbl&gt;</th><th scope=col>&lt;dbl&gt;</th><th scope=col>&lt;dbl&gt;</th><th scope=col>&lt;dbl&gt;</th><th scope=col>&lt;dbl&gt;</th><th scope=col>⋯</th><th scope=col>&lt;dbl&gt;</th><th scope=col>&lt;dbl&gt;</th><th scope=col>&lt;dbl&gt;</th><th scope=col>&lt;dbl&gt;</th><th scope=col>&lt;dbl&gt;</th><th scope=col>&lt;dbl&gt;</th><th scope=col>&lt;dbl&gt;</th><th scope=col>&lt;dbl&gt;</th><th scope=col>&lt;dbl&gt;</th><th scope=col>&lt;dbl&gt;</th></tr>\n",
       "</thead>\n",
       "<tbody>\n",
       "\t<tr><th scope=row>hggt_8D_1</th><td>-0.1547160</td><td>-0.13860480</td><td> 0.56318625</td><td>-0.08549718</td><td>-0.1227549</td><td>-0.07133603</td><td>-0.1000516</td><td> 0.2853357</td><td> 0.03274687</td><td> 0.63592297</td><td>⋯</td><td>-0.1022584</td><td>-0.08858037</td><td> 0.5989983</td><td>-0.13315294</td><td>-0.10071830</td><td>-0.14017595</td><td>-0.08579307</td><td>-0.12760825</td><td>-0.10431161</td><td>0.2394393</td></tr>\n",
       "\t<tr><th scope=row>hggt_8D_2</th><td> 0.6589993</td><td> 0.66050690</td><td> 0.71398502</td><td> 0.95669528</td><td>-0.1270866</td><td>-0.04845404</td><td>-0.1347371</td><td> 0.1971228</td><td> 0.64769622</td><td> 0.13322404</td><td>⋯</td><td>-0.1573200</td><td>-0.08967677</td><td>-0.1193089</td><td>-0.13046476</td><td>-0.08286471</td><td>-0.12584077</td><td>-0.07907947</td><td>-0.08879141</td><td>-0.08703377</td><td>0.2683340</td></tr>\n",
       "\t<tr><th scope=row>hggt_8D_3</th><td>-0.1233636</td><td> 0.03675637</td><td>-0.13748536</td><td>-0.06092011</td><td> 0.6298489</td><td> 0.95437153</td><td> 0.6700439</td><td> 0.2957457</td><td> 0.61795703</td><td> 0.59467065</td><td>⋯</td><td>-0.1360943</td><td>-0.04859532</td><td>-0.0757872</td><td>-0.10178069</td><td>-0.10982989</td><td>-0.14138929</td><td>-0.09344094</td><td>-0.10903336</td><td>-0.11172854</td><td>0.3658184</td></tr>\n",
       "\t<tr><th scope=row>hggt_16D_1</th><td>-0.1002725</td><td>-0.07110781</td><td>-0.06573589</td><td>-0.08089203</td><td>-0.1140415</td><td>-0.08017986</td><td>-0.1007327</td><td>-0.1202045</td><td>-0.09647784</td><td>-0.13406815</td><td>⋯</td><td> 0.5928925</td><td>-0.10428365</td><td>-0.1084976</td><td>-0.13710790</td><td>-0.10693515</td><td> 0.60561751</td><td>-0.05302763</td><td>-0.13960589</td><td>-0.08035341</td><td>0.3176854</td></tr>\n",
       "\t<tr><th scope=row>hggt_16D_2</th><td>-0.1460405</td><td> 0.60022533</td><td>-0.12941555</td><td>-0.08571670</td><td>-0.1662987</td><td>-0.09179035</td><td>-0.1190252</td><td>-0.1935702</td><td>-0.10011463</td><td>-0.09772226</td><td>⋯</td><td>-0.1179488</td><td>-0.11233519</td><td>-0.1403901</td><td>-0.13952094</td><td>-0.09757914</td><td>-0.12846030</td><td>-0.08154164</td><td>-0.15712812</td><td>-0.10417386</td><td>0.3178860</td></tr>\n",
       "\t<tr><th scope=row>hggt_16D_3</th><td>-0.1257549</td><td>-0.07226089</td><td>-0.11206347</td><td>-0.07994047</td><td>-0.1559568</td><td>-0.07258843</td><td>-0.1490733</td><td>-0.1135137</td><td>-0.10890700</td><td>-0.14684569</td><td>⋯</td><td>-0.1310272</td><td>-0.10243634</td><td>-0.1392471</td><td>-0.08831012</td><td>-0.10661480</td><td>-0.07032656</td><td>-0.09458985</td><td>-0.16439475</td><td>-0.08467824</td><td>0.1569796</td></tr>\n",
       "</tbody>\n",
       "</table>\n"
      ],
      "text/latex": [
       "A data.frame: 6 × 38\n",
       "\\begin{tabular}{r|lllllllllllllllllllll}\n",
       "  & MEdarkorange2 & MEfloralwhite & MEorangered4 & MEroyalblue & MEbrown4 & MEblack & MEdarkmagenta & MEbrown & MEorange & MEdarkolivegreen & ⋯ & MEdarkslateblue & MEgreen & MEpalevioletred3 & MElavenderblush3 & MElightcyan & MEmaroon & MEdarkturquoise & MEbisque4 & MEgrey60 & MEgrey\\\\\n",
       "  & <dbl> & <dbl> & <dbl> & <dbl> & <dbl> & <dbl> & <dbl> & <dbl> & <dbl> & <dbl> & ⋯ & <dbl> & <dbl> & <dbl> & <dbl> & <dbl> & <dbl> & <dbl> & <dbl> & <dbl> & <dbl>\\\\\n",
       "\\hline\n",
       "\thggt\\_8D\\_1 & -0.1547160 & -0.13860480 &  0.56318625 & -0.08549718 & -0.1227549 & -0.07133603 & -0.1000516 &  0.2853357 &  0.03274687 &  0.63592297 & ⋯ & -0.1022584 & -0.08858037 &  0.5989983 & -0.13315294 & -0.10071830 & -0.14017595 & -0.08579307 & -0.12760825 & -0.10431161 & 0.2394393\\\\\n",
       "\thggt\\_8D\\_2 &  0.6589993 &  0.66050690 &  0.71398502 &  0.95669528 & -0.1270866 & -0.04845404 & -0.1347371 &  0.1971228 &  0.64769622 &  0.13322404 & ⋯ & -0.1573200 & -0.08967677 & -0.1193089 & -0.13046476 & -0.08286471 & -0.12584077 & -0.07907947 & -0.08879141 & -0.08703377 & 0.2683340\\\\\n",
       "\thggt\\_8D\\_3 & -0.1233636 &  0.03675637 & -0.13748536 & -0.06092011 &  0.6298489 &  0.95437153 &  0.6700439 &  0.2957457 &  0.61795703 &  0.59467065 & ⋯ & -0.1360943 & -0.04859532 & -0.0757872 & -0.10178069 & -0.10982989 & -0.14138929 & -0.09344094 & -0.10903336 & -0.11172854 & 0.3658184\\\\\n",
       "\thggt\\_16D\\_1 & -0.1002725 & -0.07110781 & -0.06573589 & -0.08089203 & -0.1140415 & -0.08017986 & -0.1007327 & -0.1202045 & -0.09647784 & -0.13406815 & ⋯ &  0.5928925 & -0.10428365 & -0.1084976 & -0.13710790 & -0.10693515 &  0.60561751 & -0.05302763 & -0.13960589 & -0.08035341 & 0.3176854\\\\\n",
       "\thggt\\_16D\\_2 & -0.1460405 &  0.60022533 & -0.12941555 & -0.08571670 & -0.1662987 & -0.09179035 & -0.1190252 & -0.1935702 & -0.10011463 & -0.09772226 & ⋯ & -0.1179488 & -0.11233519 & -0.1403901 & -0.13952094 & -0.09757914 & -0.12846030 & -0.08154164 & -0.15712812 & -0.10417386 & 0.3178860\\\\\n",
       "\thggt\\_16D\\_3 & -0.1257549 & -0.07226089 & -0.11206347 & -0.07994047 & -0.1559568 & -0.07258843 & -0.1490733 & -0.1135137 & -0.10890700 & -0.14684569 & ⋯ & -0.1310272 & -0.10243634 & -0.1392471 & -0.08831012 & -0.10661480 & -0.07032656 & -0.09458985 & -0.16439475 & -0.08467824 & 0.1569796\\\\\n",
       "\\end{tabular}\n"
      ],
      "text/markdown": [
       "\n",
       "A data.frame: 6 × 38\n",
       "\n",
       "| <!--/--> | MEdarkorange2 &lt;dbl&gt; | MEfloralwhite &lt;dbl&gt; | MEorangered4 &lt;dbl&gt; | MEroyalblue &lt;dbl&gt; | MEbrown4 &lt;dbl&gt; | MEblack &lt;dbl&gt; | MEdarkmagenta &lt;dbl&gt; | MEbrown &lt;dbl&gt; | MEorange &lt;dbl&gt; | MEdarkolivegreen &lt;dbl&gt; | ⋯ ⋯ | MEdarkslateblue &lt;dbl&gt; | MEgreen &lt;dbl&gt; | MEpalevioletred3 &lt;dbl&gt; | MElavenderblush3 &lt;dbl&gt; | MElightcyan &lt;dbl&gt; | MEmaroon &lt;dbl&gt; | MEdarkturquoise &lt;dbl&gt; | MEbisque4 &lt;dbl&gt; | MEgrey60 &lt;dbl&gt; | MEgrey &lt;dbl&gt; |\n",
       "|---|---|---|---|---|---|---|---|---|---|---|---|---|---|---|---|---|---|---|---|---|---|\n",
       "| hggt_8D_1 | -0.1547160 | -0.13860480 |  0.56318625 | -0.08549718 | -0.1227549 | -0.07133603 | -0.1000516 |  0.2853357 |  0.03274687 |  0.63592297 | ⋯ | -0.1022584 | -0.08858037 |  0.5989983 | -0.13315294 | -0.10071830 | -0.14017595 | -0.08579307 | -0.12760825 | -0.10431161 | 0.2394393 |\n",
       "| hggt_8D_2 |  0.6589993 |  0.66050690 |  0.71398502 |  0.95669528 | -0.1270866 | -0.04845404 | -0.1347371 |  0.1971228 |  0.64769622 |  0.13322404 | ⋯ | -0.1573200 | -0.08967677 | -0.1193089 | -0.13046476 | -0.08286471 | -0.12584077 | -0.07907947 | -0.08879141 | -0.08703377 | 0.2683340 |\n",
       "| hggt_8D_3 | -0.1233636 |  0.03675637 | -0.13748536 | -0.06092011 |  0.6298489 |  0.95437153 |  0.6700439 |  0.2957457 |  0.61795703 |  0.59467065 | ⋯ | -0.1360943 | -0.04859532 | -0.0757872 | -0.10178069 | -0.10982989 | -0.14138929 | -0.09344094 | -0.10903336 | -0.11172854 | 0.3658184 |\n",
       "| hggt_16D_1 | -0.1002725 | -0.07110781 | -0.06573589 | -0.08089203 | -0.1140415 | -0.08017986 | -0.1007327 | -0.1202045 | -0.09647784 | -0.13406815 | ⋯ |  0.5928925 | -0.10428365 | -0.1084976 | -0.13710790 | -0.10693515 |  0.60561751 | -0.05302763 | -0.13960589 | -0.08035341 | 0.3176854 |\n",
       "| hggt_16D_2 | -0.1460405 |  0.60022533 | -0.12941555 | -0.08571670 | -0.1662987 | -0.09179035 | -0.1190252 | -0.1935702 | -0.10011463 | -0.09772226 | ⋯ | -0.1179488 | -0.11233519 | -0.1403901 | -0.13952094 | -0.09757914 | -0.12846030 | -0.08154164 | -0.15712812 | -0.10417386 | 0.3178860 |\n",
       "| hggt_16D_3 | -0.1257549 | -0.07226089 | -0.11206347 | -0.07994047 | -0.1559568 | -0.07258843 | -0.1490733 | -0.1135137 | -0.10890700 | -0.14684569 | ⋯ | -0.1310272 | -0.10243634 | -0.1392471 | -0.08831012 | -0.10661480 | -0.07032656 | -0.09458985 | -0.16439475 | -0.08467824 | 0.1569796 |\n",
       "\n"
      ],
      "text/plain": [
       "           MEdarkorange2 MEfloralwhite MEorangered4 MEroyalblue MEbrown4  \n",
       "hggt_8D_1  -0.1547160    -0.13860480    0.56318625  -0.08549718 -0.1227549\n",
       "hggt_8D_2   0.6589993     0.66050690    0.71398502   0.95669528 -0.1270866\n",
       "hggt_8D_3  -0.1233636     0.03675637   -0.13748536  -0.06092011  0.6298489\n",
       "hggt_16D_1 -0.1002725    -0.07110781   -0.06573589  -0.08089203 -0.1140415\n",
       "hggt_16D_2 -0.1460405     0.60022533   -0.12941555  -0.08571670 -0.1662987\n",
       "hggt_16D_3 -0.1257549    -0.07226089   -0.11206347  -0.07994047 -0.1559568\n",
       "           MEblack     MEdarkmagenta MEbrown    MEorange    MEdarkolivegreen ⋯\n",
       "hggt_8D_1  -0.07133603 -0.1000516     0.2853357  0.03274687  0.63592297      ⋯\n",
       "hggt_8D_2  -0.04845404 -0.1347371     0.1971228  0.64769622  0.13322404      ⋯\n",
       "hggt_8D_3   0.95437153  0.6700439     0.2957457  0.61795703  0.59467065      ⋯\n",
       "hggt_16D_1 -0.08017986 -0.1007327    -0.1202045 -0.09647784 -0.13406815      ⋯\n",
       "hggt_16D_2 -0.09179035 -0.1190252    -0.1935702 -0.10011463 -0.09772226      ⋯\n",
       "hggt_16D_3 -0.07258843 -0.1490733    -0.1135137 -0.10890700 -0.14684569      ⋯\n",
       "           MEdarkslateblue MEgreen     MEpalevioletred3 MElavenderblush3\n",
       "hggt_8D_1  -0.1022584      -0.08858037  0.5989983       -0.13315294     \n",
       "hggt_8D_2  -0.1573200      -0.08967677 -0.1193089       -0.13046476     \n",
       "hggt_8D_3  -0.1360943      -0.04859532 -0.0757872       -0.10178069     \n",
       "hggt_16D_1  0.5928925      -0.10428365 -0.1084976       -0.13710790     \n",
       "hggt_16D_2 -0.1179488      -0.11233519 -0.1403901       -0.13952094     \n",
       "hggt_16D_3 -0.1310272      -0.10243634 -0.1392471       -0.08831012     \n",
       "           MElightcyan MEmaroon    MEdarkturquoise MEbisque4   MEgrey60   \n",
       "hggt_8D_1  -0.10071830 -0.14017595 -0.08579307     -0.12760825 -0.10431161\n",
       "hggt_8D_2  -0.08286471 -0.12584077 -0.07907947     -0.08879141 -0.08703377\n",
       "hggt_8D_3  -0.10982989 -0.14138929 -0.09344094     -0.10903336 -0.11172854\n",
       "hggt_16D_1 -0.10693515  0.60561751 -0.05302763     -0.13960589 -0.08035341\n",
       "hggt_16D_2 -0.09757914 -0.12846030 -0.08154164     -0.15712812 -0.10417386\n",
       "hggt_16D_3 -0.10661480 -0.07032656 -0.09458985     -0.16439475 -0.08467824\n",
       "           MEgrey   \n",
       "hggt_8D_1  0.2394393\n",
       "hggt_8D_2  0.2683340\n",
       "hggt_8D_3  0.3658184\n",
       "hggt_16D_1 0.3176854\n",
       "hggt_16D_2 0.3178860\n",
       "hggt_16D_3 0.1569796"
      ]
     },
     "metadata": {},
     "output_type": "display_data"
    }
   ],
   "source": [
    "head(MEs)"
   ]
  },
  {
   "cell_type": "code",
   "execution_count": 109,
   "id": "98b9be7e-4d0e-4027-a4b9-0f40b3fbabb5",
   "metadata": {},
   "outputs": [],
   "source": [
    "targetMEs <- MEs[c('MEgrey','MElightgreen')]"
   ]
  },
  {
   "cell_type": "code",
   "execution_count": 110,
   "id": "d1bfb31e-762e-4943-ade3-d20135438734",
   "metadata": {},
   "outputs": [
    {
     "data": {
      "text/html": [
       "<table class=\"dataframe\">\n",
       "<caption>A data.frame: 6 × 2</caption>\n",
       "<thead>\n",
       "\t<tr><th></th><th scope=col>MEgrey</th><th scope=col>MElightgreen</th></tr>\n",
       "\t<tr><th></th><th scope=col>&lt;dbl&gt;</th><th scope=col>&lt;dbl&gt;</th></tr>\n",
       "</thead>\n",
       "<tbody>\n",
       "\t<tr><th scope=row>hggt_8D_1</th><td>0.2394393</td><td>0.35599319</td></tr>\n",
       "\t<tr><th scope=row>hggt_8D_2</th><td>0.2683340</td><td>0.26218782</td></tr>\n",
       "\t<tr><th scope=row>hggt_8D_3</th><td>0.3658184</td><td>0.40384550</td></tr>\n",
       "\t<tr><th scope=row>hggt_16D_1</th><td>0.3176854</td><td>0.08238907</td></tr>\n",
       "\t<tr><th scope=row>hggt_16D_2</th><td>0.3178860</td><td>0.17550012</td></tr>\n",
       "\t<tr><th scope=row>hggt_16D_3</th><td>0.1569796</td><td>0.20259762</td></tr>\n",
       "</tbody>\n",
       "</table>\n"
      ],
      "text/latex": [
       "A data.frame: 6 × 2\n",
       "\\begin{tabular}{r|ll}\n",
       "  & MEgrey & MElightgreen\\\\\n",
       "  & <dbl> & <dbl>\\\\\n",
       "\\hline\n",
       "\thggt\\_8D\\_1 & 0.2394393 & 0.35599319\\\\\n",
       "\thggt\\_8D\\_2 & 0.2683340 & 0.26218782\\\\\n",
       "\thggt\\_8D\\_3 & 0.3658184 & 0.40384550\\\\\n",
       "\thggt\\_16D\\_1 & 0.3176854 & 0.08238907\\\\\n",
       "\thggt\\_16D\\_2 & 0.3178860 & 0.17550012\\\\\n",
       "\thggt\\_16D\\_3 & 0.1569796 & 0.20259762\\\\\n",
       "\\end{tabular}\n"
      ],
      "text/markdown": [
       "\n",
       "A data.frame: 6 × 2\n",
       "\n",
       "| <!--/--> | MEgrey &lt;dbl&gt; | MElightgreen &lt;dbl&gt; |\n",
       "|---|---|---|\n",
       "| hggt_8D_1 | 0.2394393 | 0.35599319 |\n",
       "| hggt_8D_2 | 0.2683340 | 0.26218782 |\n",
       "| hggt_8D_3 | 0.3658184 | 0.40384550 |\n",
       "| hggt_16D_1 | 0.3176854 | 0.08238907 |\n",
       "| hggt_16D_2 | 0.3178860 | 0.17550012 |\n",
       "| hggt_16D_3 | 0.1569796 | 0.20259762 |\n",
       "\n"
      ],
      "text/plain": [
       "           MEgrey    MElightgreen\n",
       "hggt_8D_1  0.2394393 0.35599319  \n",
       "hggt_8D_2  0.2683340 0.26218782  \n",
       "hggt_8D_3  0.3658184 0.40384550  \n",
       "hggt_16D_1 0.3176854 0.08238907  \n",
       "hggt_16D_2 0.3178860 0.17550012  \n",
       "hggt_16D_3 0.1569796 0.20259762  "
      ]
     },
     "metadata": {},
     "output_type": "display_data"
    }
   ],
   "source": [
    "head(targetMEs)"
   ]
  },
  {
   "cell_type": "code",
   "execution_count": null,
   "id": "1926a49e-0bf5-4776-b67d-54b8a5a02977",
   "metadata": {},
   "outputs": [],
   "source": [
    "# Read microbial data as traits\n",
    "bac_traits = other\n",
    "# sample names should be consistent in eigen genes and traits !!!!\n",
    "bac_traits = bac_traits[match(rownames(targetMEs), rownames(bac_traits)), ]\n",
    "table(rownames(targetMEs) == rownames(bac_traits))\n",
    "# Calculate pearson correlation coefficients between module eigen-genes and traits\n",
    "moduleTraitCor = cor(targetMEs, bac_traits, use = \"p\");\n",
    "moduleTraitPvalue = corPvalueStudent(moduleTraitCor, nSamples);\n",
    "#write.table(moduleTraitCor,file=\"moduleSugar_correlation.txt\");\n",
    "#write.table(moduleTraitPvalue,file=\"moduleSugar_pValue.txt\");\n",
    "\n",
    "# Heatmap of module and traits\n",
    "dev.off()\n",
    "moduleTraitCor_T = t(moduleTraitCor)\n",
    "#pdf(file=\"pheatmap_module2_amino.pdf\",heigh=10,width=3.5)\n",
    "png(\"pheatmap_module2_other.png\", width = 490, height = 1000)\n",
    "#par(mar = c(25, 25, 25, 25))\n",
    "pheatmap(moduleTraitCor_T,cluster_col=F,cluster_row=T,show_rownames=T,show_colnames=T,fontsize=20)\n",
    "dev.off()"
   ]
  },
  {
   "cell_type": "code",
   "execution_count": 153,
   "id": "5c5ea62c-2616-40ac-86e3-0a914822d42f",
   "metadata": {},
   "outputs": [
    {
     "data": {
      "text/plain": [
       "\n",
       "TRUE \n",
       "  12 "
      ]
     },
     "metadata": {},
     "output_type": "display_data"
    },
    {
     "data": {
      "text/html": [
       "<strong>pdf:</strong> 3"
      ],
      "text/latex": [
       "\\textbf{pdf:} 3"
      ],
      "text/markdown": [
       "**pdf:** 3"
      ],
      "text/plain": [
       "pdf \n",
       "  3 "
      ]
     },
     "metadata": {},
     "output_type": "display_data"
    },
    {
     "data": {
      "text/html": [
       "<strong>pdf:</strong> 3"
      ],
      "text/latex": [
       "\\textbf{pdf:} 3"
      ],
      "text/markdown": [
       "**pdf:** 3"
      ],
      "text/plain": [
       "pdf \n",
       "  3 "
      ]
     },
     "metadata": {},
     "output_type": "display_data"
    }
   ],
   "source": [
    "# Read microbial data as traits\n",
    "bac_traits = other\n",
    "# sample names should be consistent in eigen genes and traits !!!!\n",
    "bac_traits = bac_traits[match(rownames(targetMEs), rownames(bac_traits)), ]\n",
    "table(rownames(targetMEs) == rownames(bac_traits))\n",
    "# Calculate pearson correlation coefficients between module eigen-genes and traits\n",
    "moduleTraitCor = cor(targetMEs, bac_traits, use = \"p\");\n",
    "moduleTraitPvalue = corPvalueStudent(moduleTraitCor, nSamples);\n",
    "#write.table(moduleTraitCor,file=\"moduleSugar_correlation.txt\");\n",
    "#write.table(moduleTraitPvalue,file=\"moduleSugar_pValue.txt\");\n",
    "\n",
    "# Heatmap of module and traits\n",
    "dev.off()\n",
    "moduleTraitCor_T = t(moduleTraitCor)\n",
    "#pdf(file=\"pheatmap_module2_amino.pdf\",heigh=10,width=3.5)\n",
    "png(\"pheatmap_module2_other.png\", width = 490, height = 1000)\n",
    "#par(mar = c(25, 25, 25, 25))\n",
    "pheatmap(moduleTraitCor_T,cluster_col=F,cluster_row=T,show_rownames=T,show_colnames=T,fontsize=20)\n",
    "dev.off()\n",
    "\n",
    "#=====================================================================================\n",
    "#\n",
    "#  Plot heatmap of module-traits relationship\n",
    "#\n",
    "#=====================================================================================\n",
    "# Will display correlations and their p-values\n",
    "# textMatrix =  paste(signif(moduleTraitCor, 2), \"\\n(\",\n",
    "#                     signif(moduleTraitPvalue, 1), \")\", sep = \"\");\n",
    "# dim(textMatrix) = dim(moduleTraitCor)\n",
    "# pdf(\"module2-amino-order.pdf\", width = 20, height = 4)\n",
    "# par(mar = c(10, 12, 5, 5))\n",
    "# par(cex.axis = 20)\n",
    "# # Display the correlation values within a heatmap plot\n",
    "# labeledHeatmap(Matrix = moduleTraitCor,\n",
    "#                xLabels = names(bac_traits),\n",
    "#                yLabels = names(targetMEs),\n",
    "#                ySymbols = names(targetMEs),\n",
    "#                colorLabels = FALSE,\n",
    "#                colors = greenWhiteRed(50),\n",
    "#                textMatrix = textMatrix,\n",
    "#                setStdMargins = FALSE,\n",
    "#                cex.text = 0.5,\n",
    "#                zlim = c(-1,1),\n",
    "#                main = paste(\"Module2-amino-relationships\"))\n",
    "# dev.off()"
   ]
  },
  {
   "cell_type": "code",
   "execution_count": 44,
   "id": "b95c36af-a767-487a-bb7a-d4af2d378dc5",
   "metadata": {},
   "outputs": [
    {
     "name": "stderr",
     "output_type": "stream",
     "text": [
      "Warning message in greenWhiteRed(50):\n",
      "“WGCNA::greenWhiteRed: this palette is not suitable for people\n",
      "with green-red color blindness (the most common kind of color blindness).\n",
      "Consider using the function blueWhiteRed instead.”\n"
     ]
    },
    {
     "data": {
      "text/html": [
       "<strong>png:</strong> 2"
      ],
      "text/latex": [
       "\\textbf{png:} 2"
      ],
      "text/markdown": [
       "**png:** 2"
      ],
      "text/plain": [
       "png \n",
       "  2 "
      ]
     },
     "metadata": {},
     "output_type": "display_data"
    }
   ],
   "source": [
    "#=====================================================================================\n",
    "#\n",
    "#  Plot heatmap of module-traits relationship\n",
    "#\n",
    "#=====================================================================================\n",
    "\n",
    "sizeGrWindow(60,20)\n",
    "# Will display correlations and their p-values\n",
    "textMatrix =  paste(signif(moduleTraitCor, 2), \"\\n(\",\n",
    "                    signif(moduleTraitPvalue, 1), \")\", sep = \"\");\n",
    "dim(textMatrix) = dim(moduleTraitCor)\n",
    "pdf(\"module-traits-order.pdf\", width = 20, height = 20)\n",
    "par(mar = c(10, 12, 5, 5))\n",
    "par(cex.axis = 20)\n",
    "# Display the correlation values within a heatmap plot\n",
    "labeledHeatmap(Matrix = moduleTraitCor,\n",
    "               xLabels = names(bac_traits),\n",
    "               yLabels = names(MEs),\n",
    "               ySymbols = names(MEs),\n",
    "               colorLabels = FALSE,\n",
    "               colors = greenWhiteRed(50),\n",
    "               textMatrix = textMatrix,\n",
    "               setStdMargins = FALSE,\n",
    "               cex.text = 1,\n",
    "               zlim = c(-1,1),\n",
    "               main = paste(\"Module-trait relationships\"))\n",
    "dev.off()"
   ]
  },
  {
   "cell_type": "code",
   "execution_count": 174,
   "id": "31d99875-e87e-4cd8-aabf-f1ec66e93a9c",
   "metadata": {},
   "outputs": [
    {
     "data": {
      "text/plain": [
       "\n",
       "TRUE \n",
       "  12 "
      ]
     },
     "metadata": {},
     "output_type": "display_data"
    },
    {
     "data": {
      "text/html": [
       "<strong>pdf:</strong> 3"
      ],
      "text/latex": [
       "\\textbf{pdf:} 3"
      ],
      "text/markdown": [
       "**pdf:** 3"
      ],
      "text/plain": [
       "pdf \n",
       "  3 "
      ]
     },
     "metadata": {},
     "output_type": "display_data"
    },
    {
     "data": {
      "text/html": [
       "<strong>pdf:</strong> 3"
      ],
      "text/latex": [
       "\\textbf{pdf:} 3"
      ],
      "text/markdown": [
       "**pdf:** 3"
      ],
      "text/plain": [
       "pdf \n",
       "  3 "
      ]
     },
     "metadata": {},
     "output_type": "display_data"
    }
   ],
   "source": [
    "# Read microbial data as traits\n",
    "bac_traits = mutation_day\n",
    "# sample names should be consistent in eigen genes and traits !!!!\n",
    "bac_traits = bac_traits[match(rownames(MEs), rownames(bac_traits)), ]\n",
    "table(rownames(MEs) == rownames(bac_traits))\n",
    "# Calculate pearson correlation coefficients between module eigen-genes and traits\n",
    "moduleTraitCor = cor(MEs, bac_traits, use = \"p\");\n",
    "moduleTraitPvalue = corPvalueStudent(moduleTraitCor, nSamples);\n",
    "#write.table(moduleTraitCor,file=\"moduleSugar_correlation.txt\");\n",
    "#write.table(moduleTraitPvalue,file=\"moduleSugar_pValue.txt\");\n",
    "\n",
    "# Heatmap of module and traits\n",
    "dev.off()\n",
    "# Will display correlations and their p-values\n",
    "textMatrix =  paste(signif(moduleTraitCor, 2), \"\\n(\",\n",
    "                    signif(moduleTraitPvalue, 1), \")\", sep = \"\");\n",
    "\n",
    "pdf(\"6-module-traits-order2.pdf\", width = 7, height = 20)  # Adjust width and height as needed\n",
    "par(mar = c(8, 18, 8, 6))\n",
    "# Display the correlation values within a heatmap plot\n",
    "labeledHeatmap(Matrix = moduleTraitCor,\n",
    "               xLabels = names(mutation_day),\n",
    "               yLabels = names(MEs),\n",
    "               ySymbols = names(MEs),\n",
    "               colorLabels = FALSE,\n",
    "               #colors = greenWhiteRed(50),\n",
    "               colors= blueWhiteRed(50),\n",
    "               #textMatrix = textMatrix,\n",
    "               setStdMargins = FALSE,\n",
    "               cex.text = 1,\n",
    "               cex.lab = 2,\n",
    "               zlim = c(-1, 1),\n",
    "               main = paste(\"Module-trait relationships\"))\n",
    "dev.off()"
   ]
  },
  {
   "cell_type": "code",
   "execution_count": 46,
   "id": "22327c4f-09ce-4874-a17c-cd7881ed614d",
   "metadata": {},
   "outputs": [
    {
     "data": {
      "image/png": "[encoded data removed]",
      "text/plain": [
       "Plot with title “”"
      ]
     },
     "metadata": {
      "image/png": {
       "height": 600,
       "width": 600
      }
     },
     "output_type": "display_data"
    }
   ],
   "source": [
    "# Re-cluster samples\n",
    "options(repr.plot.width = 10, repr.plot.height = 10)  # Adjust width and height as needed\n",
    "sampleTree2 = hclust(dist(datExpr), method = \"average\")\n",
    "# Convert traits to a color representation: white means low, red means high, grey means missing entry\n",
    "traitColors = numbers2colors(allTraits, signed = FALSE);\n",
    "# Plot the sample dendrogram and the colors underneath.\n",
    "plotDendroAndColors(sampleTree2, traitColors,\n",
    "                    groupLabels = names(allTraits), \n",
    "                    main = \"Sample dendrogram and trait heatmap\")"
   ]
  },
  {
   "cell_type": "code",
   "execution_count": null,
   "id": "b4e496bc-29c0-44dd-96bb-63e95ab2140e",
   "metadata": {},
   "outputs": [],
   "source": []
  }
 ],
 "metadata": {
  "kernelspec": {
   "display_name": "R",
   "language": "R",
   "name": "ir"
  },
  "language_info": {
   "codemirror_mode": "r",
   "file_extension": ".r",
   "mimetype": "text/x-r-source",
   "name": "R",
   "pygments_lexer": "r",
   "version": "4.3.1"
  }
 },
 "nbformat": 4,
 "nbformat_minor": 5
}
