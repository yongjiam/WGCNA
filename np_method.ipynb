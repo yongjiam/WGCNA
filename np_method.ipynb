{
 "cells": [
  {
   "cell_type": "code",
   "execution_count": 1,
   "id": "ee52cbf0-2c8b-4ba2-abca-679a290a376c",
   "metadata": {
    "scrolled": true
   },
   "outputs": [
    {
     "name": "stderr",
     "output_type": "stream",
     "text": [
      "Loading required package: dynamicTreeCut\n",
      "\n",
      "Loading required package: fastcluster\n",
      "\n",
      "\n",
      "Attaching package: ‘fastcluster’\n",
      "\n",
      "\n",
      "The following object is masked from ‘package:stats’:\n",
      "\n",
      "    hclust\n",
      "\n",
      "\n",
      "\n",
      "\n",
      "\n",
      "Attaching package: ‘WGCNA’\n",
      "\n",
      "\n",
      "The following object is masked from ‘package:stats’:\n",
      "\n",
      "    cor\n",
      "\n",
      "\n",
      "Loading required package: S4Vectors\n",
      "\n",
      "Loading required package: stats4\n",
      "\n",
      "Loading required package: BiocGenerics\n",
      "\n",
      "\n",
      "Attaching package: ‘BiocGenerics’\n",
      "\n",
      "\n",
      "The following objects are masked from ‘package:stats’:\n",
      "\n",
      "    IQR, mad, sd, var, xtabs\n",
      "\n",
      "\n",
      "The following objects are masked from ‘package:base’:\n",
      "\n",
      "    anyDuplicated, aperm, append, as.data.frame, basename, cbind,\n",
      "    colnames, dirname, do.call, duplicated, eval, evalq, Filter, Find,\n",
      "    get, grep, grepl, intersect, is.unsorted, lapply, Map, mapply,\n",
      "    match, mget, order, paste, pmax, pmax.int, pmin, pmin.int,\n",
      "    Position, rank, rbind, Reduce, rownames, sapply, setdiff, sort,\n",
      "    table, tapply, union, unique, unsplit, which.max, which.min\n",
      "\n",
      "\n",
      "\n",
      "Attaching package: ‘S4Vectors’\n",
      "\n",
      "\n",
      "The following object is masked from ‘package:utils’:\n",
      "\n",
      "    findMatches\n",
      "\n",
      "\n",
      "The following objects are masked from ‘package:base’:\n",
      "\n",
      "    expand.grid, I, unname\n",
      "\n",
      "\n",
      "Loading required package: IRanges\n",
      "\n",
      "Loading required package: GenomicRanges\n",
      "\n",
      "Loading required package: GenomeInfoDb\n",
      "\n",
      "Loading required package: SummarizedExperiment\n",
      "\n",
      "Loading required package: MatrixGenerics\n",
      "\n",
      "Loading required package: matrixStats\n",
      "\n",
      "\n",
      "Attaching package: ‘MatrixGenerics’\n",
      "\n",
      "\n",
      "The following objects are masked from ‘package:matrixStats’:\n",
      "\n",
      "    colAlls, colAnyNAs, colAnys, colAvgsPerRowSet, colCollapse,\n",
      "    colCounts, colCummaxs, colCummins, colCumprods, colCumsums,\n",
      "    colDiffs, colIQRDiffs, colIQRs, colLogSumExps, colMadDiffs,\n",
      "    colMads, colMaxs, colMeans2, colMedians, colMins, colOrderStats,\n",
      "    colProds, colQuantiles, colRanges, colRanks, colSdDiffs, colSds,\n",
      "    colSums2, colTabulates, colVarDiffs, colVars, colWeightedMads,\n",
      "    colWeightedMeans, colWeightedMedians, colWeightedSds,\n",
      "    colWeightedVars, rowAlls, rowAnyNAs, rowAnys, rowAvgsPerColSet,\n",
      "    rowCollapse, rowCounts, rowCummaxs, rowCummins, rowCumprods,\n",
      "    rowCumsums, rowDiffs, rowIQRDiffs, rowIQRs, rowLogSumExps,\n",
      "    rowMadDiffs, rowMads, rowMaxs, rowMeans2, rowMedians, rowMins,\n",
      "    rowOrderStats, rowProds, rowQuantiles, rowRanges, rowRanks,\n",
      "    rowSdDiffs, rowSds, rowSums2, rowTabulates, rowVarDiffs, rowVars,\n",
      "    rowWeightedMads, rowWeightedMeans, rowWeightedMedians,\n",
      "    rowWeightedSds, rowWeightedVars\n",
      "\n",
      "\n",
      "Loading required package: Biobase\n",
      "\n",
      "Welcome to Bioconductor\n",
      "\n",
      "    Vignettes contain introductory material; view with\n",
      "    'browseVignettes()'. To cite Bioconductor, see\n",
      "    'citation(\"Biobase\")', and for packages 'citation(\"pkgname\")'.\n",
      "\n",
      "\n",
      "\n",
      "Attaching package: ‘Biobase’\n",
      "\n",
      "\n",
      "The following object is masked from ‘package:MatrixGenerics’:\n",
      "\n",
      "    rowMedians\n",
      "\n",
      "\n",
      "The following objects are masked from ‘package:matrixStats’:\n",
      "\n",
      "    anyMissing, rowMedians\n",
      "\n",
      "\n"
     ]
    }
   ],
   "source": [
    "library(WGCNA)\n",
    "library(DESeq2)"
   ]
  },
  {
   "cell_type": "code",
   "execution_count": 2,
   "id": "39a35013-2b26-4bb5-b788-dcbf2aae9b7a",
   "metadata": {},
   "outputs": [],
   "source": [
    "setwd(\"/data/wgcna/zhanghui_np\")"
   ]
  },
  {
   "cell_type": "code",
   "execution_count": 3,
   "id": "4d617127-292a-4b16-bcc1-8be054cb26de",
   "metadata": {},
   "outputs": [],
   "source": [
    "# Read the gene fpkm table\n",
    "data0 = read.csv(\"zhanghui_expression.csv\")"
   ]
  },
  {
   "cell_type": "code",
   "execution_count": 4,
   "id": "8f49cd88-eeba-46b0-ba2c-43c769fbcde3",
   "metadata": {},
   "outputs": [
    {
     "data": {
      "text/html": [
       "<table class=\"dataframe\">\n",
       "<caption>A data.frame: 6 × 30229</caption>\n",
       "<thead>\n",
       "\t<tr><th></th><th scope=col>X</th><th scope=col>HORVU0Hr1G023200</th><th scope=col>HORVU5Hr1G016450</th><th scope=col>HORVU1Hr1G020590</th><th scope=col>HORVU5Hr1G008340</th><th scope=col>HORVU3Hr1G083680</th><th scope=col>HORVU4Hr1G006330</th><th scope=col>HORVU4Hr1G067550</th><th scope=col>HORVU7Hr1G118740</th><th scope=col>HORVU3Hr1G116550</th><th scope=col>⋯</th><th scope=col>HORVU3Hr1G055090</th><th scope=col>HORVU3Hr1G084290</th><th scope=col>HORVU0Hr1G030160</th><th scope=col>HORVU2Hr1G039040</th><th scope=col>HORVU3Hr1G001540</th><th scope=col>HORVU7Hr1G020610</th><th scope=col>HORVU1Hr1G027300</th><th scope=col>HORVU7Hr1G051530</th><th scope=col>ENSRNA049486433</th><th scope=col>ENSRNA049488473</th></tr>\n",
       "\t<tr><th></th><th scope=col>&lt;chr&gt;</th><th scope=col>&lt;dbl&gt;</th><th scope=col>&lt;dbl&gt;</th><th scope=col>&lt;dbl&gt;</th><th scope=col>&lt;dbl&gt;</th><th scope=col>&lt;dbl&gt;</th><th scope=col>&lt;dbl&gt;</th><th scope=col>&lt;dbl&gt;</th><th scope=col>&lt;dbl&gt;</th><th scope=col>&lt;dbl&gt;</th><th scope=col>⋯</th><th scope=col>&lt;dbl&gt;</th><th scope=col>&lt;dbl&gt;</th><th scope=col>&lt;dbl&gt;</th><th scope=col>&lt;dbl&gt;</th><th scope=col>&lt;dbl&gt;</th><th scope=col>&lt;dbl&gt;</th><th scope=col>&lt;dbl&gt;</th><th scope=col>&lt;dbl&gt;</th><th scope=col>&lt;dbl&gt;</th><th scope=col>&lt;dbl&gt;</th></tr>\n",
       "</thead>\n",
       "<tbody>\n",
       "\t<tr><th scope=row>1</th><td>FPKM.hggt_8D_1</td><td>0.47</td><td>1.48</td><td>6.46</td><td>3.78</td><td> 9.65</td><td>11.56</td><td>0.57</td><td>1.73</td><td>106.41</td><td>⋯</td><td>0</td><td>0</td><td>0</td><td>0</td><td>0</td><td>0</td><td>0</td><td>0</td><td>0</td><td>0</td></tr>\n",
       "\t<tr><th scope=row>2</th><td>FPKM.hggt_8D_2</td><td>0.35</td><td>1.21</td><td>6.72</td><td>3.20</td><td> 8.36</td><td> 9.21</td><td>0.43</td><td>1.53</td><td>116.22</td><td>⋯</td><td>0</td><td>0</td><td>0</td><td>0</td><td>0</td><td>0</td><td>0</td><td>0</td><td>0</td><td>0</td></tr>\n",
       "\t<tr><th scope=row>3</th><td>FPKM.hggt_8D_3</td><td>0.50</td><td>1.11</td><td>7.06</td><td>4.65</td><td>11.60</td><td>10.11</td><td>0.64</td><td>1.66</td><td>152.05</td><td>⋯</td><td>0</td><td>0</td><td>0</td><td>0</td><td>0</td><td>0</td><td>0</td><td>0</td><td>0</td><td>0</td></tr>\n",
       "\t<tr><th scope=row>4</th><td>FPKM.WT_8D_1  </td><td>0.18</td><td>0.65</td><td>3.98</td><td>2.33</td><td> 4.77</td><td> 5.53</td><td>0.23</td><td>0.61</td><td> 42.44</td><td>⋯</td><td>0</td><td>0</td><td>0</td><td>0</td><td>0</td><td>0</td><td>0</td><td>0</td><td>0</td><td>0</td></tr>\n",
       "\t<tr><th scope=row>5</th><td>FPKM.WT_8D_2  </td><td>0.27</td><td>0.71</td><td>2.84</td><td>2.08</td><td> 4.09</td><td> 6.81</td><td>0.36</td><td>0.85</td><td> 71.39</td><td>⋯</td><td>0</td><td>0</td><td>0</td><td>0</td><td>0</td><td>0</td><td>0</td><td>0</td><td>0</td><td>0</td></tr>\n",
       "\t<tr><th scope=row>6</th><td>FPKM.WT_8D_3  </td><td>0.21</td><td>0.54</td><td>3.28</td><td>1.39</td><td> 5.91</td><td> 3.05</td><td>0.22</td><td>0.99</td><td> 72.63</td><td>⋯</td><td>0</td><td>0</td><td>0</td><td>0</td><td>0</td><td>0</td><td>0</td><td>0</td><td>0</td><td>0</td></tr>\n",
       "</tbody>\n",
       "</table>\n"
      ],
      "text/latex": [
       "A data.frame: 6 × 30229\n",
       "\\begin{tabular}{r|lllllllllllllllllllll}\n",
       "  & X & HORVU0Hr1G023200 & HORVU5Hr1G016450 & HORVU1Hr1G020590 & HORVU5Hr1G008340 & HORVU3Hr1G083680 & HORVU4Hr1G006330 & HORVU4Hr1G067550 & HORVU7Hr1G118740 & HORVU3Hr1G116550 & ⋯ & HORVU3Hr1G055090 & HORVU3Hr1G084290 & HORVU0Hr1G030160 & HORVU2Hr1G039040 & HORVU3Hr1G001540 & HORVU7Hr1G020610 & HORVU1Hr1G027300 & HORVU7Hr1G051530 & ENSRNA049486433 & ENSRNA049488473\\\\\n",
       "  & <chr> & <dbl> & <dbl> & <dbl> & <dbl> & <dbl> & <dbl> & <dbl> & <dbl> & <dbl> & ⋯ & <dbl> & <dbl> & <dbl> & <dbl> & <dbl> & <dbl> & <dbl> & <dbl> & <dbl> & <dbl>\\\\\n",
       "\\hline\n",
       "\t1 & FPKM.hggt\\_8D\\_1 & 0.47 & 1.48 & 6.46 & 3.78 &  9.65 & 11.56 & 0.57 & 1.73 & 106.41 & ⋯ & 0 & 0 & 0 & 0 & 0 & 0 & 0 & 0 & 0 & 0\\\\\n",
       "\t2 & FPKM.hggt\\_8D\\_2 & 0.35 & 1.21 & 6.72 & 3.20 &  8.36 &  9.21 & 0.43 & 1.53 & 116.22 & ⋯ & 0 & 0 & 0 & 0 & 0 & 0 & 0 & 0 & 0 & 0\\\\\n",
       "\t3 & FPKM.hggt\\_8D\\_3 & 0.50 & 1.11 & 7.06 & 4.65 & 11.60 & 10.11 & 0.64 & 1.66 & 152.05 & ⋯ & 0 & 0 & 0 & 0 & 0 & 0 & 0 & 0 & 0 & 0\\\\\n",
       "\t4 & FPKM.WT\\_8D\\_1   & 0.18 & 0.65 & 3.98 & 2.33 &  4.77 &  5.53 & 0.23 & 0.61 &  42.44 & ⋯ & 0 & 0 & 0 & 0 & 0 & 0 & 0 & 0 & 0 & 0\\\\\n",
       "\t5 & FPKM.WT\\_8D\\_2   & 0.27 & 0.71 & 2.84 & 2.08 &  4.09 &  6.81 & 0.36 & 0.85 &  71.39 & ⋯ & 0 & 0 & 0 & 0 & 0 & 0 & 0 & 0 & 0 & 0\\\\\n",
       "\t6 & FPKM.WT\\_8D\\_3   & 0.21 & 0.54 & 3.28 & 1.39 &  5.91 &  3.05 & 0.22 & 0.99 &  72.63 & ⋯ & 0 & 0 & 0 & 0 & 0 & 0 & 0 & 0 & 0 & 0\\\\\n",
       "\\end{tabular}\n"
      ],
      "text/markdown": [
       "\n",
       "A data.frame: 6 × 30229\n",
       "\n",
       "| <!--/--> | X &lt;chr&gt; | HORVU0Hr1G023200 &lt;dbl&gt; | HORVU5Hr1G016450 &lt;dbl&gt; | HORVU1Hr1G020590 &lt;dbl&gt; | HORVU5Hr1G008340 &lt;dbl&gt; | HORVU3Hr1G083680 &lt;dbl&gt; | HORVU4Hr1G006330 &lt;dbl&gt; | HORVU4Hr1G067550 &lt;dbl&gt; | HORVU7Hr1G118740 &lt;dbl&gt; | HORVU3Hr1G116550 &lt;dbl&gt; | ⋯ ⋯ | HORVU3Hr1G055090 &lt;dbl&gt; | HORVU3Hr1G084290 &lt;dbl&gt; | HORVU0Hr1G030160 &lt;dbl&gt; | HORVU2Hr1G039040 &lt;dbl&gt; | HORVU3Hr1G001540 &lt;dbl&gt; | HORVU7Hr1G020610 &lt;dbl&gt; | HORVU1Hr1G027300 &lt;dbl&gt; | HORVU7Hr1G051530 &lt;dbl&gt; | ENSRNA049486433 &lt;dbl&gt; | ENSRNA049488473 &lt;dbl&gt; |\n",
       "|---|---|---|---|---|---|---|---|---|---|---|---|---|---|---|---|---|---|---|---|---|---|\n",
       "| 1 | FPKM.hggt_8D_1 | 0.47 | 1.48 | 6.46 | 3.78 |  9.65 | 11.56 | 0.57 | 1.73 | 106.41 | ⋯ | 0 | 0 | 0 | 0 | 0 | 0 | 0 | 0 | 0 | 0 |\n",
       "| 2 | FPKM.hggt_8D_2 | 0.35 | 1.21 | 6.72 | 3.20 |  8.36 |  9.21 | 0.43 | 1.53 | 116.22 | ⋯ | 0 | 0 | 0 | 0 | 0 | 0 | 0 | 0 | 0 | 0 |\n",
       "| 3 | FPKM.hggt_8D_3 | 0.50 | 1.11 | 7.06 | 4.65 | 11.60 | 10.11 | 0.64 | 1.66 | 152.05 | ⋯ | 0 | 0 | 0 | 0 | 0 | 0 | 0 | 0 | 0 | 0 |\n",
       "| 4 | FPKM.WT_8D_1   | 0.18 | 0.65 | 3.98 | 2.33 |  4.77 |  5.53 | 0.23 | 0.61 |  42.44 | ⋯ | 0 | 0 | 0 | 0 | 0 | 0 | 0 | 0 | 0 | 0 |\n",
       "| 5 | FPKM.WT_8D_2   | 0.27 | 0.71 | 2.84 | 2.08 |  4.09 |  6.81 | 0.36 | 0.85 |  71.39 | ⋯ | 0 | 0 | 0 | 0 | 0 | 0 | 0 | 0 | 0 | 0 |\n",
       "| 6 | FPKM.WT_8D_3   | 0.21 | 0.54 | 3.28 | 1.39 |  5.91 |  3.05 | 0.22 | 0.99 |  72.63 | ⋯ | 0 | 0 | 0 | 0 | 0 | 0 | 0 | 0 | 0 | 0 |\n",
       "\n"
      ],
      "text/plain": [
       "  X              HORVU0Hr1G023200 HORVU5Hr1G016450 HORVU1Hr1G020590\n",
       "1 FPKM.hggt_8D_1 0.47             1.48             6.46            \n",
       "2 FPKM.hggt_8D_2 0.35             1.21             6.72            \n",
       "3 FPKM.hggt_8D_3 0.50             1.11             7.06            \n",
       "4 FPKM.WT_8D_1   0.18             0.65             3.98            \n",
       "5 FPKM.WT_8D_2   0.27             0.71             2.84            \n",
       "6 FPKM.WT_8D_3   0.21             0.54             3.28            \n",
       "  HORVU5Hr1G008340 HORVU3Hr1G083680 HORVU4Hr1G006330 HORVU4Hr1G067550\n",
       "1 3.78              9.65            11.56            0.57            \n",
       "2 3.20              8.36             9.21            0.43            \n",
       "3 4.65             11.60            10.11            0.64            \n",
       "4 2.33              4.77             5.53            0.23            \n",
       "5 2.08              4.09             6.81            0.36            \n",
       "6 1.39              5.91             3.05            0.22            \n",
       "  HORVU7Hr1G118740 HORVU3Hr1G116550 ⋯ HORVU3Hr1G055090 HORVU3Hr1G084290\n",
       "1 1.73             106.41           ⋯ 0                0               \n",
       "2 1.53             116.22           ⋯ 0                0               \n",
       "3 1.66             152.05           ⋯ 0                0               \n",
       "4 0.61              42.44           ⋯ 0                0               \n",
       "5 0.85              71.39           ⋯ 0                0               \n",
       "6 0.99              72.63           ⋯ 0                0               \n",
       "  HORVU0Hr1G030160 HORVU2Hr1G039040 HORVU3Hr1G001540 HORVU7Hr1G020610\n",
       "1 0                0                0                0               \n",
       "2 0                0                0                0               \n",
       "3 0                0                0                0               \n",
       "4 0                0                0                0               \n",
       "5 0                0                0                0               \n",
       "6 0                0                0                0               \n",
       "  HORVU1Hr1G027300 HORVU7Hr1G051530 ENSRNA049486433 ENSRNA049488473\n",
       "1 0                0                0               0              \n",
       "2 0                0                0               0              \n",
       "3 0                0                0               0              \n",
       "4 0                0                0               0              \n",
       "5 0                0                0               0              \n",
       "6 0                0                0               0              "
      ]
     },
     "metadata": {},
     "output_type": "display_data"
    }
   ],
   "source": [
    "head(data0)"
   ]
  },
  {
   "cell_type": "code",
   "execution_count": 6,
   "id": "8f98296a-f059-4ca2-97a9-0adf8a94f6b0",
   "metadata": {},
   "outputs": [
    {
     "data": {
      "text/html": [
       "<table class=\"dataframe\">\n",
       "<caption>A data.frame: 6 × 30228</caption>\n",
       "<thead>\n",
       "\t<tr><th></th><th scope=col>HORVU0Hr1G023200</th><th scope=col>HORVU5Hr1G016450</th><th scope=col>HORVU1Hr1G020590</th><th scope=col>HORVU5Hr1G008340</th><th scope=col>HORVU3Hr1G083680</th><th scope=col>HORVU4Hr1G006330</th><th scope=col>HORVU4Hr1G067550</th><th scope=col>HORVU7Hr1G118740</th><th scope=col>HORVU3Hr1G116550</th><th scope=col>HORVU0Hr1G021280</th><th scope=col>⋯</th><th scope=col>HORVU3Hr1G055090</th><th scope=col>HORVU3Hr1G084290</th><th scope=col>HORVU0Hr1G030160</th><th scope=col>HORVU2Hr1G039040</th><th scope=col>HORVU3Hr1G001540</th><th scope=col>HORVU7Hr1G020610</th><th scope=col>HORVU1Hr1G027300</th><th scope=col>HORVU7Hr1G051530</th><th scope=col>ENSRNA049486433</th><th scope=col>ENSRNA049488473</th></tr>\n",
       "\t<tr><th></th><th scope=col>&lt;dbl&gt;</th><th scope=col>&lt;dbl&gt;</th><th scope=col>&lt;dbl&gt;</th><th scope=col>&lt;dbl&gt;</th><th scope=col>&lt;dbl&gt;</th><th scope=col>&lt;dbl&gt;</th><th scope=col>&lt;dbl&gt;</th><th scope=col>&lt;dbl&gt;</th><th scope=col>&lt;dbl&gt;</th><th scope=col>&lt;dbl&gt;</th><th scope=col>⋯</th><th scope=col>&lt;dbl&gt;</th><th scope=col>&lt;dbl&gt;</th><th scope=col>&lt;dbl&gt;</th><th scope=col>&lt;dbl&gt;</th><th scope=col>&lt;dbl&gt;</th><th scope=col>&lt;dbl&gt;</th><th scope=col>&lt;dbl&gt;</th><th scope=col>&lt;dbl&gt;</th><th scope=col>&lt;dbl&gt;</th><th scope=col>&lt;dbl&gt;</th></tr>\n",
       "</thead>\n",
       "<tbody>\n",
       "\t<tr><th scope=row>FPKM.hggt_8D_1</th><td>0.47</td><td>1.48</td><td>6.46</td><td>3.78</td><td> 9.65</td><td>11.56</td><td>0.57</td><td>1.73</td><td>106.41</td><td>1.17</td><td>⋯</td><td>0</td><td>0</td><td>0</td><td>0</td><td>0</td><td>0</td><td>0</td><td>0</td><td>0</td><td>0</td></tr>\n",
       "\t<tr><th scope=row>FPKM.hggt_8D_2</th><td>0.35</td><td>1.21</td><td>6.72</td><td>3.20</td><td> 8.36</td><td> 9.21</td><td>0.43</td><td>1.53</td><td>116.22</td><td>1.07</td><td>⋯</td><td>0</td><td>0</td><td>0</td><td>0</td><td>0</td><td>0</td><td>0</td><td>0</td><td>0</td><td>0</td></tr>\n",
       "\t<tr><th scope=row>FPKM.hggt_8D_3</th><td>0.50</td><td>1.11</td><td>7.06</td><td>4.65</td><td>11.60</td><td>10.11</td><td>0.64</td><td>1.66</td><td>152.05</td><td>1.59</td><td>⋯</td><td>0</td><td>0</td><td>0</td><td>0</td><td>0</td><td>0</td><td>0</td><td>0</td><td>0</td><td>0</td></tr>\n",
       "\t<tr><th scope=row>FPKM.WT_8D_1</th><td>0.18</td><td>0.65</td><td>3.98</td><td>2.33</td><td> 4.77</td><td> 5.53</td><td>0.23</td><td>0.61</td><td> 42.44</td><td>0.64</td><td>⋯</td><td>0</td><td>0</td><td>0</td><td>0</td><td>0</td><td>0</td><td>0</td><td>0</td><td>0</td><td>0</td></tr>\n",
       "\t<tr><th scope=row>FPKM.WT_8D_2</th><td>0.27</td><td>0.71</td><td>2.84</td><td>2.08</td><td> 4.09</td><td> 6.81</td><td>0.36</td><td>0.85</td><td> 71.39</td><td>0.83</td><td>⋯</td><td>0</td><td>0</td><td>0</td><td>0</td><td>0</td><td>0</td><td>0</td><td>0</td><td>0</td><td>0</td></tr>\n",
       "\t<tr><th scope=row>FPKM.WT_8D_3</th><td>0.21</td><td>0.54</td><td>3.28</td><td>1.39</td><td> 5.91</td><td> 3.05</td><td>0.22</td><td>0.99</td><td> 72.63</td><td>0.43</td><td>⋯</td><td>0</td><td>0</td><td>0</td><td>0</td><td>0</td><td>0</td><td>0</td><td>0</td><td>0</td><td>0</td></tr>\n",
       "</tbody>\n",
       "</table>\n"
      ],
      "text/latex": [
       "A data.frame: 6 × 30228\n",
       "\\begin{tabular}{r|lllllllllllllllllllll}\n",
       "  & HORVU0Hr1G023200 & HORVU5Hr1G016450 & HORVU1Hr1G020590 & HORVU5Hr1G008340 & HORVU3Hr1G083680 & HORVU4Hr1G006330 & HORVU4Hr1G067550 & HORVU7Hr1G118740 & HORVU3Hr1G116550 & HORVU0Hr1G021280 & ⋯ & HORVU3Hr1G055090 & HORVU3Hr1G084290 & HORVU0Hr1G030160 & HORVU2Hr1G039040 & HORVU3Hr1G001540 & HORVU7Hr1G020610 & HORVU1Hr1G027300 & HORVU7Hr1G051530 & ENSRNA049486433 & ENSRNA049488473\\\\\n",
       "  & <dbl> & <dbl> & <dbl> & <dbl> & <dbl> & <dbl> & <dbl> & <dbl> & <dbl> & <dbl> & ⋯ & <dbl> & <dbl> & <dbl> & <dbl> & <dbl> & <dbl> & <dbl> & <dbl> & <dbl> & <dbl>\\\\\n",
       "\\hline\n",
       "\tFPKM.hggt\\_8D\\_1 & 0.47 & 1.48 & 6.46 & 3.78 &  9.65 & 11.56 & 0.57 & 1.73 & 106.41 & 1.17 & ⋯ & 0 & 0 & 0 & 0 & 0 & 0 & 0 & 0 & 0 & 0\\\\\n",
       "\tFPKM.hggt\\_8D\\_2 & 0.35 & 1.21 & 6.72 & 3.20 &  8.36 &  9.21 & 0.43 & 1.53 & 116.22 & 1.07 & ⋯ & 0 & 0 & 0 & 0 & 0 & 0 & 0 & 0 & 0 & 0\\\\\n",
       "\tFPKM.hggt\\_8D\\_3 & 0.50 & 1.11 & 7.06 & 4.65 & 11.60 & 10.11 & 0.64 & 1.66 & 152.05 & 1.59 & ⋯ & 0 & 0 & 0 & 0 & 0 & 0 & 0 & 0 & 0 & 0\\\\\n",
       "\tFPKM.WT\\_8D\\_1 & 0.18 & 0.65 & 3.98 & 2.33 &  4.77 &  5.53 & 0.23 & 0.61 &  42.44 & 0.64 & ⋯ & 0 & 0 & 0 & 0 & 0 & 0 & 0 & 0 & 0 & 0\\\\\n",
       "\tFPKM.WT\\_8D\\_2 & 0.27 & 0.71 & 2.84 & 2.08 &  4.09 &  6.81 & 0.36 & 0.85 &  71.39 & 0.83 & ⋯ & 0 & 0 & 0 & 0 & 0 & 0 & 0 & 0 & 0 & 0\\\\\n",
       "\tFPKM.WT\\_8D\\_3 & 0.21 & 0.54 & 3.28 & 1.39 &  5.91 &  3.05 & 0.22 & 0.99 &  72.63 & 0.43 & ⋯ & 0 & 0 & 0 & 0 & 0 & 0 & 0 & 0 & 0 & 0\\\\\n",
       "\\end{tabular}\n"
      ],
      "text/markdown": [
       "\n",
       "A data.frame: 6 × 30228\n",
       "\n",
       "| <!--/--> | HORVU0Hr1G023200 &lt;dbl&gt; | HORVU5Hr1G016450 &lt;dbl&gt; | HORVU1Hr1G020590 &lt;dbl&gt; | HORVU5Hr1G008340 &lt;dbl&gt; | HORVU3Hr1G083680 &lt;dbl&gt; | HORVU4Hr1G006330 &lt;dbl&gt; | HORVU4Hr1G067550 &lt;dbl&gt; | HORVU7Hr1G118740 &lt;dbl&gt; | HORVU3Hr1G116550 &lt;dbl&gt; | HORVU0Hr1G021280 &lt;dbl&gt; | ⋯ ⋯ | HORVU3Hr1G055090 &lt;dbl&gt; | HORVU3Hr1G084290 &lt;dbl&gt; | HORVU0Hr1G030160 &lt;dbl&gt; | HORVU2Hr1G039040 &lt;dbl&gt; | HORVU3Hr1G001540 &lt;dbl&gt; | HORVU7Hr1G020610 &lt;dbl&gt; | HORVU1Hr1G027300 &lt;dbl&gt; | HORVU7Hr1G051530 &lt;dbl&gt; | ENSRNA049486433 &lt;dbl&gt; | ENSRNA049488473 &lt;dbl&gt; |\n",
       "|---|---|---|---|---|---|---|---|---|---|---|---|---|---|---|---|---|---|---|---|---|---|\n",
       "| FPKM.hggt_8D_1 | 0.47 | 1.48 | 6.46 | 3.78 |  9.65 | 11.56 | 0.57 | 1.73 | 106.41 | 1.17 | ⋯ | 0 | 0 | 0 | 0 | 0 | 0 | 0 | 0 | 0 | 0 |\n",
       "| FPKM.hggt_8D_2 | 0.35 | 1.21 | 6.72 | 3.20 |  8.36 |  9.21 | 0.43 | 1.53 | 116.22 | 1.07 | ⋯ | 0 | 0 | 0 | 0 | 0 | 0 | 0 | 0 | 0 | 0 |\n",
       "| FPKM.hggt_8D_3 | 0.50 | 1.11 | 7.06 | 4.65 | 11.60 | 10.11 | 0.64 | 1.66 | 152.05 | 1.59 | ⋯ | 0 | 0 | 0 | 0 | 0 | 0 | 0 | 0 | 0 | 0 |\n",
       "| FPKM.WT_8D_1 | 0.18 | 0.65 | 3.98 | 2.33 |  4.77 |  5.53 | 0.23 | 0.61 |  42.44 | 0.64 | ⋯ | 0 | 0 | 0 | 0 | 0 | 0 | 0 | 0 | 0 | 0 |\n",
       "| FPKM.WT_8D_2 | 0.27 | 0.71 | 2.84 | 2.08 |  4.09 |  6.81 | 0.36 | 0.85 |  71.39 | 0.83 | ⋯ | 0 | 0 | 0 | 0 | 0 | 0 | 0 | 0 | 0 | 0 |\n",
       "| FPKM.WT_8D_3 | 0.21 | 0.54 | 3.28 | 1.39 |  5.91 |  3.05 | 0.22 | 0.99 |  72.63 | 0.43 | ⋯ | 0 | 0 | 0 | 0 | 0 | 0 | 0 | 0 | 0 | 0 |\n",
       "\n"
      ],
      "text/plain": [
       "               HORVU0Hr1G023200 HORVU5Hr1G016450 HORVU1Hr1G020590\n",
       "FPKM.hggt_8D_1 0.47             1.48             6.46            \n",
       "FPKM.hggt_8D_2 0.35             1.21             6.72            \n",
       "FPKM.hggt_8D_3 0.50             1.11             7.06            \n",
       "FPKM.WT_8D_1   0.18             0.65             3.98            \n",
       "FPKM.WT_8D_2   0.27             0.71             2.84            \n",
       "FPKM.WT_8D_3   0.21             0.54             3.28            \n",
       "               HORVU5Hr1G008340 HORVU3Hr1G083680 HORVU4Hr1G006330\n",
       "FPKM.hggt_8D_1 3.78              9.65            11.56           \n",
       "FPKM.hggt_8D_2 3.20              8.36             9.21           \n",
       "FPKM.hggt_8D_3 4.65             11.60            10.11           \n",
       "FPKM.WT_8D_1   2.33              4.77             5.53           \n",
       "FPKM.WT_8D_2   2.08              4.09             6.81           \n",
       "FPKM.WT_8D_3   1.39              5.91             3.05           \n",
       "               HORVU4Hr1G067550 HORVU7Hr1G118740 HORVU3Hr1G116550\n",
       "FPKM.hggt_8D_1 0.57             1.73             106.41          \n",
       "FPKM.hggt_8D_2 0.43             1.53             116.22          \n",
       "FPKM.hggt_8D_3 0.64             1.66             152.05          \n",
       "FPKM.WT_8D_1   0.23             0.61              42.44          \n",
       "FPKM.WT_8D_2   0.36             0.85              71.39          \n",
       "FPKM.WT_8D_3   0.22             0.99              72.63          \n",
       "               HORVU0Hr1G021280 ⋯ HORVU3Hr1G055090 HORVU3Hr1G084290\n",
       "FPKM.hggt_8D_1 1.17             ⋯ 0                0               \n",
       "FPKM.hggt_8D_2 1.07             ⋯ 0                0               \n",
       "FPKM.hggt_8D_3 1.59             ⋯ 0                0               \n",
       "FPKM.WT_8D_1   0.64             ⋯ 0                0               \n",
       "FPKM.WT_8D_2   0.83             ⋯ 0                0               \n",
       "FPKM.WT_8D_3   0.43             ⋯ 0                0               \n",
       "               HORVU0Hr1G030160 HORVU2Hr1G039040 HORVU3Hr1G001540\n",
       "FPKM.hggt_8D_1 0                0                0               \n",
       "FPKM.hggt_8D_2 0                0                0               \n",
       "FPKM.hggt_8D_3 0                0                0               \n",
       "FPKM.WT_8D_1   0                0                0               \n",
       "FPKM.WT_8D_2   0                0                0               \n",
       "FPKM.WT_8D_3   0                0                0               \n",
       "               HORVU7Hr1G020610 HORVU1Hr1G027300 HORVU7Hr1G051530\n",
       "FPKM.hggt_8D_1 0                0                0               \n",
       "FPKM.hggt_8D_2 0                0                0               \n",
       "FPKM.hggt_8D_3 0                0                0               \n",
       "FPKM.WT_8D_1   0                0                0               \n",
       "FPKM.WT_8D_2   0                0                0               \n",
       "FPKM.WT_8D_3   0                0                0               \n",
       "               ENSRNA049486433 ENSRNA049488473\n",
       "FPKM.hggt_8D_1 0               0              \n",
       "FPKM.hggt_8D_2 0               0              \n",
       "FPKM.hggt_8D_3 0               0              \n",
       "FPKM.WT_8D_1   0               0              \n",
       "FPKM.WT_8D_2   0               0              \n",
       "FPKM.WT_8D_3   0               0              "
      ]
     },
     "metadata": {},
     "output_type": "display_data"
    }
   ],
   "source": [
    "datExpr0 = as.data.frame(data0[, -c(1)]) ##\n",
    "rownames(datExpr0) = data0$X\n",
    "head(datExpr0)"
   ]
  },
  {
   "cell_type": "code",
   "execution_count": 13,
   "id": "3d4ab2b2-d55c-4447-aad4-09bc6552fc76",
   "metadata": {},
   "outputs": [
    {
     "name": "stdout",
     "output_type": "stream",
     "text": [
      " Flagging genes and samples with too many missing values...\n",
      "  ..step 1\n",
      "  ..Excluding 186 genes from the calculation due to too many missing samples or zero variance.\n",
      "  ..step 2\n",
      "Removing genes: HORVU6Hr1G050370, HORVU6Hr1G008930, ENSRNA049489330, HORVU3Hr1G075030, HORVU3Hr1G002530, HORVU7Hr1G000040, HORVU5Hr1G048150, HORVU6Hr1G084290, HORVU3Hr1G112250, HORVU5Hr1G015490, ENSRNA049485928, HORVU3Hr1G091140, ENSRNA049488128, ENSRNA049489574, ENSRNA049489344, HORVU0Hr1G027310, ENSRNA049480216, HORVU4Hr1G073950, HORVU4Hr1G056350, HORVU2Hr1G057850, HORVU1Hr1G025150, HORVU7Hr1G036180, HORVU3Hr1G007540, HORVU2Hr1G107180, HORVU3Hr1G100470, HORVU1Hr1G086400, HORVU7Hr1G114220, HORVU3Hr1G002330, HORVU2Hr1G035730, HORVU2Hr1G000170, HORVU2Hr1G126810, HORVU2Hr1G006910, HORVU5Hr1G080120, ENSRNA049485217, HORVU0Hr1G028230, ENSRNA049476456, HORVU5Hr1G005490, ENSRNA049472835, HORVU5Hr1G012370, HORVU7Hr1G119340, HORVU5Hr1G076260, HORVU3Hr1G007720, HORVU7Hr1G047780, HORVU0Hr1G032130, HORVU7Hr1G115730, HORVU7Hr1G061250, HORVU7Hr1G010850, HORVU0Hr1G006070, HORVU5Hr1G123110, HORVU4Hr1G028580, HORVU4Hr1G008810, HORVU0Hr1G025690, HORVU2Hr1G000160, HORVU7Hr1G087070, HORVU0Hr1G040180, HORVU7Hr1G087120, HORVU1Hr1G086970, HORVU5Hr1G064660, HORVU7Hr1G114270, ENSRNA049489536, HORVU5Hr1G087090, HORVU4Hr1G009100, HORVU5Hr1G077210, HORVU1Hr1G037970, HORVU0Hr1G007680, HORVU3Hr1G055020, HORVU0Hr1G032100, HORVU2Hr1G107220, HORVU1Hr1G053170, HORVU6Hr1G037020, ENSRNA049468778, ENSRNA049489511, ENSRNA049489586, HORVU1Hr1G038010, ENSRNA050017467, HORVU1Hr1G078420, HORVU1Hr1G089960, HORVU1Hr1G061970, HORVU0Hr1G011320, HORVU5Hr1G079760, HORVU7Hr1G031830, ENSRNA049486405, ENSRNA049489379, HORVU5Hr1G041390, ENSRNA049488877, ENSRNA050016414, ENSRNA049488869, HORVU1Hr1G060190, ENSRNA049449027, ENSRNA049445574, HORVU2Hr1G006000, HORVU3Hr1G083250, HORVU1Hr1G086050, HORVU7Hr1G000320, HORVU3Hr1G109380, HORVU2Hr1G072150, HORVU1Hr1G049770, ENSRNA049484177, ENSRNA049486115, ENSRNA049484185, ENSRNA049487977, ENSRNA050017792, ENSRNA049476399, ENSRNA049485195, ENSRNA049487211, ENSRNA049479910, ENSRNA049476433, ENSRNA049482245, HORVU5Hr1G108640, ENSRNA049476393, ENSRNA049487209, ENSRNA049476454, ENSRNA049486925, ENSRNA049487214, ENSRNA049487218, ENSRNA050017798, ENSRNA049486374, ENSRNA049487217, ENSRNA049446480, ENSRNA050017778, ENSRNA049476463, ENSRNA049476442, ENSRNA049483063, ENSRNA049467758, ENSRNA049488201, ENSRNA049482344, ENSRNA049485221, ENSRNA049486427, ENSRNA049482389, ENSRNA049484194, ENSRNA049479283, ENSRNA049486308, HORVU6Hr1G088000, HORVU2Hr1G051380, HORVU5Hr1G039590, HORVU4Hr1G032570, HORVU2Hr1G040170, HORVU2Hr1G014900, HORVU1Hr1G001570, HORVU2Hr1G024030, ENSRNA049444133, HORVU1Hr1G074240, HORVU5Hr1G086090, HORVU3Hr1G112190, HORVU7Hr1G030600, HORVU4Hr1G029240, HORVU7Hr1G105270, HORVU3Hr1G116110, HORVU6Hr1G033360, HORVU4Hr1G060590, HORVU2Hr1G063860, ENSRNA049467288, HORVU4Hr1G014480, HORVU4Hr1G025060, HORVU7Hr1G028010, HORVU5Hr1G112060, HORVU5Hr1G001360, HORVU5Hr1G001380, HORVU2Hr1G044340, HORVU7Hr1G024600, HORVU1Hr1G000830, HORVU4Hr1G038820, HORVU6Hr1G009180, ENSRNA049489363, HORVU5Hr1G004510, HORVU3Hr1G001680, HORVU5Hr1G091420, HORVU5Hr1G083110, HORVU5Hr1G093180, HORVU0Hr1G033290, HORVU4Hr1G080290, HORVU0Hr1G017610, HORVU0Hr1G006080, HORVU3Hr1G002490, HORVU7Hr1G000230, HORVU3Hr1G077430, ENSRNA049441303, HORVU4Hr1G001040, HORVU5Hr1G119450, HORVU3Hr1G002210, HORVU2Hr1G119210, HORVU3Hr1G002350, HORVU6Hr1G004010, HORVU3Hr1G002480, HORVU3Hr1G055090, HORVU0Hr1G030160\n"
     ]
    }
   ],
   "source": [
    "gsg = goodSamplesGenes(datExpr0, verbose = 3)\n",
    "if (!gsg$allOK)\n",
    "{\n",
    "# Optionally, print the gene and sample names that were removed:\n",
    "if (sum(!gsg$goodGenes)>0)\n",
    "printFlush(paste(\"Removing genes:\", paste(names(datExpr0)[!gsg$goodGenes], collapse = \", \")));\n",
    "if (sum(!gsg$goodSamples)>0)\n",
    "printFlush(paste(\"Removing samples:\", paste(rownames(datExpr0)[!gsg$goodSamples], collapse = \", \")));\n",
    "# Remove the offending genes and samples from the data:\n",
    "datExpr0 = datExpr0[gsg$goodSamples, gsg$goodGenes]\n",
    "}"
   ]
  },
  {
   "cell_type": "code",
   "execution_count": 14,
   "id": "71d56e73-a0da-474a-b633-ca496d797b1a",
   "metadata": {},
   "outputs": [],
   "source": [
    "datExpr = log2(datExpr0+1)"
   ]
  },
  {
   "cell_type": "code",
   "execution_count": 15,
   "id": "f2844db5-927d-4356-83f8-7cb941ede8bc",
   "metadata": {},
   "outputs": [
    {
     "data": {
      "text/html": [
       "<table class=\"dataframe\">\n",
       "<caption>A data.frame: 6 × 30042</caption>\n",
       "<thead>\n",
       "\t<tr><th></th><th scope=col>HORVU0Hr1G023200</th><th scope=col>HORVU5Hr1G016450</th><th scope=col>HORVU1Hr1G020590</th><th scope=col>HORVU5Hr1G008340</th><th scope=col>HORVU3Hr1G083680</th><th scope=col>HORVU4Hr1G006330</th><th scope=col>HORVU4Hr1G067550</th><th scope=col>HORVU7Hr1G118740</th><th scope=col>HORVU3Hr1G116550</th><th scope=col>HORVU0Hr1G021280</th><th scope=col>⋯</th><th scope=col>HORVU5Hr1G018260</th><th scope=col>HORVU5Hr1G095020</th><th scope=col>HORVU3Hr1G084290</th><th scope=col>HORVU2Hr1G039040</th><th scope=col>HORVU3Hr1G001540</th><th scope=col>HORVU7Hr1G020610</th><th scope=col>HORVU1Hr1G027300</th><th scope=col>HORVU7Hr1G051530</th><th scope=col>ENSRNA049486433</th><th scope=col>ENSRNA049488473</th></tr>\n",
       "\t<tr><th></th><th scope=col>&lt;dbl&gt;</th><th scope=col>&lt;dbl&gt;</th><th scope=col>&lt;dbl&gt;</th><th scope=col>&lt;dbl&gt;</th><th scope=col>&lt;dbl&gt;</th><th scope=col>&lt;dbl&gt;</th><th scope=col>&lt;dbl&gt;</th><th scope=col>&lt;dbl&gt;</th><th scope=col>&lt;dbl&gt;</th><th scope=col>&lt;dbl&gt;</th><th scope=col>⋯</th><th scope=col>&lt;dbl&gt;</th><th scope=col>&lt;dbl&gt;</th><th scope=col>&lt;dbl&gt;</th><th scope=col>&lt;dbl&gt;</th><th scope=col>&lt;dbl&gt;</th><th scope=col>&lt;dbl&gt;</th><th scope=col>&lt;dbl&gt;</th><th scope=col>&lt;dbl&gt;</th><th scope=col>&lt;dbl&gt;</th><th scope=col>&lt;dbl&gt;</th></tr>\n",
       "</thead>\n",
       "<tbody>\n",
       "\t<tr><th scope=row>FPKM.hggt_8D_1</th><td>0.5558162</td><td>1.3103401</td><td>2.899176</td><td>2.257011</td><td>3.412782</td><td>3.650765</td><td>0.6507646</td><td>1.4489010</td><td>6.746985</td><td>1.1176950</td><td>⋯</td><td>0</td><td>0</td><td>0</td><td>0</td><td>0</td><td>0</td><td>0</td><td>0</td><td>0</td><td>0</td></tr>\n",
       "\t<tr><th scope=row>FPKM.hggt_8D_2</th><td>0.4329594</td><td>1.1440464</td><td>2.948601</td><td>2.070389</td><td>3.226509</td><td>3.351911</td><td>0.5160151</td><td>1.3391374</td><td>6.873075</td><td>1.0496308</td><td>⋯</td><td>0</td><td>0</td><td>0</td><td>0</td><td>0</td><td>0</td><td>0</td><td>0</td><td>0</td><td>0</td></tr>\n",
       "\t<tr><th scope=row>FPKM.hggt_8D_3</th><td>0.5849625</td><td>1.0772430</td><td>3.010780</td><td>2.498251</td><td>3.655352</td><td>3.473787</td><td>0.7136958</td><td>1.4114262</td><td>7.257859</td><td>1.3729521</td><td>⋯</td><td>0</td><td>0</td><td>0</td><td>0</td><td>0</td><td>0</td><td>0</td><td>0</td><td>0</td><td>0</td></tr>\n",
       "\t<tr><th scope=row>FPKM.WT_8D_1</th><td>0.2387869</td><td>0.7224660</td><td>2.316146</td><td>1.735522</td><td>2.528571</td><td>2.707083</td><td>0.2986583</td><td>0.6870607</td><td>5.440952</td><td>0.7136958</td><td>⋯</td><td>0</td><td>0</td><td>0</td><td>0</td><td>0</td><td>0</td><td>0</td><td>0</td><td>0</td><td>0</td></tr>\n",
       "\t<tr><th scope=row>FPKM.WT_8D_2</th><td>0.3448285</td><td>0.7739963</td><td>1.941106</td><td>1.622930</td><td>2.347666</td><td>2.965323</td><td>0.4436067</td><td>0.8875253</td><td>6.177719</td><td>0.8718436</td><td>⋯</td><td>0</td><td>0</td><td>0</td><td>0</td><td>0</td><td>0</td><td>0</td><td>0</td><td>0</td><td>0</td></tr>\n",
       "\t<tr><th scope=row>FPKM.WT_8D_3</th><td>0.2750070</td><td>0.6229304</td><td>2.097611</td><td>1.257011</td><td>2.788686</td><td>2.017922</td><td>0.2868811</td><td>0.9927684</td><td>6.202222</td><td>0.5160151</td><td>⋯</td><td>0</td><td>0</td><td>0</td><td>0</td><td>0</td><td>0</td><td>0</td><td>0</td><td>0</td><td>0</td></tr>\n",
       "</tbody>\n",
       "</table>\n"
      ],
      "text/latex": [
       "A data.frame: 6 × 30042\n",
       "\\begin{tabular}{r|lllllllllllllllllllll}\n",
       "  & HORVU0Hr1G023200 & HORVU5Hr1G016450 & HORVU1Hr1G020590 & HORVU5Hr1G008340 & HORVU3Hr1G083680 & HORVU4Hr1G006330 & HORVU4Hr1G067550 & HORVU7Hr1G118740 & HORVU3Hr1G116550 & HORVU0Hr1G021280 & ⋯ & HORVU5Hr1G018260 & HORVU5Hr1G095020 & HORVU3Hr1G084290 & HORVU2Hr1G039040 & HORVU3Hr1G001540 & HORVU7Hr1G020610 & HORVU1Hr1G027300 & HORVU7Hr1G051530 & ENSRNA049486433 & ENSRNA049488473\\\\\n",
       "  & <dbl> & <dbl> & <dbl> & <dbl> & <dbl> & <dbl> & <dbl> & <dbl> & <dbl> & <dbl> & ⋯ & <dbl> & <dbl> & <dbl> & <dbl> & <dbl> & <dbl> & <dbl> & <dbl> & <dbl> & <dbl>\\\\\n",
       "\\hline\n",
       "\tFPKM.hggt\\_8D\\_1 & 0.5558162 & 1.3103401 & 2.899176 & 2.257011 & 3.412782 & 3.650765 & 0.6507646 & 1.4489010 & 6.746985 & 1.1176950 & ⋯ & 0 & 0 & 0 & 0 & 0 & 0 & 0 & 0 & 0 & 0\\\\\n",
       "\tFPKM.hggt\\_8D\\_2 & 0.4329594 & 1.1440464 & 2.948601 & 2.070389 & 3.226509 & 3.351911 & 0.5160151 & 1.3391374 & 6.873075 & 1.0496308 & ⋯ & 0 & 0 & 0 & 0 & 0 & 0 & 0 & 0 & 0 & 0\\\\\n",
       "\tFPKM.hggt\\_8D\\_3 & 0.5849625 & 1.0772430 & 3.010780 & 2.498251 & 3.655352 & 3.473787 & 0.7136958 & 1.4114262 & 7.257859 & 1.3729521 & ⋯ & 0 & 0 & 0 & 0 & 0 & 0 & 0 & 0 & 0 & 0\\\\\n",
       "\tFPKM.WT\\_8D\\_1 & 0.2387869 & 0.7224660 & 2.316146 & 1.735522 & 2.528571 & 2.707083 & 0.2986583 & 0.6870607 & 5.440952 & 0.7136958 & ⋯ & 0 & 0 & 0 & 0 & 0 & 0 & 0 & 0 & 0 & 0\\\\\n",
       "\tFPKM.WT\\_8D\\_2 & 0.3448285 & 0.7739963 & 1.941106 & 1.622930 & 2.347666 & 2.965323 & 0.4436067 & 0.8875253 & 6.177719 & 0.8718436 & ⋯ & 0 & 0 & 0 & 0 & 0 & 0 & 0 & 0 & 0 & 0\\\\\n",
       "\tFPKM.WT\\_8D\\_3 & 0.2750070 & 0.6229304 & 2.097611 & 1.257011 & 2.788686 & 2.017922 & 0.2868811 & 0.9927684 & 6.202222 & 0.5160151 & ⋯ & 0 & 0 & 0 & 0 & 0 & 0 & 0 & 0 & 0 & 0\\\\\n",
       "\\end{tabular}\n"
      ],
      "text/markdown": [
       "\n",
       "A data.frame: 6 × 30042\n",
       "\n",
       "| <!--/--> | HORVU0Hr1G023200 &lt;dbl&gt; | HORVU5Hr1G016450 &lt;dbl&gt; | HORVU1Hr1G020590 &lt;dbl&gt; | HORVU5Hr1G008340 &lt;dbl&gt; | HORVU3Hr1G083680 &lt;dbl&gt; | HORVU4Hr1G006330 &lt;dbl&gt; | HORVU4Hr1G067550 &lt;dbl&gt; | HORVU7Hr1G118740 &lt;dbl&gt; | HORVU3Hr1G116550 &lt;dbl&gt; | HORVU0Hr1G021280 &lt;dbl&gt; | ⋯ ⋯ | HORVU5Hr1G018260 &lt;dbl&gt; | HORVU5Hr1G095020 &lt;dbl&gt; | HORVU3Hr1G084290 &lt;dbl&gt; | HORVU2Hr1G039040 &lt;dbl&gt; | HORVU3Hr1G001540 &lt;dbl&gt; | HORVU7Hr1G020610 &lt;dbl&gt; | HORVU1Hr1G027300 &lt;dbl&gt; | HORVU7Hr1G051530 &lt;dbl&gt; | ENSRNA049486433 &lt;dbl&gt; | ENSRNA049488473 &lt;dbl&gt; |\n",
       "|---|---|---|---|---|---|---|---|---|---|---|---|---|---|---|---|---|---|---|---|---|---|\n",
       "| FPKM.hggt_8D_1 | 0.5558162 | 1.3103401 | 2.899176 | 2.257011 | 3.412782 | 3.650765 | 0.6507646 | 1.4489010 | 6.746985 | 1.1176950 | ⋯ | 0 | 0 | 0 | 0 | 0 | 0 | 0 | 0 | 0 | 0 |\n",
       "| FPKM.hggt_8D_2 | 0.4329594 | 1.1440464 | 2.948601 | 2.070389 | 3.226509 | 3.351911 | 0.5160151 | 1.3391374 | 6.873075 | 1.0496308 | ⋯ | 0 | 0 | 0 | 0 | 0 | 0 | 0 | 0 | 0 | 0 |\n",
       "| FPKM.hggt_8D_3 | 0.5849625 | 1.0772430 | 3.010780 | 2.498251 | 3.655352 | 3.473787 | 0.7136958 | 1.4114262 | 7.257859 | 1.3729521 | ⋯ | 0 | 0 | 0 | 0 | 0 | 0 | 0 | 0 | 0 | 0 |\n",
       "| FPKM.WT_8D_1 | 0.2387869 | 0.7224660 | 2.316146 | 1.735522 | 2.528571 | 2.707083 | 0.2986583 | 0.6870607 | 5.440952 | 0.7136958 | ⋯ | 0 | 0 | 0 | 0 | 0 | 0 | 0 | 0 | 0 | 0 |\n",
       "| FPKM.WT_8D_2 | 0.3448285 | 0.7739963 | 1.941106 | 1.622930 | 2.347666 | 2.965323 | 0.4436067 | 0.8875253 | 6.177719 | 0.8718436 | ⋯ | 0 | 0 | 0 | 0 | 0 | 0 | 0 | 0 | 0 | 0 |\n",
       "| FPKM.WT_8D_3 | 0.2750070 | 0.6229304 | 2.097611 | 1.257011 | 2.788686 | 2.017922 | 0.2868811 | 0.9927684 | 6.202222 | 0.5160151 | ⋯ | 0 | 0 | 0 | 0 | 0 | 0 | 0 | 0 | 0 | 0 |\n",
       "\n"
      ],
      "text/plain": [
       "               HORVU0Hr1G023200 HORVU5Hr1G016450 HORVU1Hr1G020590\n",
       "FPKM.hggt_8D_1 0.5558162        1.3103401        2.899176        \n",
       "FPKM.hggt_8D_2 0.4329594        1.1440464        2.948601        \n",
       "FPKM.hggt_8D_3 0.5849625        1.0772430        3.010780        \n",
       "FPKM.WT_8D_1   0.2387869        0.7224660        2.316146        \n",
       "FPKM.WT_8D_2   0.3448285        0.7739963        1.941106        \n",
       "FPKM.WT_8D_3   0.2750070        0.6229304        2.097611        \n",
       "               HORVU5Hr1G008340 HORVU3Hr1G083680 HORVU4Hr1G006330\n",
       "FPKM.hggt_8D_1 2.257011         3.412782         3.650765        \n",
       "FPKM.hggt_8D_2 2.070389         3.226509         3.351911        \n",
       "FPKM.hggt_8D_3 2.498251         3.655352         3.473787        \n",
       "FPKM.WT_8D_1   1.735522         2.528571         2.707083        \n",
       "FPKM.WT_8D_2   1.622930         2.347666         2.965323        \n",
       "FPKM.WT_8D_3   1.257011         2.788686         2.017922        \n",
       "               HORVU4Hr1G067550 HORVU7Hr1G118740 HORVU3Hr1G116550\n",
       "FPKM.hggt_8D_1 0.6507646        1.4489010        6.746985        \n",
       "FPKM.hggt_8D_2 0.5160151        1.3391374        6.873075        \n",
       "FPKM.hggt_8D_3 0.7136958        1.4114262        7.257859        \n",
       "FPKM.WT_8D_1   0.2986583        0.6870607        5.440952        \n",
       "FPKM.WT_8D_2   0.4436067        0.8875253        6.177719        \n",
       "FPKM.WT_8D_3   0.2868811        0.9927684        6.202222        \n",
       "               HORVU0Hr1G021280 ⋯ HORVU5Hr1G018260 HORVU5Hr1G095020\n",
       "FPKM.hggt_8D_1 1.1176950        ⋯ 0                0               \n",
       "FPKM.hggt_8D_2 1.0496308        ⋯ 0                0               \n",
       "FPKM.hggt_8D_3 1.3729521        ⋯ 0                0               \n",
       "FPKM.WT_8D_1   0.7136958        ⋯ 0                0               \n",
       "FPKM.WT_8D_2   0.8718436        ⋯ 0                0               \n",
       "FPKM.WT_8D_3   0.5160151        ⋯ 0                0               \n",
       "               HORVU3Hr1G084290 HORVU2Hr1G039040 HORVU3Hr1G001540\n",
       "FPKM.hggt_8D_1 0                0                0               \n",
       "FPKM.hggt_8D_2 0                0                0               \n",
       "FPKM.hggt_8D_3 0                0                0               \n",
       "FPKM.WT_8D_1   0                0                0               \n",
       "FPKM.WT_8D_2   0                0                0               \n",
       "FPKM.WT_8D_3   0                0                0               \n",
       "               HORVU7Hr1G020610 HORVU1Hr1G027300 HORVU7Hr1G051530\n",
       "FPKM.hggt_8D_1 0                0                0               \n",
       "FPKM.hggt_8D_2 0                0                0               \n",
       "FPKM.hggt_8D_3 0                0                0               \n",
       "FPKM.WT_8D_1   0                0                0               \n",
       "FPKM.WT_8D_2   0                0                0               \n",
       "FPKM.WT_8D_3   0                0                0               \n",
       "               ENSRNA049486433 ENSRNA049488473\n",
       "FPKM.hggt_8D_1 0               0              \n",
       "FPKM.hggt_8D_2 0               0              \n",
       "FPKM.hggt_8D_3 0               0              \n",
       "FPKM.WT_8D_1   0               0              \n",
       "FPKM.WT_8D_2   0               0              \n",
       "FPKM.WT_8D_3   0               0              "
      ]
     },
     "metadata": {},
     "output_type": "display_data"
    }
   ],
   "source": [
    "head(datExpr)"
   ]
  },
  {
   "cell_type": "code",
   "execution_count": 16,
   "id": "ab4d58d1-4f92-47e9-ae27-73c0ab2aebf9",
   "metadata": {},
   "outputs": [
    {
     "data": {
      "text/html": [
       "<strong>png:</strong> 2"
      ],
      "text/latex": [
       "\\textbf{png:} 2"
      ],
      "text/markdown": [
       "**png:** 2"
      ],
      "text/plain": [
       "png \n",
       "  2 "
      ]
     },
     "metadata": {},
     "output_type": "display_data"
    }
   ],
   "source": [
    "# Calculate sample distance and cluster the samples\n",
    "sampleTree = hclust(dist(datExpr), method = \"average\");\n",
    "# plot sample tree\n",
    "pdf(file = \"1-n-sampleClustering.pdf\", width = 12, height = 9);\n",
    "par(cex = 1.6);\n",
    "par(mar = c(0,4,2,0))\n",
    "plot(sampleTree, main = \"Sample clustering to detect outliers\", sub=\"\", xlab=\"\",\n",
    "     cex.lab = 1.5,cex.axis = 1.5, cex.main = 2)\n",
    "dev.off()"
   ]
  },
  {
   "cell_type": "code",
   "execution_count": 17,
   "id": "4a68fa0e-955e-478f-b2ff-7afd5507627c",
   "metadata": {},
   "outputs": [
    {
     "name": "stdout",
     "output_type": "stream",
     "text": [
      "pickSoftThreshold: will use block size 1489.\n",
      " pickSoftThreshold: calculating connectivity for given powers...\n",
      "   ..working on genes 1 through 1489 of 30042\n",
      "   ..working on genes 1490 through 2978 of 30042\n",
      "   ..working on genes 2979 through 4467 of 30042\n",
      "   ..working on genes 4468 through 5956 of 30042\n",
      "   ..working on genes 5957 through 7445 of 30042\n",
      "   ..working on genes 7446 through 8934 of 30042\n",
      "   ..working on genes 8935 through 10423 of 30042\n",
      "   ..working on genes 10424 through 11912 of 30042\n",
      "   ..working on genes 11913 through 13401 of 30042\n",
      "   ..working on genes 13402 through 14890 of 30042\n",
      "   ..working on genes 14891 through 16379 of 30042\n",
      "   ..working on genes 16380 through 17868 of 30042\n",
      "   ..working on genes 17869 through 19357 of 30042\n",
      "   ..working on genes 19358 through 20846 of 30042\n",
      "   ..working on genes 20847 through 22335 of 30042\n",
      "   ..working on genes 22336 through 23824 of 30042\n",
      "   ..working on genes 23825 through 25313 of 30042\n",
      "   ..working on genes 25314 through 26802 of 30042\n",
      "   ..working on genes 26803 through 28291 of 30042\n",
      "   ..working on genes 28292 through 29780 of 30042\n",
      "   ..working on genes 29781 through 30042 of 30042\n",
      "   Power SFT.R.sq   slope truncated.R.sq mean.k. median.k. max.k.\n",
      "1      1    0.475  1.2900         0.4030   12100   12200.0  17400\n",
      "2      2    0.019 -0.0888        -0.0154    7080    6530.0  13000\n",
      "3      3    0.356 -0.3990         0.7480    4910    3920.0  10800\n",
      "4      4    0.493 -0.4990         0.9230    3730    2520.0   9360\n",
      "5      5    0.574 -0.5480         0.9650    2990    1710.0   8360\n",
      "6      6    0.629 -0.5810         0.9780    2490    1200.0   7600\n",
      "7      7    0.672 -0.6090         0.9780    2130     875.0   6990\n",
      "8      8    0.700 -0.6310         0.9700    1850     656.0   6480\n",
      "9      9    0.731 -0.6500         0.9610    1630     506.0   6050\n",
      "10    10    0.760 -0.6690         0.9520    1450     398.0   5680\n",
      "11    11    0.780 -0.6880         0.9380    1310     336.0   5360\n",
      "12    12    0.802 -0.7060         0.9300    1180     306.0   5070\n",
      "13    13    0.822 -0.7240         0.9270    1080     282.0   4820\n",
      "14    14    0.835 -0.7410         0.9150     991     254.0   4590\n",
      "15    15    0.849 -0.7570         0.9070     913     240.0   4380\n",
      "16    16    0.858 -0.7710         0.9020     844     215.0   4190\n",
      "17    17    0.865 -0.7850         0.8950     784     190.0   4010\n",
      "18    18    0.873 -0.7990         0.8960     730     170.0   3850\n",
      "19    19    0.878 -0.8140         0.8910     683     154.0   3700\n",
      "20    20    0.882 -0.8280         0.8860     640     138.0   3560\n",
      "21    22    0.886 -0.8540         0.8800     566     113.0   3310\n",
      "22    24    0.895 -0.8790         0.8820     504      92.0   3080\n",
      "23    26    0.898 -0.9050         0.8790     453      77.1   2890\n",
      "24    28    0.901 -0.9290         0.8790     409      63.5   2710\n",
      "25    30    0.909 -0.9460         0.8840     372      53.1   2560\n"
     ]
    },
    {
     "data": {
      "text/html": [
       "<strong>png:</strong> 2"
      ],
      "text/latex": [
       "\\textbf{png:} 2"
      ],
      "text/markdown": [
       "**png:** 2"
      ],
      "text/plain": [
       "png \n",
       "  2 "
      ]
     },
     "metadata": {},
     "output_type": "display_data"
    }
   ],
   "source": [
    "#===============================================================================\n",
    "#\n",
    "#  Choose soft threshold parameter\n",
    "#\n",
    "#===============================================================================\n",
    "\n",
    "# Choose a set of soft threshold parameters\n",
    "powers = c(c(1:20), seq(from = 22, to=30, by=2))\n",
    "sft = pickSoftThreshold(datExpr, powerVector = powers, verbose = 5) \n",
    "# Scale-free topology fit index as a function of the soft-thresholding power\n",
    "pdf(file = \"2-n-sft.pdf\", width = 9, height = 5);\n",
    "par(mfrow = c(1,2));\n",
    "cex1 = 0.9;\n",
    "plot(sft$fitIndices[,1], -sign(sft$fitIndices[,3])*sft$fitIndices[,2],\n",
    "\txlab=\"Soft Threshold (power)\",ylab=\"Scale Free Topology Model Fit,signed R^2\",type=\"n\",\n",
    "\tmain = paste(\"Scale independence\"));\n",
    "text(sft$fitIndices[,1], -sign(sft$fitIndices[,3])*sft$fitIndices[,2],\n",
    "labels=powers,cex=cex1,col=\"red\");\n",
    "# this line corresponds to using an R^2 cut-off of h\n",
    "abline(h=0.90,col=\"red\") \n",
    "# Mean connectivity as a function of the soft-thresholding power\n",
    "plot(sft$fitIndices[,1], sft$fitIndices[,5],\n",
    "\txlab=\"Soft Threshold (power)\",ylab=\"Mean Connectivity\", type=\"n\",\n",
    "\tmain = paste(\"Mean connectivity\")) \n",
    "text(sft$fitIndices[,1], sft$fitIndices[,5], labels=powers, cex=cex1,col=\"red\")\n",
    "dev.off()"
   ]
  },
  {
   "cell_type": "code",
   "execution_count": 18,
   "id": "a2357a69-fc4a-4ce0-acb8-2a479fd44b26",
   "metadata": {},
   "outputs": [
    {
     "name": "stdout",
     "output_type": "stream",
     "text": [
      "TOM calculation: adjacency..\n",
      "..will not use multithreading.\n",
      " Fraction of slow calculations: 0.000000\n",
      "..connectivity..\n",
      "..matrix multiplication (system BLAS)..\n",
      "..normalization..\n",
      "..done.\n"
     ]
    },
    {
     "data": {
      "text/html": [
       "<strong>png:</strong> 2"
      ],
      "text/latex": [
       "\\textbf{png:} 2"
      ],
      "text/markdown": [
       "**png:** 2"
      ],
      "text/plain": [
       "png \n",
       "  2 "
      ]
     },
     "metadata": {},
     "output_type": "display_data"
    }
   ],
   "source": [
    "#===============================================================================\n",
    "#\n",
    "#  Turn data expression into topological overlap matrix\n",
    "#\n",
    "#===============================================================================\n",
    "\n",
    "# Turn data expression into topological overlap matrix\n",
    "power=sft$powerEstimate\n",
    "TOM = TOMsimilarityFromExpr(datExpr, power = power)\n",
    "dissTOM = 1-TOM \n",
    "# Plot gene tree\n",
    "geneTree = hclust(as.dist(dissTOM), method = \"average\"); ## hclust(dist(datExpr0), method = \"average\")\n",
    "pdf(file = \"3-gene_cluster.pdf\", width = 12, height = 9);\n",
    "plot(geneTree, xlab=\"\", sub=\"\", main = \"Gene clustering on TOM-based dissimilarity\",\n",
    "     labels = FALSE, hang = 0.04);\n",
    "dev.off()"
   ]
  },
  {
   "cell_type": "code",
   "execution_count": 19,
   "id": "837dfb71-2346-484e-bdbd-7f906a3d1b13",
   "metadata": {},
   "outputs": [
    {
     "name": "stdout",
     "output_type": "stream",
     "text": [
      " ..cutHeight not given, setting it to 0.991  ===>  99% of the (truncated) height range in dendro.\n",
      " ..done.\n"
     ]
    },
    {
     "data": {
      "text/plain": [
       "dynamicMods\n",
       "   0    1    2    3    4    5    6    7    8    9   10   11   12   13   14   15 \n",
       " 331 6449 5638 2016 1352  786  668  664  652  615  602  590  581  566  565  536 \n",
       "  16   17   18   19   20   21   22   23   24   25   26   27   28   29   30   31 \n",
       " 480  475  474  388  366  365  358  336  313  276  254  249  247  243  218  185 \n",
       "  32   33   34   35   36   37   38   39   40   41   42   43   44   45   46   47 \n",
       " 179  174  155  136  117  105   92   91   86   85   84   75   75   75   64   62 \n",
       "  48   49   50   51   52   53   54   55   56   57   58 \n",
       "  60   59   58   54   51   51   47   46   44   40   39 "
      ]
     },
     "metadata": {},
     "output_type": "display_data"
    },
    {
     "data": {
      "text/html": [
       "59"
      ],
      "text/latex": [
       "59"
      ],
      "text/markdown": [
       "59"
      ],
      "text/plain": [
       "[1] 59"
      ]
     },
     "metadata": {},
     "output_type": "display_data"
    },
    {
     "data": {
      "text/plain": [
       "dynamicColors\n",
       "        bisque4           black            blue           brown          brown4 \n",
       "             62             664            5638            2016              64 \n",
       "           cyan       darkgreen        darkgrey     darkmagenta  darkolivegreen \n",
       "            565             358             313             155             174 \n",
       "     darkorange     darkorange2         darkred   darkslateblue   darkturquoise \n",
       "            254              75             365              60             336 \n",
       "    floralwhite           green     greenyellow            grey          grey60 \n",
       "             75             786             590             331             475 \n",
       "      honeydew1           ivory  lavenderblush3       lightcyan      lightcyan1 \n",
       "             39              75              40             480              84 \n",
       "     lightgreen      lightpink4 lightsteelblue1     lightyellow         magenta \n",
       "            474              44              85             388             615 \n",
       "         maroon   mediumpurple3    midnightblue    navajowhite2          orange \n",
       "             46              86             536              47             276 \n",
       "     orangered4   paleturquoise  palevioletred3            pink           plum1 \n",
       "             91             185              51             652              92 \n",
       "          plum2          purple             red       royalblue     saddlebrown \n",
       "             59             602             668             366             243 \n",
       "         salmon         salmon4         sienna3         skyblue        skyblue3 \n",
       "            566              51             136             247             105 \n",
       "      steelblue             tan        thistle1        thistle2       turquoise \n",
       "            218             581              54              58            6449 \n",
       "         violet           white          yellow     yellowgreen \n",
       "            179             249            1352             117 "
      ]
     },
     "metadata": {},
     "output_type": "display_data"
    },
    {
     "data": {
      "text/html": [
       "<strong>png:</strong> 2"
      ],
      "text/latex": [
       "\\textbf{png:} 2"
      ],
      "text/markdown": [
       "**png:** 2"
      ],
      "text/plain": [
       "png \n",
       "  2 "
      ]
     },
     "metadata": {},
     "output_type": "display_data"
    }
   ],
   "source": [
    "#===============================================================================\n",
    "#\n",
    "#  Construct modules\n",
    "#\n",
    "#===============================================================================\n",
    "\n",
    "# Module identification using dynamic tree cut\n",
    "dynamicMods = cutreeDynamic(dendro = geneTree, distM = dissTOM,deepSplit = 2, \n",
    "                            pamRespectsDendro = FALSE,minClusterSize = 30);\n",
    "table(dynamicMods)\n",
    "length(table(dynamicMods)) \n",
    "# Convert numeric labels into colors\n",
    "dynamicColors = labels2colors(dynamicMods)\n",
    "table(dynamicColors)\n",
    "# Plot the dendrogram and colors underneath\n",
    "pdf(file = \"4-module_tree.pdf\", width = 8, height = 6);\n",
    "plotDendroAndColors(geneTree, dynamicColors, \"Dynamic Tree Cut\",dendroLabels = FALSE,\n",
    "                    hang = 0.03,addGuide = TRUE, guideHang = 0.05,main = \"Gene dendrogram and module colors\")\n",
    "dev.off()"
   ]
  },
  {
   "cell_type": "code",
   "execution_count": 20,
   "id": "1928c5f8-9822-4132-ad51-839de1f7b4ce",
   "metadata": {},
   "outputs": [
    {
     "name": "stdout",
     "output_type": "stream",
     "text": [
      " mergeCloseModules: Merging modules whose distance is less than 0.25\n",
      "   multiSetMEs: Calculating module MEs.\n",
      "     Working on set 1 ...\n",
      "     moduleEigengenes: Calculating 59 module eigengenes in given set.\n",
      "   multiSetMEs: Calculating module MEs.\n",
      "     Working on set 1 ...\n",
      "     moduleEigengenes: Calculating 44 module eigengenes in given set.\n",
      "   multiSetMEs: Calculating module MEs.\n",
      "     Working on set 1 ...\n",
      "     moduleEigengenes: Calculating 42 module eigengenes in given set.\n",
      "   Calculating new MEs...\n",
      "   multiSetMEs: Calculating module MEs.\n",
      "     Working on set 1 ...\n",
      "     moduleEigengenes: Calculating 42 module eigengenes in given set.\n"
     ]
    },
    {
     "data": {
      "text/html": [
       "<strong>png:</strong> 2"
      ],
      "text/latex": [
       "\\textbf{png:} 2"
      ],
      "text/markdown": [
       "**png:** 2"
      ],
      "text/plain": [
       "png \n",
       "  2 "
      ]
     },
     "metadata": {},
     "output_type": "display_data"
    }
   ],
   "source": [
    "#===============================================================================\n",
    "#\n",
    "#  Merge modules\n",
    "#\n",
    "#===============================================================================\n",
    "\n",
    "# Merge close modules\n",
    "MEDissThres=0.25 ## change this value based on own data\n",
    "merge = mergeCloseModules(datExpr, dynamicColors, cutHeight = MEDissThres, verbose = 3) \n",
    "mergedColors = merge$colors  \n",
    "mergedMEs = merge$newMEs  \n",
    "# Plot merged module tree\n",
    "pdf(file = \"5-merged_Module_Tree.pdf\", width = 12, height = 9)  \n",
    "plotDendroAndColors(geneTree, cbind(dynamicColors, mergedColors), \n",
    "                    c(\"Dynamic Tree Cut\", \"Merged dynamic\"), dendroLabels = FALSE, \n",
    "                    hang = 0.03, addGuide = TRUE, guideHang = 0.05)  \n",
    "abline(h=MEDissThres, col = \"red\")\n",
    "dev.off()\n",
    "write.table(merge$oldMEs,file=\"oldMEs.txt\");\n",
    "write.table(merge$newMEs,file=\"newMEs.txt\");"
   ]
  },
  {
   "cell_type": "code",
   "execution_count": 21,
   "id": "24748903-e4cf-432e-9abe-a9c98a9d1832",
   "metadata": {},
   "outputs": [],
   "source": [
    "#===============================================================================\n",
    "#\n",
    "#  Export of networks to external software\n",
    "#\n",
    "#===============================================================================\n",
    "\n",
    "# Export the gene list of old modules \n",
    "for (i in 1:length(merge$newMEs)){\n",
    "    modules = c(substring(names(merge$oldMEs)[i], 3));\n",
    "    genes = colnames(datExpr)\n",
    "    inModule = is.finite(match(dynamicColors,modules))\n",
    "    modGenes = genes[inModule]\n",
    "    modTOM=TOM[inModule,inModule]\n",
    "    dimnames(modTOM)=list(modGenes,modGenes)\n",
    "    cyt = exportNetworkToCytoscape(modTOM,\n",
    "            edgeFile = paste(\"orign_CytoscapeInput-edges-\", paste(modules, collapse=\"-\"), \".txt\", sep=\"\"),\n",
    "            nodeFile = paste(\"orign_CytoscapeInput-nodes-\", paste(modules, collapse=\"-\"), \".txt\", sep=\"\"),\n",
    "            weighted = TRUE, threshold = -1, nodeNames = modGenes, nodeAttr = dynamicColors[inModule]);\n",
    "}"
   ]
  },
  {
   "cell_type": "code",
   "execution_count": 22,
   "id": "bddc9a5e-61bf-452b-9ec1-55d98dcd950b",
   "metadata": {},
   "outputs": [
    {
     "data": {
      "text/html": [
       "<table class=\"dataframe\">\n",
       "<caption>A data.frame: 6 × 30042</caption>\n",
       "<thead>\n",
       "\t<tr><th></th><th scope=col>HORVU0Hr1G023200</th><th scope=col>HORVU5Hr1G016450</th><th scope=col>HORVU1Hr1G020590</th><th scope=col>HORVU5Hr1G008340</th><th scope=col>HORVU3Hr1G083680</th><th scope=col>HORVU4Hr1G006330</th><th scope=col>HORVU4Hr1G067550</th><th scope=col>HORVU7Hr1G118740</th><th scope=col>HORVU3Hr1G116550</th><th scope=col>HORVU0Hr1G021280</th><th scope=col>⋯</th><th scope=col>HORVU5Hr1G018260</th><th scope=col>HORVU5Hr1G095020</th><th scope=col>HORVU3Hr1G084290</th><th scope=col>HORVU2Hr1G039040</th><th scope=col>HORVU3Hr1G001540</th><th scope=col>HORVU7Hr1G020610</th><th scope=col>HORVU1Hr1G027300</th><th scope=col>HORVU7Hr1G051530</th><th scope=col>ENSRNA049486433</th><th scope=col>ENSRNA049488473</th></tr>\n",
       "\t<tr><th></th><th scope=col>&lt;dbl&gt;</th><th scope=col>&lt;dbl&gt;</th><th scope=col>&lt;dbl&gt;</th><th scope=col>&lt;dbl&gt;</th><th scope=col>&lt;dbl&gt;</th><th scope=col>&lt;dbl&gt;</th><th scope=col>&lt;dbl&gt;</th><th scope=col>&lt;dbl&gt;</th><th scope=col>&lt;dbl&gt;</th><th scope=col>&lt;dbl&gt;</th><th scope=col>⋯</th><th scope=col>&lt;dbl&gt;</th><th scope=col>&lt;dbl&gt;</th><th scope=col>&lt;dbl&gt;</th><th scope=col>&lt;dbl&gt;</th><th scope=col>&lt;dbl&gt;</th><th scope=col>&lt;dbl&gt;</th><th scope=col>&lt;dbl&gt;</th><th scope=col>&lt;dbl&gt;</th><th scope=col>&lt;dbl&gt;</th><th scope=col>&lt;dbl&gt;</th></tr>\n",
       "</thead>\n",
       "<tbody>\n",
       "\t<tr><th scope=row>FPKM.hggt_8D_1</th><td>0.5558162</td><td>1.3103401</td><td>2.899176</td><td>2.257011</td><td>3.412782</td><td>3.650765</td><td>0.6507646</td><td>1.4489010</td><td>6.746985</td><td>1.1176950</td><td>⋯</td><td>0</td><td>0</td><td>0</td><td>0</td><td>0</td><td>0</td><td>0</td><td>0</td><td>0</td><td>0</td></tr>\n",
       "\t<tr><th scope=row>FPKM.hggt_8D_2</th><td>0.4329594</td><td>1.1440464</td><td>2.948601</td><td>2.070389</td><td>3.226509</td><td>3.351911</td><td>0.5160151</td><td>1.3391374</td><td>6.873075</td><td>1.0496308</td><td>⋯</td><td>0</td><td>0</td><td>0</td><td>0</td><td>0</td><td>0</td><td>0</td><td>0</td><td>0</td><td>0</td></tr>\n",
       "\t<tr><th scope=row>FPKM.hggt_8D_3</th><td>0.5849625</td><td>1.0772430</td><td>3.010780</td><td>2.498251</td><td>3.655352</td><td>3.473787</td><td>0.7136958</td><td>1.4114262</td><td>7.257859</td><td>1.3729521</td><td>⋯</td><td>0</td><td>0</td><td>0</td><td>0</td><td>0</td><td>0</td><td>0</td><td>0</td><td>0</td><td>0</td></tr>\n",
       "\t<tr><th scope=row>FPKM.WT_8D_1</th><td>0.2387869</td><td>0.7224660</td><td>2.316146</td><td>1.735522</td><td>2.528571</td><td>2.707083</td><td>0.2986583</td><td>0.6870607</td><td>5.440952</td><td>0.7136958</td><td>⋯</td><td>0</td><td>0</td><td>0</td><td>0</td><td>0</td><td>0</td><td>0</td><td>0</td><td>0</td><td>0</td></tr>\n",
       "\t<tr><th scope=row>FPKM.WT_8D_2</th><td>0.3448285</td><td>0.7739963</td><td>1.941106</td><td>1.622930</td><td>2.347666</td><td>2.965323</td><td>0.4436067</td><td>0.8875253</td><td>6.177719</td><td>0.8718436</td><td>⋯</td><td>0</td><td>0</td><td>0</td><td>0</td><td>0</td><td>0</td><td>0</td><td>0</td><td>0</td><td>0</td></tr>\n",
       "\t<tr><th scope=row>FPKM.WT_8D_3</th><td>0.2750070</td><td>0.6229304</td><td>2.097611</td><td>1.257011</td><td>2.788686</td><td>2.017922</td><td>0.2868811</td><td>0.9927684</td><td>6.202222</td><td>0.5160151</td><td>⋯</td><td>0</td><td>0</td><td>0</td><td>0</td><td>0</td><td>0</td><td>0</td><td>0</td><td>0</td><td>0</td></tr>\n",
       "</tbody>\n",
       "</table>\n"
      ],
      "text/latex": [
       "A data.frame: 6 × 30042\n",
       "\\begin{tabular}{r|lllllllllllllllllllll}\n",
       "  & HORVU0Hr1G023200 & HORVU5Hr1G016450 & HORVU1Hr1G020590 & HORVU5Hr1G008340 & HORVU3Hr1G083680 & HORVU4Hr1G006330 & HORVU4Hr1G067550 & HORVU7Hr1G118740 & HORVU3Hr1G116550 & HORVU0Hr1G021280 & ⋯ & HORVU5Hr1G018260 & HORVU5Hr1G095020 & HORVU3Hr1G084290 & HORVU2Hr1G039040 & HORVU3Hr1G001540 & HORVU7Hr1G020610 & HORVU1Hr1G027300 & HORVU7Hr1G051530 & ENSRNA049486433 & ENSRNA049488473\\\\\n",
       "  & <dbl> & <dbl> & <dbl> & <dbl> & <dbl> & <dbl> & <dbl> & <dbl> & <dbl> & <dbl> & ⋯ & <dbl> & <dbl> & <dbl> & <dbl> & <dbl> & <dbl> & <dbl> & <dbl> & <dbl> & <dbl>\\\\\n",
       "\\hline\n",
       "\tFPKM.hggt\\_8D\\_1 & 0.5558162 & 1.3103401 & 2.899176 & 2.257011 & 3.412782 & 3.650765 & 0.6507646 & 1.4489010 & 6.746985 & 1.1176950 & ⋯ & 0 & 0 & 0 & 0 & 0 & 0 & 0 & 0 & 0 & 0\\\\\n",
       "\tFPKM.hggt\\_8D\\_2 & 0.4329594 & 1.1440464 & 2.948601 & 2.070389 & 3.226509 & 3.351911 & 0.5160151 & 1.3391374 & 6.873075 & 1.0496308 & ⋯ & 0 & 0 & 0 & 0 & 0 & 0 & 0 & 0 & 0 & 0\\\\\n",
       "\tFPKM.hggt\\_8D\\_3 & 0.5849625 & 1.0772430 & 3.010780 & 2.498251 & 3.655352 & 3.473787 & 0.7136958 & 1.4114262 & 7.257859 & 1.3729521 & ⋯ & 0 & 0 & 0 & 0 & 0 & 0 & 0 & 0 & 0 & 0\\\\\n",
       "\tFPKM.WT\\_8D\\_1 & 0.2387869 & 0.7224660 & 2.316146 & 1.735522 & 2.528571 & 2.707083 & 0.2986583 & 0.6870607 & 5.440952 & 0.7136958 & ⋯ & 0 & 0 & 0 & 0 & 0 & 0 & 0 & 0 & 0 & 0\\\\\n",
       "\tFPKM.WT\\_8D\\_2 & 0.3448285 & 0.7739963 & 1.941106 & 1.622930 & 2.347666 & 2.965323 & 0.4436067 & 0.8875253 & 6.177719 & 0.8718436 & ⋯ & 0 & 0 & 0 & 0 & 0 & 0 & 0 & 0 & 0 & 0\\\\\n",
       "\tFPKM.WT\\_8D\\_3 & 0.2750070 & 0.6229304 & 2.097611 & 1.257011 & 2.788686 & 2.017922 & 0.2868811 & 0.9927684 & 6.202222 & 0.5160151 & ⋯ & 0 & 0 & 0 & 0 & 0 & 0 & 0 & 0 & 0 & 0\\\\\n",
       "\\end{tabular}\n"
      ],
      "text/markdown": [
       "\n",
       "A data.frame: 6 × 30042\n",
       "\n",
       "| <!--/--> | HORVU0Hr1G023200 &lt;dbl&gt; | HORVU5Hr1G016450 &lt;dbl&gt; | HORVU1Hr1G020590 &lt;dbl&gt; | HORVU5Hr1G008340 &lt;dbl&gt; | HORVU3Hr1G083680 &lt;dbl&gt; | HORVU4Hr1G006330 &lt;dbl&gt; | HORVU4Hr1G067550 &lt;dbl&gt; | HORVU7Hr1G118740 &lt;dbl&gt; | HORVU3Hr1G116550 &lt;dbl&gt; | HORVU0Hr1G021280 &lt;dbl&gt; | ⋯ ⋯ | HORVU5Hr1G018260 &lt;dbl&gt; | HORVU5Hr1G095020 &lt;dbl&gt; | HORVU3Hr1G084290 &lt;dbl&gt; | HORVU2Hr1G039040 &lt;dbl&gt; | HORVU3Hr1G001540 &lt;dbl&gt; | HORVU7Hr1G020610 &lt;dbl&gt; | HORVU1Hr1G027300 &lt;dbl&gt; | HORVU7Hr1G051530 &lt;dbl&gt; | ENSRNA049486433 &lt;dbl&gt; | ENSRNA049488473 &lt;dbl&gt; |\n",
       "|---|---|---|---|---|---|---|---|---|---|---|---|---|---|---|---|---|---|---|---|---|---|\n",
       "| FPKM.hggt_8D_1 | 0.5558162 | 1.3103401 | 2.899176 | 2.257011 | 3.412782 | 3.650765 | 0.6507646 | 1.4489010 | 6.746985 | 1.1176950 | ⋯ | 0 | 0 | 0 | 0 | 0 | 0 | 0 | 0 | 0 | 0 |\n",
       "| FPKM.hggt_8D_2 | 0.4329594 | 1.1440464 | 2.948601 | 2.070389 | 3.226509 | 3.351911 | 0.5160151 | 1.3391374 | 6.873075 | 1.0496308 | ⋯ | 0 | 0 | 0 | 0 | 0 | 0 | 0 | 0 | 0 | 0 |\n",
       "| FPKM.hggt_8D_3 | 0.5849625 | 1.0772430 | 3.010780 | 2.498251 | 3.655352 | 3.473787 | 0.7136958 | 1.4114262 | 7.257859 | 1.3729521 | ⋯ | 0 | 0 | 0 | 0 | 0 | 0 | 0 | 0 | 0 | 0 |\n",
       "| FPKM.WT_8D_1 | 0.2387869 | 0.7224660 | 2.316146 | 1.735522 | 2.528571 | 2.707083 | 0.2986583 | 0.6870607 | 5.440952 | 0.7136958 | ⋯ | 0 | 0 | 0 | 0 | 0 | 0 | 0 | 0 | 0 | 0 |\n",
       "| FPKM.WT_8D_2 | 0.3448285 | 0.7739963 | 1.941106 | 1.622930 | 2.347666 | 2.965323 | 0.4436067 | 0.8875253 | 6.177719 | 0.8718436 | ⋯ | 0 | 0 | 0 | 0 | 0 | 0 | 0 | 0 | 0 | 0 |\n",
       "| FPKM.WT_8D_3 | 0.2750070 | 0.6229304 | 2.097611 | 1.257011 | 2.788686 | 2.017922 | 0.2868811 | 0.9927684 | 6.202222 | 0.5160151 | ⋯ | 0 | 0 | 0 | 0 | 0 | 0 | 0 | 0 | 0 | 0 |\n",
       "\n"
      ],
      "text/plain": [
       "               HORVU0Hr1G023200 HORVU5Hr1G016450 HORVU1Hr1G020590\n",
       "FPKM.hggt_8D_1 0.5558162        1.3103401        2.899176        \n",
       "FPKM.hggt_8D_2 0.4329594        1.1440464        2.948601        \n",
       "FPKM.hggt_8D_3 0.5849625        1.0772430        3.010780        \n",
       "FPKM.WT_8D_1   0.2387869        0.7224660        2.316146        \n",
       "FPKM.WT_8D_2   0.3448285        0.7739963        1.941106        \n",
       "FPKM.WT_8D_3   0.2750070        0.6229304        2.097611        \n",
       "               HORVU5Hr1G008340 HORVU3Hr1G083680 HORVU4Hr1G006330\n",
       "FPKM.hggt_8D_1 2.257011         3.412782         3.650765        \n",
       "FPKM.hggt_8D_2 2.070389         3.226509         3.351911        \n",
       "FPKM.hggt_8D_3 2.498251         3.655352         3.473787        \n",
       "FPKM.WT_8D_1   1.735522         2.528571         2.707083        \n",
       "FPKM.WT_8D_2   1.622930         2.347666         2.965323        \n",
       "FPKM.WT_8D_3   1.257011         2.788686         2.017922        \n",
       "               HORVU4Hr1G067550 HORVU7Hr1G118740 HORVU3Hr1G116550\n",
       "FPKM.hggt_8D_1 0.6507646        1.4489010        6.746985        \n",
       "FPKM.hggt_8D_2 0.5160151        1.3391374        6.873075        \n",
       "FPKM.hggt_8D_3 0.7136958        1.4114262        7.257859        \n",
       "FPKM.WT_8D_1   0.2986583        0.6870607        5.440952        \n",
       "FPKM.WT_8D_2   0.4436067        0.8875253        6.177719        \n",
       "FPKM.WT_8D_3   0.2868811        0.9927684        6.202222        \n",
       "               HORVU0Hr1G021280 ⋯ HORVU5Hr1G018260 HORVU5Hr1G095020\n",
       "FPKM.hggt_8D_1 1.1176950        ⋯ 0                0               \n",
       "FPKM.hggt_8D_2 1.0496308        ⋯ 0                0               \n",
       "FPKM.hggt_8D_3 1.3729521        ⋯ 0                0               \n",
       "FPKM.WT_8D_1   0.7136958        ⋯ 0                0               \n",
       "FPKM.WT_8D_2   0.8718436        ⋯ 0                0               \n",
       "FPKM.WT_8D_3   0.5160151        ⋯ 0                0               \n",
       "               HORVU3Hr1G084290 HORVU2Hr1G039040 HORVU3Hr1G001540\n",
       "FPKM.hggt_8D_1 0                0                0               \n",
       "FPKM.hggt_8D_2 0                0                0               \n",
       "FPKM.hggt_8D_3 0                0                0               \n",
       "FPKM.WT_8D_1   0                0                0               \n",
       "FPKM.WT_8D_2   0                0                0               \n",
       "FPKM.WT_8D_3   0                0                0               \n",
       "               HORVU7Hr1G020610 HORVU1Hr1G027300 HORVU7Hr1G051530\n",
       "FPKM.hggt_8D_1 0                0                0               \n",
       "FPKM.hggt_8D_2 0                0                0               \n",
       "FPKM.hggt_8D_3 0                0                0               \n",
       "FPKM.WT_8D_1   0                0                0               \n",
       "FPKM.WT_8D_2   0                0                0               \n",
       "FPKM.WT_8D_3   0                0                0               \n",
       "               ENSRNA049486433 ENSRNA049488473\n",
       "FPKM.hggt_8D_1 0               0              \n",
       "FPKM.hggt_8D_2 0               0              \n",
       "FPKM.hggt_8D_3 0               0              \n",
       "FPKM.WT_8D_1   0               0              \n",
       "FPKM.WT_8D_2   0               0              \n",
       "FPKM.WT_8D_3   0               0              "
      ]
     },
     "metadata": {},
     "output_type": "display_data"
    }
   ],
   "source": [
    "head(datExpr)"
   ]
  },
  {
   "cell_type": "code",
   "execution_count": 24,
   "id": "1d88cbc6-a8a4-4171-a555-79b5ce3d4986",
   "metadata": {},
   "outputs": [
    {
     "data": {
      "text/html": [
       "<table class=\"dataframe\">\n",
       "<caption>A data.frame: 6 × 42</caption>\n",
       "<thead>\n",
       "\t<tr><th></th><th scope=col>MEhoneydew1</th><th scope=col>MEdarkorange2</th><th scope=col>MEtan</th><th scope=col>MEroyalblue</th><th scope=col>MElightpink4</th><th scope=col>MElightyellow</th><th scope=col>MEthistle2</th><th scope=col>MEnavajowhite2</th><th scope=col>MElightsteelblue1</th><th scope=col>MEivory</th><th scope=col>⋯</th><th scope=col>MEyellowgreen</th><th scope=col>MEbisque4</th><th scope=col>MEdarkslateblue</th><th scope=col>MEmagenta</th><th scope=col>MEsalmon4</th><th scope=col>MEdarkturquoise</th><th scope=col>MEplum1</th><th scope=col>MEblue</th><th scope=col>MElightcyan1</th><th scope=col>MEgrey</th></tr>\n",
       "\t<tr><th></th><th scope=col>&lt;dbl&gt;</th><th scope=col>&lt;dbl&gt;</th><th scope=col>&lt;dbl&gt;</th><th scope=col>&lt;dbl&gt;</th><th scope=col>&lt;dbl&gt;</th><th scope=col>&lt;dbl&gt;</th><th scope=col>&lt;dbl&gt;</th><th scope=col>&lt;dbl&gt;</th><th scope=col>&lt;dbl&gt;</th><th scope=col>&lt;dbl&gt;</th><th scope=col>⋯</th><th scope=col>&lt;dbl&gt;</th><th scope=col>&lt;dbl&gt;</th><th scope=col>&lt;dbl&gt;</th><th scope=col>&lt;dbl&gt;</th><th scope=col>&lt;dbl&gt;</th><th scope=col>&lt;dbl&gt;</th><th scope=col>&lt;dbl&gt;</th><th scope=col>&lt;dbl&gt;</th><th scope=col>&lt;dbl&gt;</th><th scope=col>&lt;dbl&gt;</th></tr>\n",
       "</thead>\n",
       "<tbody>\n",
       "\t<tr><th scope=row>FPKM.hggt_8D_1</th><td>-0.13043387</td><td>-0.03324184</td><td>-0.09457135</td><td>-0.05639717</td><td>-0.16039214</td><td>-0.08280807</td><td>-0.15670748</td><td>-0.008683186</td><td> 0.1200325</td><td> 0.62134783</td><td>⋯</td><td>-0.1137639</td><td>-0.08437797</td><td>-0.13311157</td><td>-0.04982373</td><td>-0.17551731</td><td> 0.006839084</td><td>-0.07234195</td><td>0.2990255</td><td>-0.080383686</td><td>-0.26010815</td></tr>\n",
       "\t<tr><th scope=row>FPKM.hggt_8D_2</th><td>-0.15390135</td><td>-0.07086854</td><td>-0.10768525</td><td>-0.06860973</td><td>-0.11909949</td><td>-0.05626134</td><td>-0.10638435</td><td> 0.630752277</td><td>-0.1163546</td><td>-0.02759251</td><td>⋯</td><td>-0.1034695</td><td> 0.65811592</td><td>-0.16252353</td><td>-0.08404669</td><td>-0.12637860</td><td>-0.076633139</td><td>-0.08892048</td><td>0.2477534</td><td>-0.113788832</td><td>-0.11035786</td></tr>\n",
       "\t<tr><th scope=row>FPKM.hggt_8D_3</th><td>-0.09342267</td><td>-0.08550701</td><td>-0.10715703</td><td>-0.07474500</td><td>-0.12716570</td><td>-0.04538101</td><td>-0.11947042</td><td>-0.026777788</td><td> 0.6032733</td><td>-0.07622196</td><td>⋯</td><td>-0.1115181</td><td>-0.05882097</td><td>-0.14387934</td><td>-0.07795891</td><td>-0.11318147</td><td>-0.073803015</td><td>-0.13635188</td><td>0.3205319</td><td> 0.649290168</td><td>-0.06962312</td></tr>\n",
       "\t<tr><th scope=row>FPKM.WT_8D_1</th><td>-0.21213068</td><td>-0.15199478</td><td>-0.07062000</td><td>-0.11365678</td><td> 0.62715575</td><td>-0.10609505</td><td>-0.12533829</td><td>-0.112290986</td><td>-0.1783155</td><td>-0.15178742</td><td>⋯</td><td>-0.1231384</td><td> 0.62325925</td><td> 0.66467225</td><td> 0.95504976</td><td> 0.65568808</td><td> 0.507011067</td><td> 0.66989345</td><td>0.2715123</td><td> 0.625668968</td><td>-0.26375309</td></tr>\n",
       "\t<tr><th scope=row>FPKM.WT_8D_2</th><td>-0.08782075</td><td>-0.11964944</td><td>-0.08212864</td><td>-0.10111613</td><td>-0.11660066</td><td>-0.08512520</td><td>-0.09045262</td><td>-0.137188032</td><td>-0.1133399</td><td>-0.13587866</td><td>⋯</td><td> 0.6279972</td><td>-0.16622378</td><td>-0.02588607</td><td>-0.05526366</td><td>-0.08836531</td><td> 0.487550104</td><td>-0.10945723</td><td>0.2664739</td><td>-0.152363854</td><td> 0.13097596</td></tr>\n",
       "\t<tr><th scope=row>FPKM.WT_8D_3</th><td>-0.14883905</td><td>-0.11353533</td><td>-0.07440656</td><td>-0.11156412</td><td>-0.08539834</td><td>-0.07304461</td><td>-0.06157311</td><td>-0.121801432</td><td>-0.1825252</td><td>-0.16387527</td><td>⋯</td><td> 0.6605245</td><td>-0.10198375</td><td>-0.07950450</td><td>-0.06981093</td><td>-0.12135612</td><td> 0.394574340</td><td> 0.61492104</td><td>0.2016040</td><td>-0.007662487</td><td> 0.25019165</td></tr>\n",
       "</tbody>\n",
       "</table>\n"
      ],
      "text/latex": [
       "A data.frame: 6 × 42\n",
       "\\begin{tabular}{r|lllllllllllllllllllll}\n",
       "  & MEhoneydew1 & MEdarkorange2 & MEtan & MEroyalblue & MElightpink4 & MElightyellow & MEthistle2 & MEnavajowhite2 & MElightsteelblue1 & MEivory & ⋯ & MEyellowgreen & MEbisque4 & MEdarkslateblue & MEmagenta & MEsalmon4 & MEdarkturquoise & MEplum1 & MEblue & MElightcyan1 & MEgrey\\\\\n",
       "  & <dbl> & <dbl> & <dbl> & <dbl> & <dbl> & <dbl> & <dbl> & <dbl> & <dbl> & <dbl> & ⋯ & <dbl> & <dbl> & <dbl> & <dbl> & <dbl> & <dbl> & <dbl> & <dbl> & <dbl> & <dbl>\\\\\n",
       "\\hline\n",
       "\tFPKM.hggt\\_8D\\_1 & -0.13043387 & -0.03324184 & -0.09457135 & -0.05639717 & -0.16039214 & -0.08280807 & -0.15670748 & -0.008683186 &  0.1200325 &  0.62134783 & ⋯ & -0.1137639 & -0.08437797 & -0.13311157 & -0.04982373 & -0.17551731 &  0.006839084 & -0.07234195 & 0.2990255 & -0.080383686 & -0.26010815\\\\\n",
       "\tFPKM.hggt\\_8D\\_2 & -0.15390135 & -0.07086854 & -0.10768525 & -0.06860973 & -0.11909949 & -0.05626134 & -0.10638435 &  0.630752277 & -0.1163546 & -0.02759251 & ⋯ & -0.1034695 &  0.65811592 & -0.16252353 & -0.08404669 & -0.12637860 & -0.076633139 & -0.08892048 & 0.2477534 & -0.113788832 & -0.11035786\\\\\n",
       "\tFPKM.hggt\\_8D\\_3 & -0.09342267 & -0.08550701 & -0.10715703 & -0.07474500 & -0.12716570 & -0.04538101 & -0.11947042 & -0.026777788 &  0.6032733 & -0.07622196 & ⋯ & -0.1115181 & -0.05882097 & -0.14387934 & -0.07795891 & -0.11318147 & -0.073803015 & -0.13635188 & 0.3205319 &  0.649290168 & -0.06962312\\\\\n",
       "\tFPKM.WT\\_8D\\_1 & -0.21213068 & -0.15199478 & -0.07062000 & -0.11365678 &  0.62715575 & -0.10609505 & -0.12533829 & -0.112290986 & -0.1783155 & -0.15178742 & ⋯ & -0.1231384 &  0.62325925 &  0.66467225 &  0.95504976 &  0.65568808 &  0.507011067 &  0.66989345 & 0.2715123 &  0.625668968 & -0.26375309\\\\\n",
       "\tFPKM.WT\\_8D\\_2 & -0.08782075 & -0.11964944 & -0.08212864 & -0.10111613 & -0.11660066 & -0.08512520 & -0.09045262 & -0.137188032 & -0.1133399 & -0.13587866 & ⋯ &  0.6279972 & -0.16622378 & -0.02588607 & -0.05526366 & -0.08836531 &  0.487550104 & -0.10945723 & 0.2664739 & -0.152363854 &  0.13097596\\\\\n",
       "\tFPKM.WT\\_8D\\_3 & -0.14883905 & -0.11353533 & -0.07440656 & -0.11156412 & -0.08539834 & -0.07304461 & -0.06157311 & -0.121801432 & -0.1825252 & -0.16387527 & ⋯ &  0.6605245 & -0.10198375 & -0.07950450 & -0.06981093 & -0.12135612 &  0.394574340 &  0.61492104 & 0.2016040 & -0.007662487 &  0.25019165\\\\\n",
       "\\end{tabular}\n"
      ],
      "text/markdown": [
       "\n",
       "A data.frame: 6 × 42\n",
       "\n",
       "| <!--/--> | MEhoneydew1 &lt;dbl&gt; | MEdarkorange2 &lt;dbl&gt; | MEtan &lt;dbl&gt; | MEroyalblue &lt;dbl&gt; | MElightpink4 &lt;dbl&gt; | MElightyellow &lt;dbl&gt; | MEthistle2 &lt;dbl&gt; | MEnavajowhite2 &lt;dbl&gt; | MElightsteelblue1 &lt;dbl&gt; | MEivory &lt;dbl&gt; | ⋯ ⋯ | MEyellowgreen &lt;dbl&gt; | MEbisque4 &lt;dbl&gt; | MEdarkslateblue &lt;dbl&gt; | MEmagenta &lt;dbl&gt; | MEsalmon4 &lt;dbl&gt; | MEdarkturquoise &lt;dbl&gt; | MEplum1 &lt;dbl&gt; | MEblue &lt;dbl&gt; | MElightcyan1 &lt;dbl&gt; | MEgrey &lt;dbl&gt; |\n",
       "|---|---|---|---|---|---|---|---|---|---|---|---|---|---|---|---|---|---|---|---|---|---|\n",
       "| FPKM.hggt_8D_1 | -0.13043387 | -0.03324184 | -0.09457135 | -0.05639717 | -0.16039214 | -0.08280807 | -0.15670748 | -0.008683186 |  0.1200325 |  0.62134783 | ⋯ | -0.1137639 | -0.08437797 | -0.13311157 | -0.04982373 | -0.17551731 |  0.006839084 | -0.07234195 | 0.2990255 | -0.080383686 | -0.26010815 |\n",
       "| FPKM.hggt_8D_2 | -0.15390135 | -0.07086854 | -0.10768525 | -0.06860973 | -0.11909949 | -0.05626134 | -0.10638435 |  0.630752277 | -0.1163546 | -0.02759251 | ⋯ | -0.1034695 |  0.65811592 | -0.16252353 | -0.08404669 | -0.12637860 | -0.076633139 | -0.08892048 | 0.2477534 | -0.113788832 | -0.11035786 |\n",
       "| FPKM.hggt_8D_3 | -0.09342267 | -0.08550701 | -0.10715703 | -0.07474500 | -0.12716570 | -0.04538101 | -0.11947042 | -0.026777788 |  0.6032733 | -0.07622196 | ⋯ | -0.1115181 | -0.05882097 | -0.14387934 | -0.07795891 | -0.11318147 | -0.073803015 | -0.13635188 | 0.3205319 |  0.649290168 | -0.06962312 |\n",
       "| FPKM.WT_8D_1 | -0.21213068 | -0.15199478 | -0.07062000 | -0.11365678 |  0.62715575 | -0.10609505 | -0.12533829 | -0.112290986 | -0.1783155 | -0.15178742 | ⋯ | -0.1231384 |  0.62325925 |  0.66467225 |  0.95504976 |  0.65568808 |  0.507011067 |  0.66989345 | 0.2715123 |  0.625668968 | -0.26375309 |\n",
       "| FPKM.WT_8D_2 | -0.08782075 | -0.11964944 | -0.08212864 | -0.10111613 | -0.11660066 | -0.08512520 | -0.09045262 | -0.137188032 | -0.1133399 | -0.13587866 | ⋯ |  0.6279972 | -0.16622378 | -0.02588607 | -0.05526366 | -0.08836531 |  0.487550104 | -0.10945723 | 0.2664739 | -0.152363854 |  0.13097596 |\n",
       "| FPKM.WT_8D_3 | -0.14883905 | -0.11353533 | -0.07440656 | -0.11156412 | -0.08539834 | -0.07304461 | -0.06157311 | -0.121801432 | -0.1825252 | -0.16387527 | ⋯ |  0.6605245 | -0.10198375 | -0.07950450 | -0.06981093 | -0.12135612 |  0.394574340 |  0.61492104 | 0.2016040 | -0.007662487 |  0.25019165 |\n",
       "\n"
      ],
      "text/plain": [
       "               MEhoneydew1 MEdarkorange2 MEtan       MEroyalblue MElightpink4\n",
       "FPKM.hggt_8D_1 -0.13043387 -0.03324184   -0.09457135 -0.05639717 -0.16039214 \n",
       "FPKM.hggt_8D_2 -0.15390135 -0.07086854   -0.10768525 -0.06860973 -0.11909949 \n",
       "FPKM.hggt_8D_3 -0.09342267 -0.08550701   -0.10715703 -0.07474500 -0.12716570 \n",
       "FPKM.WT_8D_1   -0.21213068 -0.15199478   -0.07062000 -0.11365678  0.62715575 \n",
       "FPKM.WT_8D_2   -0.08782075 -0.11964944   -0.08212864 -0.10111613 -0.11660066 \n",
       "FPKM.WT_8D_3   -0.14883905 -0.11353533   -0.07440656 -0.11156412 -0.08539834 \n",
       "               MElightyellow MEthistle2  MEnavajowhite2 MElightsteelblue1\n",
       "FPKM.hggt_8D_1 -0.08280807   -0.15670748 -0.008683186    0.1200325       \n",
       "FPKM.hggt_8D_2 -0.05626134   -0.10638435  0.630752277   -0.1163546       \n",
       "FPKM.hggt_8D_3 -0.04538101   -0.11947042 -0.026777788    0.6032733       \n",
       "FPKM.WT_8D_1   -0.10609505   -0.12533829 -0.112290986   -0.1783155       \n",
       "FPKM.WT_8D_2   -0.08512520   -0.09045262 -0.137188032   -0.1133399       \n",
       "FPKM.WT_8D_3   -0.07304461   -0.06157311 -0.121801432   -0.1825252       \n",
       "               MEivory     ⋯ MEyellowgreen MEbisque4   MEdarkslateblue\n",
       "FPKM.hggt_8D_1  0.62134783 ⋯ -0.1137639    -0.08437797 -0.13311157    \n",
       "FPKM.hggt_8D_2 -0.02759251 ⋯ -0.1034695     0.65811592 -0.16252353    \n",
       "FPKM.hggt_8D_3 -0.07622196 ⋯ -0.1115181    -0.05882097 -0.14387934    \n",
       "FPKM.WT_8D_1   -0.15178742 ⋯ -0.1231384     0.62325925  0.66467225    \n",
       "FPKM.WT_8D_2   -0.13587866 ⋯  0.6279972    -0.16622378 -0.02588607    \n",
       "FPKM.WT_8D_3   -0.16387527 ⋯  0.6605245    -0.10198375 -0.07950450    \n",
       "               MEmagenta   MEsalmon4   MEdarkturquoise MEplum1     MEblue   \n",
       "FPKM.hggt_8D_1 -0.04982373 -0.17551731  0.006839084    -0.07234195 0.2990255\n",
       "FPKM.hggt_8D_2 -0.08404669 -0.12637860 -0.076633139    -0.08892048 0.2477534\n",
       "FPKM.hggt_8D_3 -0.07795891 -0.11318147 -0.073803015    -0.13635188 0.3205319\n",
       "FPKM.WT_8D_1    0.95504976  0.65568808  0.507011067     0.66989345 0.2715123\n",
       "FPKM.WT_8D_2   -0.05526366 -0.08836531  0.487550104    -0.10945723 0.2664739\n",
       "FPKM.WT_8D_3   -0.06981093 -0.12135612  0.394574340     0.61492104 0.2016040\n",
       "               MElightcyan1 MEgrey     \n",
       "FPKM.hggt_8D_1 -0.080383686 -0.26010815\n",
       "FPKM.hggt_8D_2 -0.113788832 -0.11035786\n",
       "FPKM.hggt_8D_3  0.649290168 -0.06962312\n",
       "FPKM.WT_8D_1    0.625668968 -0.26375309\n",
       "FPKM.WT_8D_2   -0.152363854  0.13097596\n",
       "FPKM.WT_8D_3   -0.007662487  0.25019165"
      ]
     },
     "metadata": {},
     "output_type": "display_data"
    }
   ],
   "source": [
    "head(merge$newMEs)"
   ]
  },
  {
   "cell_type": "code",
   "execution_count": 25,
   "id": "0fbb0d24-68ad-4bee-8f5a-651f73854504",
   "metadata": {},
   "outputs": [
    {
     "data": {
      "text/html": [
       "<table class=\"dataframe\">\n",
       "<caption>A data.frame: 6 × 30042</caption>\n",
       "<thead>\n",
       "\t<tr><th></th><th scope=col>HORVU0Hr1G023200</th><th scope=col>HORVU5Hr1G016450</th><th scope=col>HORVU1Hr1G020590</th><th scope=col>HORVU5Hr1G008340</th><th scope=col>HORVU3Hr1G083680</th><th scope=col>HORVU4Hr1G006330</th><th scope=col>HORVU4Hr1G067550</th><th scope=col>HORVU7Hr1G118740</th><th scope=col>HORVU3Hr1G116550</th><th scope=col>HORVU0Hr1G021280</th><th scope=col>⋯</th><th scope=col>HORVU5Hr1G018260</th><th scope=col>HORVU5Hr1G095020</th><th scope=col>HORVU3Hr1G084290</th><th scope=col>HORVU2Hr1G039040</th><th scope=col>HORVU3Hr1G001540</th><th scope=col>HORVU7Hr1G020610</th><th scope=col>HORVU1Hr1G027300</th><th scope=col>HORVU7Hr1G051530</th><th scope=col>ENSRNA049486433</th><th scope=col>ENSRNA049488473</th></tr>\n",
       "\t<tr><th></th><th scope=col>&lt;dbl&gt;</th><th scope=col>&lt;dbl&gt;</th><th scope=col>&lt;dbl&gt;</th><th scope=col>&lt;dbl&gt;</th><th scope=col>&lt;dbl&gt;</th><th scope=col>&lt;dbl&gt;</th><th scope=col>&lt;dbl&gt;</th><th scope=col>&lt;dbl&gt;</th><th scope=col>&lt;dbl&gt;</th><th scope=col>&lt;dbl&gt;</th><th scope=col>⋯</th><th scope=col>&lt;dbl&gt;</th><th scope=col>&lt;dbl&gt;</th><th scope=col>&lt;dbl&gt;</th><th scope=col>&lt;dbl&gt;</th><th scope=col>&lt;dbl&gt;</th><th scope=col>&lt;dbl&gt;</th><th scope=col>&lt;dbl&gt;</th><th scope=col>&lt;dbl&gt;</th><th scope=col>&lt;dbl&gt;</th><th scope=col>&lt;dbl&gt;</th></tr>\n",
       "</thead>\n",
       "<tbody>\n",
       "\t<tr><th scope=row>FPKM.hggt_8D_1</th><td>0.5558162</td><td>1.3103401</td><td>2.899176</td><td>2.257011</td><td>3.412782</td><td>3.650765</td><td>0.6507646</td><td>1.4489010</td><td>6.746985</td><td>1.1176950</td><td>⋯</td><td>0</td><td>0</td><td>0</td><td>0</td><td>0</td><td>0</td><td>0</td><td>0</td><td>0</td><td>0</td></tr>\n",
       "\t<tr><th scope=row>FPKM.hggt_8D_2</th><td>0.4329594</td><td>1.1440464</td><td>2.948601</td><td>2.070389</td><td>3.226509</td><td>3.351911</td><td>0.5160151</td><td>1.3391374</td><td>6.873075</td><td>1.0496308</td><td>⋯</td><td>0</td><td>0</td><td>0</td><td>0</td><td>0</td><td>0</td><td>0</td><td>0</td><td>0</td><td>0</td></tr>\n",
       "\t<tr><th scope=row>FPKM.hggt_8D_3</th><td>0.5849625</td><td>1.0772430</td><td>3.010780</td><td>2.498251</td><td>3.655352</td><td>3.473787</td><td>0.7136958</td><td>1.4114262</td><td>7.257859</td><td>1.3729521</td><td>⋯</td><td>0</td><td>0</td><td>0</td><td>0</td><td>0</td><td>0</td><td>0</td><td>0</td><td>0</td><td>0</td></tr>\n",
       "\t<tr><th scope=row>FPKM.WT_8D_1</th><td>0.2387869</td><td>0.7224660</td><td>2.316146</td><td>1.735522</td><td>2.528571</td><td>2.707083</td><td>0.2986583</td><td>0.6870607</td><td>5.440952</td><td>0.7136958</td><td>⋯</td><td>0</td><td>0</td><td>0</td><td>0</td><td>0</td><td>0</td><td>0</td><td>0</td><td>0</td><td>0</td></tr>\n",
       "\t<tr><th scope=row>FPKM.WT_8D_2</th><td>0.3448285</td><td>0.7739963</td><td>1.941106</td><td>1.622930</td><td>2.347666</td><td>2.965323</td><td>0.4436067</td><td>0.8875253</td><td>6.177719</td><td>0.8718436</td><td>⋯</td><td>0</td><td>0</td><td>0</td><td>0</td><td>0</td><td>0</td><td>0</td><td>0</td><td>0</td><td>0</td></tr>\n",
       "\t<tr><th scope=row>FPKM.WT_8D_3</th><td>0.2750070</td><td>0.6229304</td><td>2.097611</td><td>1.257011</td><td>2.788686</td><td>2.017922</td><td>0.2868811</td><td>0.9927684</td><td>6.202222</td><td>0.5160151</td><td>⋯</td><td>0</td><td>0</td><td>0</td><td>0</td><td>0</td><td>0</td><td>0</td><td>0</td><td>0</td><td>0</td></tr>\n",
       "</tbody>\n",
       "</table>\n"
      ],
      "text/latex": [
       "A data.frame: 6 × 30042\n",
       "\\begin{tabular}{r|lllllllllllllllllllll}\n",
       "  & HORVU0Hr1G023200 & HORVU5Hr1G016450 & HORVU1Hr1G020590 & HORVU5Hr1G008340 & HORVU3Hr1G083680 & HORVU4Hr1G006330 & HORVU4Hr1G067550 & HORVU7Hr1G118740 & HORVU3Hr1G116550 & HORVU0Hr1G021280 & ⋯ & HORVU5Hr1G018260 & HORVU5Hr1G095020 & HORVU3Hr1G084290 & HORVU2Hr1G039040 & HORVU3Hr1G001540 & HORVU7Hr1G020610 & HORVU1Hr1G027300 & HORVU7Hr1G051530 & ENSRNA049486433 & ENSRNA049488473\\\\\n",
       "  & <dbl> & <dbl> & <dbl> & <dbl> & <dbl> & <dbl> & <dbl> & <dbl> & <dbl> & <dbl> & ⋯ & <dbl> & <dbl> & <dbl> & <dbl> & <dbl> & <dbl> & <dbl> & <dbl> & <dbl> & <dbl>\\\\\n",
       "\\hline\n",
       "\tFPKM.hggt\\_8D\\_1 & 0.5558162 & 1.3103401 & 2.899176 & 2.257011 & 3.412782 & 3.650765 & 0.6507646 & 1.4489010 & 6.746985 & 1.1176950 & ⋯ & 0 & 0 & 0 & 0 & 0 & 0 & 0 & 0 & 0 & 0\\\\\n",
       "\tFPKM.hggt\\_8D\\_2 & 0.4329594 & 1.1440464 & 2.948601 & 2.070389 & 3.226509 & 3.351911 & 0.5160151 & 1.3391374 & 6.873075 & 1.0496308 & ⋯ & 0 & 0 & 0 & 0 & 0 & 0 & 0 & 0 & 0 & 0\\\\\n",
       "\tFPKM.hggt\\_8D\\_3 & 0.5849625 & 1.0772430 & 3.010780 & 2.498251 & 3.655352 & 3.473787 & 0.7136958 & 1.4114262 & 7.257859 & 1.3729521 & ⋯ & 0 & 0 & 0 & 0 & 0 & 0 & 0 & 0 & 0 & 0\\\\\n",
       "\tFPKM.WT\\_8D\\_1 & 0.2387869 & 0.7224660 & 2.316146 & 1.735522 & 2.528571 & 2.707083 & 0.2986583 & 0.6870607 & 5.440952 & 0.7136958 & ⋯ & 0 & 0 & 0 & 0 & 0 & 0 & 0 & 0 & 0 & 0\\\\\n",
       "\tFPKM.WT\\_8D\\_2 & 0.3448285 & 0.7739963 & 1.941106 & 1.622930 & 2.347666 & 2.965323 & 0.4436067 & 0.8875253 & 6.177719 & 0.8718436 & ⋯ & 0 & 0 & 0 & 0 & 0 & 0 & 0 & 0 & 0 & 0\\\\\n",
       "\tFPKM.WT\\_8D\\_3 & 0.2750070 & 0.6229304 & 2.097611 & 1.257011 & 2.788686 & 2.017922 & 0.2868811 & 0.9927684 & 6.202222 & 0.5160151 & ⋯ & 0 & 0 & 0 & 0 & 0 & 0 & 0 & 0 & 0 & 0\\\\\n",
       "\\end{tabular}\n"
      ],
      "text/markdown": [
       "\n",
       "A data.frame: 6 × 30042\n",
       "\n",
       "| <!--/--> | HORVU0Hr1G023200 &lt;dbl&gt; | HORVU5Hr1G016450 &lt;dbl&gt; | HORVU1Hr1G020590 &lt;dbl&gt; | HORVU5Hr1G008340 &lt;dbl&gt; | HORVU3Hr1G083680 &lt;dbl&gt; | HORVU4Hr1G006330 &lt;dbl&gt; | HORVU4Hr1G067550 &lt;dbl&gt; | HORVU7Hr1G118740 &lt;dbl&gt; | HORVU3Hr1G116550 &lt;dbl&gt; | HORVU0Hr1G021280 &lt;dbl&gt; | ⋯ ⋯ | HORVU5Hr1G018260 &lt;dbl&gt; | HORVU5Hr1G095020 &lt;dbl&gt; | HORVU3Hr1G084290 &lt;dbl&gt; | HORVU2Hr1G039040 &lt;dbl&gt; | HORVU3Hr1G001540 &lt;dbl&gt; | HORVU7Hr1G020610 &lt;dbl&gt; | HORVU1Hr1G027300 &lt;dbl&gt; | HORVU7Hr1G051530 &lt;dbl&gt; | ENSRNA049486433 &lt;dbl&gt; | ENSRNA049488473 &lt;dbl&gt; |\n",
       "|---|---|---|---|---|---|---|---|---|---|---|---|---|---|---|---|---|---|---|---|---|---|\n",
       "| FPKM.hggt_8D_1 | 0.5558162 | 1.3103401 | 2.899176 | 2.257011 | 3.412782 | 3.650765 | 0.6507646 | 1.4489010 | 6.746985 | 1.1176950 | ⋯ | 0 | 0 | 0 | 0 | 0 | 0 | 0 | 0 | 0 | 0 |\n",
       "| FPKM.hggt_8D_2 | 0.4329594 | 1.1440464 | 2.948601 | 2.070389 | 3.226509 | 3.351911 | 0.5160151 | 1.3391374 | 6.873075 | 1.0496308 | ⋯ | 0 | 0 | 0 | 0 | 0 | 0 | 0 | 0 | 0 | 0 |\n",
       "| FPKM.hggt_8D_3 | 0.5849625 | 1.0772430 | 3.010780 | 2.498251 | 3.655352 | 3.473787 | 0.7136958 | 1.4114262 | 7.257859 | 1.3729521 | ⋯ | 0 | 0 | 0 | 0 | 0 | 0 | 0 | 0 | 0 | 0 |\n",
       "| FPKM.WT_8D_1 | 0.2387869 | 0.7224660 | 2.316146 | 1.735522 | 2.528571 | 2.707083 | 0.2986583 | 0.6870607 | 5.440952 | 0.7136958 | ⋯ | 0 | 0 | 0 | 0 | 0 | 0 | 0 | 0 | 0 | 0 |\n",
       "| FPKM.WT_8D_2 | 0.3448285 | 0.7739963 | 1.941106 | 1.622930 | 2.347666 | 2.965323 | 0.4436067 | 0.8875253 | 6.177719 | 0.8718436 | ⋯ | 0 | 0 | 0 | 0 | 0 | 0 | 0 | 0 | 0 | 0 |\n",
       "| FPKM.WT_8D_3 | 0.2750070 | 0.6229304 | 2.097611 | 1.257011 | 2.788686 | 2.017922 | 0.2868811 | 0.9927684 | 6.202222 | 0.5160151 | ⋯ | 0 | 0 | 0 | 0 | 0 | 0 | 0 | 0 | 0 | 0 |\n",
       "\n"
      ],
      "text/plain": [
       "               HORVU0Hr1G023200 HORVU5Hr1G016450 HORVU1Hr1G020590\n",
       "FPKM.hggt_8D_1 0.5558162        1.3103401        2.899176        \n",
       "FPKM.hggt_8D_2 0.4329594        1.1440464        2.948601        \n",
       "FPKM.hggt_8D_3 0.5849625        1.0772430        3.010780        \n",
       "FPKM.WT_8D_1   0.2387869        0.7224660        2.316146        \n",
       "FPKM.WT_8D_2   0.3448285        0.7739963        1.941106        \n",
       "FPKM.WT_8D_3   0.2750070        0.6229304        2.097611        \n",
       "               HORVU5Hr1G008340 HORVU3Hr1G083680 HORVU4Hr1G006330\n",
       "FPKM.hggt_8D_1 2.257011         3.412782         3.650765        \n",
       "FPKM.hggt_8D_2 2.070389         3.226509         3.351911        \n",
       "FPKM.hggt_8D_3 2.498251         3.655352         3.473787        \n",
       "FPKM.WT_8D_1   1.735522         2.528571         2.707083        \n",
       "FPKM.WT_8D_2   1.622930         2.347666         2.965323        \n",
       "FPKM.WT_8D_3   1.257011         2.788686         2.017922        \n",
       "               HORVU4Hr1G067550 HORVU7Hr1G118740 HORVU3Hr1G116550\n",
       "FPKM.hggt_8D_1 0.6507646        1.4489010        6.746985        \n",
       "FPKM.hggt_8D_2 0.5160151        1.3391374        6.873075        \n",
       "FPKM.hggt_8D_3 0.7136958        1.4114262        7.257859        \n",
       "FPKM.WT_8D_1   0.2986583        0.6870607        5.440952        \n",
       "FPKM.WT_8D_2   0.4436067        0.8875253        6.177719        \n",
       "FPKM.WT_8D_3   0.2868811        0.9927684        6.202222        \n",
       "               HORVU0Hr1G021280 ⋯ HORVU5Hr1G018260 HORVU5Hr1G095020\n",
       "FPKM.hggt_8D_1 1.1176950        ⋯ 0                0               \n",
       "FPKM.hggt_8D_2 1.0496308        ⋯ 0                0               \n",
       "FPKM.hggt_8D_3 1.3729521        ⋯ 0                0               \n",
       "FPKM.WT_8D_1   0.7136958        ⋯ 0                0               \n",
       "FPKM.WT_8D_2   0.8718436        ⋯ 0                0               \n",
       "FPKM.WT_8D_3   0.5160151        ⋯ 0                0               \n",
       "               HORVU3Hr1G084290 HORVU2Hr1G039040 HORVU3Hr1G001540\n",
       "FPKM.hggt_8D_1 0                0                0               \n",
       "FPKM.hggt_8D_2 0                0                0               \n",
       "FPKM.hggt_8D_3 0                0                0               \n",
       "FPKM.WT_8D_1   0                0                0               \n",
       "FPKM.WT_8D_2   0                0                0               \n",
       "FPKM.WT_8D_3   0                0                0               \n",
       "               HORVU7Hr1G020610 HORVU1Hr1G027300 HORVU7Hr1G051530\n",
       "FPKM.hggt_8D_1 0                0                0               \n",
       "FPKM.hggt_8D_2 0                0                0               \n",
       "FPKM.hggt_8D_3 0                0                0               \n",
       "FPKM.WT_8D_1   0                0                0               \n",
       "FPKM.WT_8D_2   0                0                0               \n",
       "FPKM.WT_8D_3   0                0                0               \n",
       "               ENSRNA049486433 ENSRNA049488473\n",
       "FPKM.hggt_8D_1 0               0              \n",
       "FPKM.hggt_8D_2 0               0              \n",
       "FPKM.hggt_8D_3 0               0              \n",
       "FPKM.WT_8D_1   0               0              \n",
       "FPKM.WT_8D_2   0               0              \n",
       "FPKM.WT_8D_3   0               0              "
      ]
     },
     "metadata": {},
     "output_type": "display_data"
    }
   ],
   "source": [
    "head(datExpr)"
   ]
  },
  {
   "cell_type": "code",
   "execution_count": 26,
   "id": "f226561b-1f6c-4d41-9ee9-3b5f4a702150",
   "metadata": {},
   "outputs": [
    {
     "data": {
      "text/html": [
       "<style>\n",
       ".list-inline {list-style: none; margin:0; padding: 0}\n",
       ".list-inline>li {display: inline-block}\n",
       ".list-inline>li:not(:last-child)::after {content: \"\\00b7\"; padding: 0 .5ex}\n",
       "</style>\n",
       "<ol class=list-inline><li>'FPKM.hggt_8D_1'</li><li>'FPKM.hggt_8D_2'</li><li>'FPKM.hggt_8D_3'</li><li>'FPKM.WT_8D_1'</li><li>'FPKM.WT_8D_2'</li><li>'FPKM.WT_8D_3'</li><li>'FPKM.hggt_16D_1'</li><li>'FPKM.hggt_16D_2'</li><li>'FPKM.hggt_16D_3'</li><li>'FPKM.WT_16D_1'</li><li>'FPKM.WT_16D_2'</li><li>'FPKM.WT_16D_3'</li></ol>\n"
      ],
      "text/latex": [
       "\\begin{enumerate*}\n",
       "\\item 'FPKM.hggt\\_8D\\_1'\n",
       "\\item 'FPKM.hggt\\_8D\\_2'\n",
       "\\item 'FPKM.hggt\\_8D\\_3'\n",
       "\\item 'FPKM.WT\\_8D\\_1'\n",
       "\\item 'FPKM.WT\\_8D\\_2'\n",
       "\\item 'FPKM.WT\\_8D\\_3'\n",
       "\\item 'FPKM.hggt\\_16D\\_1'\n",
       "\\item 'FPKM.hggt\\_16D\\_2'\n",
       "\\item 'FPKM.hggt\\_16D\\_3'\n",
       "\\item 'FPKM.WT\\_16D\\_1'\n",
       "\\item 'FPKM.WT\\_16D\\_2'\n",
       "\\item 'FPKM.WT\\_16D\\_3'\n",
       "\\end{enumerate*}\n"
      ],
      "text/markdown": [
       "1. 'FPKM.hggt_8D_1'\n",
       "2. 'FPKM.hggt_8D_2'\n",
       "3. 'FPKM.hggt_8D_3'\n",
       "4. 'FPKM.WT_8D_1'\n",
       "5. 'FPKM.WT_8D_2'\n",
       "6. 'FPKM.WT_8D_3'\n",
       "7. 'FPKM.hggt_16D_1'\n",
       "8. 'FPKM.hggt_16D_2'\n",
       "9. 'FPKM.hggt_16D_3'\n",
       "10. 'FPKM.WT_16D_1'\n",
       "11. 'FPKM.WT_16D_2'\n",
       "12. 'FPKM.WT_16D_3'\n",
       "\n",
       "\n"
      ],
      "text/plain": [
       " [1] \"FPKM.hggt_8D_1\"  \"FPKM.hggt_8D_2\"  \"FPKM.hggt_8D_3\"  \"FPKM.WT_8D_1\"   \n",
       " [5] \"FPKM.WT_8D_2\"    \"FPKM.WT_8D_3\"    \"FPKM.hggt_16D_1\" \"FPKM.hggt_16D_2\"\n",
       " [9] \"FPKM.hggt_16D_3\" \"FPKM.WT_16D_1\"   \"FPKM.WT_16D_2\"   \"FPKM.WT_16D_3\"  "
      ]
     },
     "metadata": {},
     "output_type": "display_data"
    }
   ],
   "source": [
    "row.names(merge$newMEs)"
   ]
  },
  {
   "cell_type": "code",
   "execution_count": 27,
   "id": "7361997b-141c-4004-8e23-05bcb4411870",
   "metadata": {},
   "outputs": [
    {
     "data": {
      "text/html": [
       "<style>\n",
       ".list-inline {list-style: none; margin:0; padding: 0}\n",
       ".list-inline>li {display: inline-block}\n",
       ".list-inline>li:not(:last-child)::after {content: \"\\00b7\"; padding: 0 .5ex}\n",
       "</style>\n",
       "<ol class=list-inline><li>'FPKM.hggt_8D_1'</li><li>'FPKM.hggt_8D_2'</li><li>'FPKM.hggt_8D_3'</li><li>'FPKM.WT_8D_1'</li><li>'FPKM.WT_8D_2'</li><li>'FPKM.WT_8D_3'</li><li>'FPKM.hggt_16D_1'</li><li>'FPKM.hggt_16D_2'</li><li>'FPKM.hggt_16D_3'</li><li>'FPKM.WT_16D_1'</li><li>'FPKM.WT_16D_2'</li><li>'FPKM.WT_16D_3'</li></ol>\n"
      ],
      "text/latex": [
       "\\begin{enumerate*}\n",
       "\\item 'FPKM.hggt\\_8D\\_1'\n",
       "\\item 'FPKM.hggt\\_8D\\_2'\n",
       "\\item 'FPKM.hggt\\_8D\\_3'\n",
       "\\item 'FPKM.WT\\_8D\\_1'\n",
       "\\item 'FPKM.WT\\_8D\\_2'\n",
       "\\item 'FPKM.WT\\_8D\\_3'\n",
       "\\item 'FPKM.hggt\\_16D\\_1'\n",
       "\\item 'FPKM.hggt\\_16D\\_2'\n",
       "\\item 'FPKM.hggt\\_16D\\_3'\n",
       "\\item 'FPKM.WT\\_16D\\_1'\n",
       "\\item 'FPKM.WT\\_16D\\_2'\n",
       "\\item 'FPKM.WT\\_16D\\_3'\n",
       "\\end{enumerate*}\n"
      ],
      "text/markdown": [
       "1. 'FPKM.hggt_8D_1'\n",
       "2. 'FPKM.hggt_8D_2'\n",
       "3. 'FPKM.hggt_8D_3'\n",
       "4. 'FPKM.WT_8D_1'\n",
       "5. 'FPKM.WT_8D_2'\n",
       "6. 'FPKM.WT_8D_3'\n",
       "7. 'FPKM.hggt_16D_1'\n",
       "8. 'FPKM.hggt_16D_2'\n",
       "9. 'FPKM.hggt_16D_3'\n",
       "10. 'FPKM.WT_16D_1'\n",
       "11. 'FPKM.WT_16D_2'\n",
       "12. 'FPKM.WT_16D_3'\n",
       "\n",
       "\n"
      ],
      "text/plain": [
       " [1] \"FPKM.hggt_8D_1\"  \"FPKM.hggt_8D_2\"  \"FPKM.hggt_8D_3\"  \"FPKM.WT_8D_1\"   \n",
       " [5] \"FPKM.WT_8D_2\"    \"FPKM.WT_8D_3\"    \"FPKM.hggt_16D_1\" \"FPKM.hggt_16D_2\"\n",
       " [9] \"FPKM.hggt_16D_3\" \"FPKM.WT_16D_1\"   \"FPKM.WT_16D_2\"   \"FPKM.WT_16D_3\"  "
      ]
     },
     "metadata": {},
     "output_type": "display_data"
    }
   ],
   "source": [
    "rownames(datExpr)"
   ]
  },
  {
   "cell_type": "code",
   "execution_count": 29,
   "id": "1265dc07-e8d1-4735-886b-19ddd67b245e",
   "metadata": {},
   "outputs": [
    {
     "data": {
      "text/html": [
       "<style>\n",
       ".list-inline {list-style: none; margin:0; padding: 0}\n",
       ".list-inline>li {display: inline-block}\n",
       ".list-inline>li:not(:last-child)::after {content: \"\\00b7\"; padding: 0 .5ex}\n",
       "</style>\n",
       "<ol class=list-inline><li>12</li><li>42</li></ol>\n"
      ],
      "text/latex": [
       "\\begin{enumerate*}\n",
       "\\item 12\n",
       "\\item 42\n",
       "\\end{enumerate*}\n"
      ],
      "text/markdown": [
       "1. 12\n",
       "2. 42\n",
       "\n",
       "\n"
      ],
      "text/plain": [
       "[1] 12 42"
      ]
     },
     "metadata": {},
     "output_type": "display_data"
    }
   ],
   "source": [
    "dim(merge$newMEs)"
   ]
  },
  {
   "cell_type": "code",
   "execution_count": 30,
   "id": "a11105b6-a846-4a72-bfdc-0876a4cc7c87",
   "metadata": {},
   "outputs": [
    {
     "data": {
      "text/html": [
       "<table class=\"dataframe\">\n",
       "<caption>A data.frame: 12 × 42</caption>\n",
       "<thead>\n",
       "\t<tr><th></th><th scope=col>MEhoneydew1</th><th scope=col>MEdarkorange2</th><th scope=col>MEtan</th><th scope=col>MEroyalblue</th><th scope=col>MElightpink4</th><th scope=col>MElightyellow</th><th scope=col>MEthistle2</th><th scope=col>MEnavajowhite2</th><th scope=col>MElightsteelblue1</th><th scope=col>MEivory</th><th scope=col>⋯</th><th scope=col>MEyellowgreen</th><th scope=col>MEbisque4</th><th scope=col>MEdarkslateblue</th><th scope=col>MEmagenta</th><th scope=col>MEsalmon4</th><th scope=col>MEdarkturquoise</th><th scope=col>MEplum1</th><th scope=col>MEblue</th><th scope=col>MElightcyan1</th><th scope=col>MEgrey</th></tr>\n",
       "\t<tr><th></th><th scope=col>&lt;dbl&gt;</th><th scope=col>&lt;dbl&gt;</th><th scope=col>&lt;dbl&gt;</th><th scope=col>&lt;dbl&gt;</th><th scope=col>&lt;dbl&gt;</th><th scope=col>&lt;dbl&gt;</th><th scope=col>&lt;dbl&gt;</th><th scope=col>&lt;dbl&gt;</th><th scope=col>&lt;dbl&gt;</th><th scope=col>&lt;dbl&gt;</th><th scope=col>⋯</th><th scope=col>&lt;dbl&gt;</th><th scope=col>&lt;dbl&gt;</th><th scope=col>&lt;dbl&gt;</th><th scope=col>&lt;dbl&gt;</th><th scope=col>&lt;dbl&gt;</th><th scope=col>&lt;dbl&gt;</th><th scope=col>&lt;dbl&gt;</th><th scope=col>&lt;dbl&gt;</th><th scope=col>&lt;dbl&gt;</th><th scope=col>&lt;dbl&gt;</th></tr>\n",
       "</thead>\n",
       "<tbody>\n",
       "\t<tr><th scope=row>FPKM.hggt_8D_1</th><td>-0.13043387</td><td>-0.03324184</td><td>-0.09457135</td><td>-0.05639717</td><td>-0.16039214</td><td>-0.08280807</td><td>-0.15670748</td><td>-0.008683186</td><td> 0.1200325</td><td> 0.62134783</td><td>⋯</td><td>-0.1137639</td><td>-0.08437797</td><td>-0.13311157</td><td>-0.04982373</td><td>-0.17551731</td><td> 0.006839084</td><td>-0.07234195</td><td> 0.2990255</td><td>-0.080383686</td><td>-0.26010815</td></tr>\n",
       "\t<tr><th scope=row>FPKM.hggt_8D_2</th><td>-0.15390135</td><td>-0.07086854</td><td>-0.10768525</td><td>-0.06860973</td><td>-0.11909949</td><td>-0.05626134</td><td>-0.10638435</td><td> 0.630752277</td><td>-0.1163546</td><td>-0.02759251</td><td>⋯</td><td>-0.1034695</td><td> 0.65811592</td><td>-0.16252353</td><td>-0.08404669</td><td>-0.12637860</td><td>-0.076633139</td><td>-0.08892048</td><td> 0.2477534</td><td>-0.113788832</td><td>-0.11035786</td></tr>\n",
       "\t<tr><th scope=row>FPKM.hggt_8D_3</th><td>-0.09342267</td><td>-0.08550701</td><td>-0.10715703</td><td>-0.07474500</td><td>-0.12716570</td><td>-0.04538101</td><td>-0.11947042</td><td>-0.026777788</td><td> 0.6032733</td><td>-0.07622196</td><td>⋯</td><td>-0.1115181</td><td>-0.05882097</td><td>-0.14387934</td><td>-0.07795891</td><td>-0.11318147</td><td>-0.073803015</td><td>-0.13635188</td><td> 0.3205319</td><td> 0.649290168</td><td>-0.06962312</td></tr>\n",
       "\t<tr><th scope=row>FPKM.WT_8D_1</th><td>-0.21213068</td><td>-0.15199478</td><td>-0.07062000</td><td>-0.11365678</td><td> 0.62715575</td><td>-0.10609505</td><td>-0.12533829</td><td>-0.112290986</td><td>-0.1783155</td><td>-0.15178742</td><td>⋯</td><td>-0.1231384</td><td> 0.62325925</td><td> 0.66467225</td><td> 0.95504976</td><td> 0.65568808</td><td> 0.507011067</td><td> 0.66989345</td><td> 0.2715123</td><td> 0.625668968</td><td>-0.26375309</td></tr>\n",
       "\t<tr><th scope=row>FPKM.WT_8D_2</th><td>-0.08782075</td><td>-0.11964944</td><td>-0.08212864</td><td>-0.10111613</td><td>-0.11660066</td><td>-0.08512520</td><td>-0.09045262</td><td>-0.137188032</td><td>-0.1133399</td><td>-0.13587866</td><td>⋯</td><td> 0.6279972</td><td>-0.16622378</td><td>-0.02588607</td><td>-0.05526366</td><td>-0.08836531</td><td> 0.487550104</td><td>-0.10945723</td><td> 0.2664739</td><td>-0.152363854</td><td> 0.13097596</td></tr>\n",
       "\t<tr><th scope=row>FPKM.WT_8D_3</th><td>-0.14883905</td><td>-0.11353533</td><td>-0.07440656</td><td>-0.11156412</td><td>-0.08539834</td><td>-0.07304461</td><td>-0.06157311</td><td>-0.121801432</td><td>-0.1825252</td><td>-0.16387527</td><td>⋯</td><td> 0.6605245</td><td>-0.10198375</td><td>-0.07950450</td><td>-0.06981093</td><td>-0.12135612</td><td> 0.394574340</td><td> 0.61492104</td><td> 0.2016040</td><td>-0.007662487</td><td> 0.25019165</td></tr>\n",
       "\t<tr><th scope=row>FPKM.hggt_16D_1</th><td>-0.11022821</td><td>-0.18960317</td><td>-0.04245722</td><td>-0.05666480</td><td>-0.12106220</td><td>-0.09361110</td><td>-0.15847852</td><td>-0.207305980</td><td>-0.1100713</td><td>-0.12569790</td><td>⋯</td><td>-0.1411085</td><td>-0.11778298</td><td>-0.11338725</td><td>-0.08950988</td><td> 0.63041570</td><td>-0.285040441</td><td>-0.13864041</td><td>-0.1119989</td><td>-0.128486193</td><td>-0.08204381</td></tr>\n",
       "\t<tr><th scope=row>FPKM.hggt_16D_2</th><td>-0.14298120</td><td>-0.15380269</td><td>-0.06909912</td><td>-0.03818958</td><td>-0.13549168</td><td>-0.11673156</td><td>-0.16068068</td><td>-0.111482093</td><td>-0.1183630</td><td>-0.08015901</td><td>⋯</td><td>-0.1718191</td><td>-0.13394484</td><td> 0.61170211</td><td>-0.11262536</td><td>-0.10019314</td><td>-0.347294909</td><td>-0.15262610</td><td>-0.1450280</td><td>-0.163137431</td><td> 0.12588365</td></tr>\n",
       "\t<tr><th scope=row>FPKM.hggt_16D_3</th><td> 0.61864301</td><td>-0.17215173</td><td>-0.11893551</td><td>-0.10098372</td><td>-0.15352315</td><td>-0.08990630</td><td>-0.16229967</td><td> 0.633403553</td><td> 0.6359855</td><td> 0.65299867</td><td>⋯</td><td>-0.1378444</td><td>-0.14727770</td><td>-0.13169100</td><td>-0.08768190</td><td>-0.13887465</td><td>-0.326963771</td><td>-0.16835930</td><td>-0.1117782</td><td>-0.142388517</td><td> 0.31264911</td></tr>\n",
       "\t<tr><th scope=row>FPKM.WT_16D_1</th><td>-0.05310432</td><td>-0.17993965</td><td>-0.08821899</td><td>-0.10701000</td><td> 0.66080190</td><td> 0.95512615</td><td> 0.67885205</td><td>-0.153301211</td><td>-0.1796556</td><td>-0.13816299</td><td>⋯</td><td>-0.1278284</td><td>-0.12009354</td><td>-0.19365712</td><td>-0.11157388</td><td>-0.12146474</td><td>-0.068099365</td><td>-0.13188647</td><td>-0.3610456</td><td>-0.128671426</td><td> 0.46592135</td></tr>\n",
       "\t<tr><th scope=row>FPKM.WT_16D_2</th><td>-0.14622955</td><td> 0.57265810</td><td>-0.09983134</td><td> 0.95347216</td><td>-0.14515317</td><td>-0.09636146</td><td> 0.60348013</td><td>-0.173289457</td><td>-0.1468801</td><td>-0.16540649</td><td>⋯</td><td>-0.1317342</td><td>-0.18845008</td><td>-0.17515551</td><td>-0.10699594</td><td>-0.17503367</td><td>-0.131232011</td><td>-0.15268542</td><td>-0.4332271</td><td>-0.189404478</td><td> 0.13982647</td></tr>\n",
       "\t<tr><th scope=row>FPKM.WT_16D_3</th><td> 0.66044864</td><td> 0.69763607</td><td> 0.95511101</td><td>-0.12453513</td><td>-0.12407111</td><td>-0.10980044</td><td>-0.14094703</td><td>-0.212035663</td><td>-0.2137862</td><td>-0.20956429</td><td>⋯</td><td>-0.1262971</td><td>-0.16241954</td><td>-0.11757848</td><td>-0.10975890</td><td>-0.12573876</td><td>-0.086907942</td><td>-0.13354525</td><td>-0.4438231</td><td>-0.168672233</td><td>-0.63956217</td></tr>\n",
       "</tbody>\n",
       "</table>\n"
      ],
      "text/latex": [
       "A data.frame: 12 × 42\n",
       "\\begin{tabular}{r|lllllllllllllllllllll}\n",
       "  & MEhoneydew1 & MEdarkorange2 & MEtan & MEroyalblue & MElightpink4 & MElightyellow & MEthistle2 & MEnavajowhite2 & MElightsteelblue1 & MEivory & ⋯ & MEyellowgreen & MEbisque4 & MEdarkslateblue & MEmagenta & MEsalmon4 & MEdarkturquoise & MEplum1 & MEblue & MElightcyan1 & MEgrey\\\\\n",
       "  & <dbl> & <dbl> & <dbl> & <dbl> & <dbl> & <dbl> & <dbl> & <dbl> & <dbl> & <dbl> & ⋯ & <dbl> & <dbl> & <dbl> & <dbl> & <dbl> & <dbl> & <dbl> & <dbl> & <dbl> & <dbl>\\\\\n",
       "\\hline\n",
       "\tFPKM.hggt\\_8D\\_1 & -0.13043387 & -0.03324184 & -0.09457135 & -0.05639717 & -0.16039214 & -0.08280807 & -0.15670748 & -0.008683186 &  0.1200325 &  0.62134783 & ⋯ & -0.1137639 & -0.08437797 & -0.13311157 & -0.04982373 & -0.17551731 &  0.006839084 & -0.07234195 &  0.2990255 & -0.080383686 & -0.26010815\\\\\n",
       "\tFPKM.hggt\\_8D\\_2 & -0.15390135 & -0.07086854 & -0.10768525 & -0.06860973 & -0.11909949 & -0.05626134 & -0.10638435 &  0.630752277 & -0.1163546 & -0.02759251 & ⋯ & -0.1034695 &  0.65811592 & -0.16252353 & -0.08404669 & -0.12637860 & -0.076633139 & -0.08892048 &  0.2477534 & -0.113788832 & -0.11035786\\\\\n",
       "\tFPKM.hggt\\_8D\\_3 & -0.09342267 & -0.08550701 & -0.10715703 & -0.07474500 & -0.12716570 & -0.04538101 & -0.11947042 & -0.026777788 &  0.6032733 & -0.07622196 & ⋯ & -0.1115181 & -0.05882097 & -0.14387934 & -0.07795891 & -0.11318147 & -0.073803015 & -0.13635188 &  0.3205319 &  0.649290168 & -0.06962312\\\\\n",
       "\tFPKM.WT\\_8D\\_1 & -0.21213068 & -0.15199478 & -0.07062000 & -0.11365678 &  0.62715575 & -0.10609505 & -0.12533829 & -0.112290986 & -0.1783155 & -0.15178742 & ⋯ & -0.1231384 &  0.62325925 &  0.66467225 &  0.95504976 &  0.65568808 &  0.507011067 &  0.66989345 &  0.2715123 &  0.625668968 & -0.26375309\\\\\n",
       "\tFPKM.WT\\_8D\\_2 & -0.08782075 & -0.11964944 & -0.08212864 & -0.10111613 & -0.11660066 & -0.08512520 & -0.09045262 & -0.137188032 & -0.1133399 & -0.13587866 & ⋯ &  0.6279972 & -0.16622378 & -0.02588607 & -0.05526366 & -0.08836531 &  0.487550104 & -0.10945723 &  0.2664739 & -0.152363854 &  0.13097596\\\\\n",
       "\tFPKM.WT\\_8D\\_3 & -0.14883905 & -0.11353533 & -0.07440656 & -0.11156412 & -0.08539834 & -0.07304461 & -0.06157311 & -0.121801432 & -0.1825252 & -0.16387527 & ⋯ &  0.6605245 & -0.10198375 & -0.07950450 & -0.06981093 & -0.12135612 &  0.394574340 &  0.61492104 &  0.2016040 & -0.007662487 &  0.25019165\\\\\n",
       "\tFPKM.hggt\\_16D\\_1 & -0.11022821 & -0.18960317 & -0.04245722 & -0.05666480 & -0.12106220 & -0.09361110 & -0.15847852 & -0.207305980 & -0.1100713 & -0.12569790 & ⋯ & -0.1411085 & -0.11778298 & -0.11338725 & -0.08950988 &  0.63041570 & -0.285040441 & -0.13864041 & -0.1119989 & -0.128486193 & -0.08204381\\\\\n",
       "\tFPKM.hggt\\_16D\\_2 & -0.14298120 & -0.15380269 & -0.06909912 & -0.03818958 & -0.13549168 & -0.11673156 & -0.16068068 & -0.111482093 & -0.1183630 & -0.08015901 & ⋯ & -0.1718191 & -0.13394484 &  0.61170211 & -0.11262536 & -0.10019314 & -0.347294909 & -0.15262610 & -0.1450280 & -0.163137431 &  0.12588365\\\\\n",
       "\tFPKM.hggt\\_16D\\_3 &  0.61864301 & -0.17215173 & -0.11893551 & -0.10098372 & -0.15352315 & -0.08990630 & -0.16229967 &  0.633403553 &  0.6359855 &  0.65299867 & ⋯ & -0.1378444 & -0.14727770 & -0.13169100 & -0.08768190 & -0.13887465 & -0.326963771 & -0.16835930 & -0.1117782 & -0.142388517 &  0.31264911\\\\\n",
       "\tFPKM.WT\\_16D\\_1 & -0.05310432 & -0.17993965 & -0.08821899 & -0.10701000 &  0.66080190 &  0.95512615 &  0.67885205 & -0.153301211 & -0.1796556 & -0.13816299 & ⋯ & -0.1278284 & -0.12009354 & -0.19365712 & -0.11157388 & -0.12146474 & -0.068099365 & -0.13188647 & -0.3610456 & -0.128671426 &  0.46592135\\\\\n",
       "\tFPKM.WT\\_16D\\_2 & -0.14622955 &  0.57265810 & -0.09983134 &  0.95347216 & -0.14515317 & -0.09636146 &  0.60348013 & -0.173289457 & -0.1468801 & -0.16540649 & ⋯ & -0.1317342 & -0.18845008 & -0.17515551 & -0.10699594 & -0.17503367 & -0.131232011 & -0.15268542 & -0.4332271 & -0.189404478 &  0.13982647\\\\\n",
       "\tFPKM.WT\\_16D\\_3 &  0.66044864 &  0.69763607 &  0.95511101 & -0.12453513 & -0.12407111 & -0.10980044 & -0.14094703 & -0.212035663 & -0.2137862 & -0.20956429 & ⋯ & -0.1262971 & -0.16241954 & -0.11757848 & -0.10975890 & -0.12573876 & -0.086907942 & -0.13354525 & -0.4438231 & -0.168672233 & -0.63956217\\\\\n",
       "\\end{tabular}\n"
      ],
      "text/markdown": [
       "\n",
       "A data.frame: 12 × 42\n",
       "\n",
       "| <!--/--> | MEhoneydew1 &lt;dbl&gt; | MEdarkorange2 &lt;dbl&gt; | MEtan &lt;dbl&gt; | MEroyalblue &lt;dbl&gt; | MElightpink4 &lt;dbl&gt; | MElightyellow &lt;dbl&gt; | MEthistle2 &lt;dbl&gt; | MEnavajowhite2 &lt;dbl&gt; | MElightsteelblue1 &lt;dbl&gt; | MEivory &lt;dbl&gt; | ⋯ ⋯ | MEyellowgreen &lt;dbl&gt; | MEbisque4 &lt;dbl&gt; | MEdarkslateblue &lt;dbl&gt; | MEmagenta &lt;dbl&gt; | MEsalmon4 &lt;dbl&gt; | MEdarkturquoise &lt;dbl&gt; | MEplum1 &lt;dbl&gt; | MEblue &lt;dbl&gt; | MElightcyan1 &lt;dbl&gt; | MEgrey &lt;dbl&gt; |\n",
       "|---|---|---|---|---|---|---|---|---|---|---|---|---|---|---|---|---|---|---|---|---|---|\n",
       "| FPKM.hggt_8D_1 | -0.13043387 | -0.03324184 | -0.09457135 | -0.05639717 | -0.16039214 | -0.08280807 | -0.15670748 | -0.008683186 |  0.1200325 |  0.62134783 | ⋯ | -0.1137639 | -0.08437797 | -0.13311157 | -0.04982373 | -0.17551731 |  0.006839084 | -0.07234195 |  0.2990255 | -0.080383686 | -0.26010815 |\n",
       "| FPKM.hggt_8D_2 | -0.15390135 | -0.07086854 | -0.10768525 | -0.06860973 | -0.11909949 | -0.05626134 | -0.10638435 |  0.630752277 | -0.1163546 | -0.02759251 | ⋯ | -0.1034695 |  0.65811592 | -0.16252353 | -0.08404669 | -0.12637860 | -0.076633139 | -0.08892048 |  0.2477534 | -0.113788832 | -0.11035786 |\n",
       "| FPKM.hggt_8D_3 | -0.09342267 | -0.08550701 | -0.10715703 | -0.07474500 | -0.12716570 | -0.04538101 | -0.11947042 | -0.026777788 |  0.6032733 | -0.07622196 | ⋯ | -0.1115181 | -0.05882097 | -0.14387934 | -0.07795891 | -0.11318147 | -0.073803015 | -0.13635188 |  0.3205319 |  0.649290168 | -0.06962312 |\n",
       "| FPKM.WT_8D_1 | -0.21213068 | -0.15199478 | -0.07062000 | -0.11365678 |  0.62715575 | -0.10609505 | -0.12533829 | -0.112290986 | -0.1783155 | -0.15178742 | ⋯ | -0.1231384 |  0.62325925 |  0.66467225 |  0.95504976 |  0.65568808 |  0.507011067 |  0.66989345 |  0.2715123 |  0.625668968 | -0.26375309 |\n",
       "| FPKM.WT_8D_2 | -0.08782075 | -0.11964944 | -0.08212864 | -0.10111613 | -0.11660066 | -0.08512520 | -0.09045262 | -0.137188032 | -0.1133399 | -0.13587866 | ⋯ |  0.6279972 | -0.16622378 | -0.02588607 | -0.05526366 | -0.08836531 |  0.487550104 | -0.10945723 |  0.2664739 | -0.152363854 |  0.13097596 |\n",
       "| FPKM.WT_8D_3 | -0.14883905 | -0.11353533 | -0.07440656 | -0.11156412 | -0.08539834 | -0.07304461 | -0.06157311 | -0.121801432 | -0.1825252 | -0.16387527 | ⋯ |  0.6605245 | -0.10198375 | -0.07950450 | -0.06981093 | -0.12135612 |  0.394574340 |  0.61492104 |  0.2016040 | -0.007662487 |  0.25019165 |\n",
       "| FPKM.hggt_16D_1 | -0.11022821 | -0.18960317 | -0.04245722 | -0.05666480 | -0.12106220 | -0.09361110 | -0.15847852 | -0.207305980 | -0.1100713 | -0.12569790 | ⋯ | -0.1411085 | -0.11778298 | -0.11338725 | -0.08950988 |  0.63041570 | -0.285040441 | -0.13864041 | -0.1119989 | -0.128486193 | -0.08204381 |\n",
       "| FPKM.hggt_16D_2 | -0.14298120 | -0.15380269 | -0.06909912 | -0.03818958 | -0.13549168 | -0.11673156 | -0.16068068 | -0.111482093 | -0.1183630 | -0.08015901 | ⋯ | -0.1718191 | -0.13394484 |  0.61170211 | -0.11262536 | -0.10019314 | -0.347294909 | -0.15262610 | -0.1450280 | -0.163137431 |  0.12588365 |\n",
       "| FPKM.hggt_16D_3 |  0.61864301 | -0.17215173 | -0.11893551 | -0.10098372 | -0.15352315 | -0.08990630 | -0.16229967 |  0.633403553 |  0.6359855 |  0.65299867 | ⋯ | -0.1378444 | -0.14727770 | -0.13169100 | -0.08768190 | -0.13887465 | -0.326963771 | -0.16835930 | -0.1117782 | -0.142388517 |  0.31264911 |\n",
       "| FPKM.WT_16D_1 | -0.05310432 | -0.17993965 | -0.08821899 | -0.10701000 |  0.66080190 |  0.95512615 |  0.67885205 | -0.153301211 | -0.1796556 | -0.13816299 | ⋯ | -0.1278284 | -0.12009354 | -0.19365712 | -0.11157388 | -0.12146474 | -0.068099365 | -0.13188647 | -0.3610456 | -0.128671426 |  0.46592135 |\n",
       "| FPKM.WT_16D_2 | -0.14622955 |  0.57265810 | -0.09983134 |  0.95347216 | -0.14515317 | -0.09636146 |  0.60348013 | -0.173289457 | -0.1468801 | -0.16540649 | ⋯ | -0.1317342 | -0.18845008 | -0.17515551 | -0.10699594 | -0.17503367 | -0.131232011 | -0.15268542 | -0.4332271 | -0.189404478 |  0.13982647 |\n",
       "| FPKM.WT_16D_3 |  0.66044864 |  0.69763607 |  0.95511101 | -0.12453513 | -0.12407111 | -0.10980044 | -0.14094703 | -0.212035663 | -0.2137862 | -0.20956429 | ⋯ | -0.1262971 | -0.16241954 | -0.11757848 | -0.10975890 | -0.12573876 | -0.086907942 | -0.13354525 | -0.4438231 | -0.168672233 | -0.63956217 |\n",
       "\n"
      ],
      "text/plain": [
       "                MEhoneydew1 MEdarkorange2 MEtan       MEroyalblue MElightpink4\n",
       "FPKM.hggt_8D_1  -0.13043387 -0.03324184   -0.09457135 -0.05639717 -0.16039214 \n",
       "FPKM.hggt_8D_2  -0.15390135 -0.07086854   -0.10768525 -0.06860973 -0.11909949 \n",
       "FPKM.hggt_8D_3  -0.09342267 -0.08550701   -0.10715703 -0.07474500 -0.12716570 \n",
       "FPKM.WT_8D_1    -0.21213068 -0.15199478   -0.07062000 -0.11365678  0.62715575 \n",
       "FPKM.WT_8D_2    -0.08782075 -0.11964944   -0.08212864 -0.10111613 -0.11660066 \n",
       "FPKM.WT_8D_3    -0.14883905 -0.11353533   -0.07440656 -0.11156412 -0.08539834 \n",
       "FPKM.hggt_16D_1 -0.11022821 -0.18960317   -0.04245722 -0.05666480 -0.12106220 \n",
       "FPKM.hggt_16D_2 -0.14298120 -0.15380269   -0.06909912 -0.03818958 -0.13549168 \n",
       "FPKM.hggt_16D_3  0.61864301 -0.17215173   -0.11893551 -0.10098372 -0.15352315 \n",
       "FPKM.WT_16D_1   -0.05310432 -0.17993965   -0.08821899 -0.10701000  0.66080190 \n",
       "FPKM.WT_16D_2   -0.14622955  0.57265810   -0.09983134  0.95347216 -0.14515317 \n",
       "FPKM.WT_16D_3    0.66044864  0.69763607    0.95511101 -0.12453513 -0.12407111 \n",
       "                MElightyellow MEthistle2  MEnavajowhite2 MElightsteelblue1\n",
       "FPKM.hggt_8D_1  -0.08280807   -0.15670748 -0.008683186    0.1200325       \n",
       "FPKM.hggt_8D_2  -0.05626134   -0.10638435  0.630752277   -0.1163546       \n",
       "FPKM.hggt_8D_3  -0.04538101   -0.11947042 -0.026777788    0.6032733       \n",
       "FPKM.WT_8D_1    -0.10609505   -0.12533829 -0.112290986   -0.1783155       \n",
       "FPKM.WT_8D_2    -0.08512520   -0.09045262 -0.137188032   -0.1133399       \n",
       "FPKM.WT_8D_3    -0.07304461   -0.06157311 -0.121801432   -0.1825252       \n",
       "FPKM.hggt_16D_1 -0.09361110   -0.15847852 -0.207305980   -0.1100713       \n",
       "FPKM.hggt_16D_2 -0.11673156   -0.16068068 -0.111482093   -0.1183630       \n",
       "FPKM.hggt_16D_3 -0.08990630   -0.16229967  0.633403553    0.6359855       \n",
       "FPKM.WT_16D_1    0.95512615    0.67885205 -0.153301211   -0.1796556       \n",
       "FPKM.WT_16D_2   -0.09636146    0.60348013 -0.173289457   -0.1468801       \n",
       "FPKM.WT_16D_3   -0.10980044   -0.14094703 -0.212035663   -0.2137862       \n",
       "                MEivory     ⋯ MEyellowgreen MEbisque4   MEdarkslateblue\n",
       "FPKM.hggt_8D_1   0.62134783 ⋯ -0.1137639    -0.08437797 -0.13311157    \n",
       "FPKM.hggt_8D_2  -0.02759251 ⋯ -0.1034695     0.65811592 -0.16252353    \n",
       "FPKM.hggt_8D_3  -0.07622196 ⋯ -0.1115181    -0.05882097 -0.14387934    \n",
       "FPKM.WT_8D_1    -0.15178742 ⋯ -0.1231384     0.62325925  0.66467225    \n",
       "FPKM.WT_8D_2    -0.13587866 ⋯  0.6279972    -0.16622378 -0.02588607    \n",
       "FPKM.WT_8D_3    -0.16387527 ⋯  0.6605245    -0.10198375 -0.07950450    \n",
       "FPKM.hggt_16D_1 -0.12569790 ⋯ -0.1411085    -0.11778298 -0.11338725    \n",
       "FPKM.hggt_16D_2 -0.08015901 ⋯ -0.1718191    -0.13394484  0.61170211    \n",
       "FPKM.hggt_16D_3  0.65299867 ⋯ -0.1378444    -0.14727770 -0.13169100    \n",
       "FPKM.WT_16D_1   -0.13816299 ⋯ -0.1278284    -0.12009354 -0.19365712    \n",
       "FPKM.WT_16D_2   -0.16540649 ⋯ -0.1317342    -0.18845008 -0.17515551    \n",
       "FPKM.WT_16D_3   -0.20956429 ⋯ -0.1262971    -0.16241954 -0.11757848    \n",
       "                MEmagenta   MEsalmon4   MEdarkturquoise MEplum1     MEblue    \n",
       "FPKM.hggt_8D_1  -0.04982373 -0.17551731  0.006839084    -0.07234195  0.2990255\n",
       "FPKM.hggt_8D_2  -0.08404669 -0.12637860 -0.076633139    -0.08892048  0.2477534\n",
       "FPKM.hggt_8D_3  -0.07795891 -0.11318147 -0.073803015    -0.13635188  0.3205319\n",
       "FPKM.WT_8D_1     0.95504976  0.65568808  0.507011067     0.66989345  0.2715123\n",
       "FPKM.WT_8D_2    -0.05526366 -0.08836531  0.487550104    -0.10945723  0.2664739\n",
       "FPKM.WT_8D_3    -0.06981093 -0.12135612  0.394574340     0.61492104  0.2016040\n",
       "FPKM.hggt_16D_1 -0.08950988  0.63041570 -0.285040441    -0.13864041 -0.1119989\n",
       "FPKM.hggt_16D_2 -0.11262536 -0.10019314 -0.347294909    -0.15262610 -0.1450280\n",
       "FPKM.hggt_16D_3 -0.08768190 -0.13887465 -0.326963771    -0.16835930 -0.1117782\n",
       "FPKM.WT_16D_1   -0.11157388 -0.12146474 -0.068099365    -0.13188647 -0.3610456\n",
       "FPKM.WT_16D_2   -0.10699594 -0.17503367 -0.131232011    -0.15268542 -0.4332271\n",
       "FPKM.WT_16D_3   -0.10975890 -0.12573876 -0.086907942    -0.13354525 -0.4438231\n",
       "                MElightcyan1 MEgrey     \n",
       "FPKM.hggt_8D_1  -0.080383686 -0.26010815\n",
       "FPKM.hggt_8D_2  -0.113788832 -0.11035786\n",
       "FPKM.hggt_8D_3   0.649290168 -0.06962312\n",
       "FPKM.WT_8D_1     0.625668968 -0.26375309\n",
       "FPKM.WT_8D_2    -0.152363854  0.13097596\n",
       "FPKM.WT_8D_3    -0.007662487  0.25019165\n",
       "FPKM.hggt_16D_1 -0.128486193 -0.08204381\n",
       "FPKM.hggt_16D_2 -0.163137431  0.12588365\n",
       "FPKM.hggt_16D_3 -0.142388517  0.31264911\n",
       "FPKM.WT_16D_1   -0.128671426  0.46592135\n",
       "FPKM.WT_16D_2   -0.189404478  0.13982647\n",
       "FPKM.WT_16D_3   -0.168672233 -0.63956217"
      ]
     },
     "metadata": {},
     "output_type": "display_data"
    }
   ],
   "source": [
    "merge$newMEs"
   ]
  },
  {
   "cell_type": "code",
   "execution_count": 31,
   "id": "3741e379-f342-474a-ae01-a4c54868a181",
   "metadata": {},
   "outputs": [
    {
     "data": {
      "text/html": [
       "<strong>pdf:</strong> 3"
      ],
      "text/latex": [
       "\\textbf{pdf:} 3"
      ],
      "text/markdown": [
       "**pdf:** 3"
      ],
      "text/plain": [
       "pdf \n",
       "  3 "
      ]
     },
     "metadata": {},
     "output_type": "display_data"
    }
   ],
   "source": [
    "#===============================================================================\n",
    "#\n",
    "#  Plot the heatmap of module eigen-genes and samples\n",
    "#\n",
    "#===============================================================================\n",
    "\n",
    "library(\"pheatmap\")"
   ]
  },
  {
   "cell_type": "code",
   "execution_count": 35,
   "id": "9d5bf0be-784c-4da7-b09f-1a09f5c23c86",
   "metadata": {},
   "outputs": [
    {
     "data": {
      "text/html": [
       "<strong>pdf:</strong> 3"
      ],
      "text/latex": [
       "\\textbf{pdf:} 3"
      ],
      "text/markdown": [
       "**pdf:** 3"
      ],
      "text/plain": [
       "pdf \n",
       "  3 "
      ]
     },
     "metadata": {},
     "output_type": "display_data"
    },
    {
     "data": {
      "text/html": [
       "<strong>pdf:</strong> 3"
      ],
      "text/latex": [
       "\\textbf{pdf:} 3"
      ],
      "text/markdown": [
       "**pdf:** 3"
      ],
      "text/plain": [
       "pdf \n",
       "  3 "
      ]
     },
     "metadata": {},
     "output_type": "display_data"
    }
   ],
   "source": [
    "\n",
    "# Heatmap of old module eigen-genes and samples\n",
    "pdf(file=\"oldMEs.pdf\",heigh=15,width=20)\n",
    "\n",
    "pheatmap(merge$oldMEs,cluster_col=T,cluster_row=T,show_rownames=T,show_colnames=T,fontsize=6)\n",
    "dev.off()\n",
    "# Heatmap of new module eigen-genes and samples\n",
    "pdf(file=\"newMEs.pdf\",heigh=15,width=20)\n",
    "\n",
    "pheatmap(merge$newMEs,cluster_col=T,cluster_row=T,show_rownames=T,show_colnames=T,fontsize=10)\n",
    "dev.off()"
   ]
  },
  {
   "cell_type": "code",
   "execution_count": 37,
   "id": "e6905e5b-27d5-4d66-954a-21465bebfd90",
   "metadata": {},
   "outputs": [
    {
     "data": {
      "text/html": [
       "<table class=\"dataframe\">\n",
       "<caption>A data.frame: 6 × 2</caption>\n",
       "<thead>\n",
       "\t<tr><th></th><th scope=col>mutation</th><th scope=col>day</th></tr>\n",
       "\t<tr><th></th><th scope=col>&lt;dbl&gt;</th><th scope=col>&lt;dbl&gt;</th></tr>\n",
       "</thead>\n",
       "<tbody>\n",
       "\t<tr><th scope=row>FPKM.hggt_8D_1</th><td>1</td><td>8</td></tr>\n",
       "\t<tr><th scope=row>FPKM.hggt_8D_2</th><td>1</td><td>8</td></tr>\n",
       "\t<tr><th scope=row>FPKM.hggt_8D_3</th><td>1</td><td>8</td></tr>\n",
       "\t<tr><th scope=row>FPKM.WT_8D_1</th><td>0</td><td>8</td></tr>\n",
       "\t<tr><th scope=row>FPKM.WT_8D_2</th><td>0</td><td>8</td></tr>\n",
       "\t<tr><th scope=row>FPKM.WT_8D_3</th><td>0</td><td>8</td></tr>\n",
       "</tbody>\n",
       "</table>\n"
      ],
      "text/latex": [
       "A data.frame: 6 × 2\n",
       "\\begin{tabular}{r|ll}\n",
       "  & mutation & day\\\\\n",
       "  & <dbl> & <dbl>\\\\\n",
       "\\hline\n",
       "\tFPKM.hggt\\_8D\\_1 & 1 & 8\\\\\n",
       "\tFPKM.hggt\\_8D\\_2 & 1 & 8\\\\\n",
       "\tFPKM.hggt\\_8D\\_3 & 1 & 8\\\\\n",
       "\tFPKM.WT\\_8D\\_1 & 0 & 8\\\\\n",
       "\tFPKM.WT\\_8D\\_2 & 0 & 8\\\\\n",
       "\tFPKM.WT\\_8D\\_3 & 0 & 8\\\\\n",
       "\\end{tabular}\n"
      ],
      "text/markdown": [
       "\n",
       "A data.frame: 6 × 2\n",
       "\n",
       "| <!--/--> | mutation &lt;dbl&gt; | day &lt;dbl&gt; |\n",
       "|---|---|---|\n",
       "| FPKM.hggt_8D_1 | 1 | 8 |\n",
       "| FPKM.hggt_8D_2 | 1 | 8 |\n",
       "| FPKM.hggt_8D_3 | 1 | 8 |\n",
       "| FPKM.WT_8D_1 | 0 | 8 |\n",
       "| FPKM.WT_8D_2 | 0 | 8 |\n",
       "| FPKM.WT_8D_3 | 0 | 8 |\n",
       "\n"
      ],
      "text/plain": [
       "               mutation day\n",
       "FPKM.hggt_8D_1 1        8  \n",
       "FPKM.hggt_8D_2 1        8  \n",
       "FPKM.hggt_8D_3 1        8  \n",
       "FPKM.WT_8D_1   0        8  \n",
       "FPKM.WT_8D_2   0        8  \n",
       "FPKM.WT_8D_3   0        8  "
      ]
     },
     "metadata": {},
     "output_type": "display_data"
    }
   ],
   "source": [
    "# Create an empty data frame with the same row names\n",
    "allTraits <- data.frame(row.names = rownames(datExpr))\n",
    "mutant_values <- c(1,1,1,0,0,0,1,1,1,0,0,0) ## \n",
    "day_values <- c(8,8,8,8,8,8,16,16,16,16,16,16)\n",
    "# Add a new column from the list to the empty data frame\n",
    "allTraits$mutation <- mutant_values\n",
    "allTraits$day <- day_values\n",
    "head(allTraits)"
   ]
  },
  {
   "cell_type": "code",
   "execution_count": 41,
   "id": "771b2192-b4b1-40c1-a603-050bcc109a53",
   "metadata": {},
   "outputs": [
    {
     "data": {
      "text/html": [
       "12"
      ],
      "text/latex": [
       "12"
      ],
      "text/markdown": [
       "12"
      ],
      "text/plain": [
       "[1] 12"
      ]
     },
     "metadata": {},
     "output_type": "display_data"
    }
   ],
   "source": [
    "nSamples"
   ]
  },
  {
   "cell_type": "code",
   "execution_count": 42,
   "id": "bf61690f-de5a-41ad-8396-b441d181cdb3",
   "metadata": {},
   "outputs": [],
   "source": [
    "#=====================================================================================\n",
    "#\n",
    "#  Correlation between gene modules and microbial traits\n",
    "#\n",
    "#=====================================================================================\n",
    "\n",
    "# Define numbers of genes and samples\n",
    "nGenes = ncol(datExpr);\n",
    "nSamples = nrow(datExpr);\n",
    "# Recalculate MEs with color labels\n",
    "MEs0 = moduleEigengenes(datExpr, mergedColors)$eigengenes\n",
    "MEs = orderMEs(MEs0)\n",
    "# Read microbial data as traits\n",
    "bac_traits = allTraits"
   ]
  },
  {
   "cell_type": "code",
   "execution_count": 44,
   "id": "5fe82986-c2b8-4085-9142-ed87268678fa",
   "metadata": {},
   "outputs": [
    {
     "data": {
      "text/html": [
       "<style>\n",
       ".list-inline {list-style: none; margin:0; padding: 0}\n",
       ".list-inline>li {display: inline-block}\n",
       ".list-inline>li:not(:last-child)::after {content: \"\\00b7\"; padding: 0 .5ex}\n",
       "</style>\n",
       "<ol class=list-inline><li>'FPKM.hggt_8D_'</li><li>'FPKM.hggt_8D_'</li><li>'FPKM.hggt_8D_'</li><li>'FPKM.WT_8D_'</li><li>'FPKM.WT_8D_'</li><li>'FPKM.WT_8D_'</li><li>'FPKM.hggt_16D_'</li><li>'FPKM.hggt_16D_'</li><li>'FPKM.hggt_16D_'</li><li>'FPKM.WT_16D_'</li><li>'FPKM.WT_16D_'</li><li>'FPKM.WT_16D_'</li></ol>\n"
      ],
      "text/latex": [
       "\\begin{enumerate*}\n",
       "\\item 'FPKM.hggt\\_8D\\_'\n",
       "\\item 'FPKM.hggt\\_8D\\_'\n",
       "\\item 'FPKM.hggt\\_8D\\_'\n",
       "\\item 'FPKM.WT\\_8D\\_'\n",
       "\\item 'FPKM.WT\\_8D\\_'\n",
       "\\item 'FPKM.WT\\_8D\\_'\n",
       "\\item 'FPKM.hggt\\_16D\\_'\n",
       "\\item 'FPKM.hggt\\_16D\\_'\n",
       "\\item 'FPKM.hggt\\_16D\\_'\n",
       "\\item 'FPKM.WT\\_16D\\_'\n",
       "\\item 'FPKM.WT\\_16D\\_'\n",
       "\\item 'FPKM.WT\\_16D\\_'\n",
       "\\end{enumerate*}\n"
      ],
      "text/markdown": [
       "1. 'FPKM.hggt_8D_'\n",
       "2. 'FPKM.hggt_8D_'\n",
       "3. 'FPKM.hggt_8D_'\n",
       "4. 'FPKM.WT_8D_'\n",
       "5. 'FPKM.WT_8D_'\n",
       "6. 'FPKM.WT_8D_'\n",
       "7. 'FPKM.hggt_16D_'\n",
       "8. 'FPKM.hggt_16D_'\n",
       "9. 'FPKM.hggt_16D_'\n",
       "10. 'FPKM.WT_16D_'\n",
       "11. 'FPKM.WT_16D_'\n",
       "12. 'FPKM.WT_16D_'\n",
       "\n",
       "\n"
      ],
      "text/plain": [
       " [1] \"FPKM.hggt_8D_\"  \"FPKM.hggt_8D_\"  \"FPKM.hggt_8D_\"  \"FPKM.WT_8D_\"   \n",
       " [5] \"FPKM.WT_8D_\"    \"FPKM.WT_8D_\"    \"FPKM.hggt_16D_\" \"FPKM.hggt_16D_\"\n",
       " [9] \"FPKM.hggt_16D_\" \"FPKM.WT_16D_\"   \"FPKM.WT_16D_\"   \"FPKM.WT_16D_\"  "
      ]
     },
     "metadata": {},
     "output_type": "display_data"
    }
   ],
   "source": [
    "substr(rownames(MEs), 1, nchar(rownames(MEs))-1)"
   ]
  },
  {
   "cell_type": "code",
   "execution_count": 46,
   "id": "b520bba4-b10f-46d8-9307-81976a5b5622",
   "metadata": {},
   "outputs": [
    {
     "data": {
      "text/html": [
       "<style>\n",
       ".list-inline {list-style: none; margin:0; padding: 0}\n",
       ".list-inline>li {display: inline-block}\n",
       ".list-inline>li:not(:last-child)::after {content: \"\\00b7\"; padding: 0 .5ex}\n",
       "</style>\n",
       "<ol class=list-inline><li>12</li><li>42</li></ol>\n"
      ],
      "text/latex": [
       "\\begin{enumerate*}\n",
       "\\item 12\n",
       "\\item 42\n",
       "\\end{enumerate*}\n"
      ],
      "text/markdown": [
       "1. 12\n",
       "2. 42\n",
       "\n",
       "\n"
      ],
      "text/plain": [
       "[1] 12 42"
      ]
     },
     "metadata": {},
     "output_type": "display_data"
    }
   ],
   "source": [
    "dim(MEs)"
   ]
  },
  {
   "cell_type": "code",
   "execution_count": 47,
   "id": "5c5ea62c-2616-40ac-86e3-0a914822d42f",
   "metadata": {},
   "outputs": [
    {
     "data": {
      "text/plain": [
       "\n",
       "TRUE \n",
       "  12 "
      ]
     },
     "metadata": {},
     "output_type": "display_data"
    }
   ],
   "source": [
    "# sample names should be consistent in eigen genes and traits !!!!\n",
    "bac_traits = bac_traits[match(rownames(MEs), rownames(bac_traits)), ]\n",
    "table(rownames(MEs) == rownames(bac_traits))\n",
    "# Calculate pearson correlation coefficients between module eigen-genes and traits\n",
    "moduleTraitCor = cor(MEs, bac_traits, use = \"p\");\n",
    "moduleTraitPvalue = corPvalueStudent(moduleTraitCor, nSamples);\n",
    "write.table(moduleTraitCor,file=\"moduleTrait_correlation.txt\");\n",
    "write.table(moduleTraitPvalue,file=\"moduleTrait_pValue.txt\");"
   ]
  },
  {
   "cell_type": "code",
   "execution_count": 50,
   "id": "b95c36af-a767-487a-bb7a-d4af2d378dc5",
   "metadata": {},
   "outputs": [
    {
     "name": "stderr",
     "output_type": "stream",
     "text": [
      "Warning message in greenWhiteRed(50):\n",
      "“WGCNA::greenWhiteRed: this palette is not suitable for people\n",
      "with green-red color blindness (the most common kind of color blindness).\n",
      "Consider using the function blueWhiteRed instead.”\n"
     ]
    },
    {
     "data": {
      "text/html": [
       "<strong>png:</strong> 2"
      ],
      "text/latex": [
       "\\textbf{png:} 2"
      ],
      "text/markdown": [
       "**png:** 2"
      ],
      "text/plain": [
       "png \n",
       "  2 "
      ]
     },
     "metadata": {},
     "output_type": "display_data"
    }
   ],
   "source": [
    "#=====================================================================================\n",
    "#\n",
    "#  Plot heatmap of module-traits relationship\n",
    "#\n",
    "#=====================================================================================\n",
    "\n",
    "sizeGrWindow(3,10)\n",
    "# Will display correlations and their p-values\n",
    "textMatrix =  paste(signif(moduleTraitCor, 2), \"\\n(\",\n",
    "                    signif(moduleTraitPvalue, 1), \")\", sep = \"\");\n",
    "dim(textMatrix) = dim(moduleTraitCor)\n",
    "pdf(\"module-traits-order.pdf\", width = 100, height = 30)\n",
    "par(mar = c(15, 12, 5, 5));\n",
    "# Display the correlation values within a heatmap plot\n",
    "labeledHeatmap(Matrix = moduleTraitCor,\n",
    "               xLabels = names(bac_traits),\n",
    "               yLabels = names(MEs),\n",
    "               ySymbols = names(MEs),\n",
    "               colorLabels = FALSE,\n",
    "               colors = greenWhiteRed(50),\n",
    "               textMatrix = textMatrix,\n",
    "               setStdMargins = FALSE,\n",
    "               cex.text = 1,\n",
    "               zlim = c(-1,1),\n",
    "               main = paste(\"Module-trait relationships\"))\n",
    "dev.off()"
   ]
  },
  {
   "cell_type": "code",
   "execution_count": 51,
   "id": "72df92d8-da5c-4df8-9495-654909a9f15f",
   "metadata": {},
   "outputs": [
    {
     "name": "stderr",
     "output_type": "stream",
     "text": [
      "Warning message in greenWhiteRed(50):\n",
      "“WGCNA::greenWhiteRed: this palette is not suitable for people\n",
      "with green-red color blindness (the most common kind of color blindness).\n",
      "Consider using the function blueWhiteRed instead.”\n"
     ]
    },
    {
     "data": {
      "text/html": [
       "<strong>png:</strong> 2"
      ],
      "text/latex": [
       "\\textbf{png:} 2"
      ],
      "text/markdown": [
       "**png:** 2"
      ],
      "text/plain": [
       "png \n",
       "  2 "
      ]
     },
     "metadata": {},
     "output_type": "display_data"
    }
   ],
   "source": [
    "#=====================================================================================\n",
    "#\n",
    "#  Plot heatmap of module-traits relationship\n",
    "#\n",
    "#=====================================================================================\n",
    "\n",
    "sizeGrWindow(3,10)\n",
    "# Will display correlations and their p-values\n",
    "textMatrix =  paste(signif(moduleTraitCor, 2), \"\\n(\",\n",
    "                    signif(moduleTraitPvalue, 1), \")\", sep = \"\");\n",
    "dim(textMatrix) = dim(moduleTraitCor)\n",
    "pdf(\"module-traits-order.pdf\", width = 100, height = 30)\n",
    "par(mar = c(15, 12, 5, 5));\n",
    "# Display the correlation values within a heatmap plot\n",
    "labeledHeatmap(Matrix = moduleTraitCor,\n",
    "               xLabels = names(bac_traits),\n",
    "               yLabels = names(MEs),\n",
    "               ySymbols = names(MEs),\n",
    "               colorLabels = FALSE,\n",
    "               colors = greenWhiteRed(50),\n",
    "               textMatrix = textMatrix,\n",
    "               setStdMargins = FALSE,\n",
    "               cex.text = 1,\n",
    "               zlim = c(-1,1),\n",
    "               main = paste(\"Module-trait relationships\"))\n",
    "dev.off()"
   ]
  },
  {
   "cell_type": "code",
   "execution_count": 54,
   "id": "bc4611f4-5337-444e-b5a1-2fb455cf8f9d",
   "metadata": {},
   "outputs": [
    {
     "name": "stderr",
     "output_type": "stream",
     "text": [
      "Warning message in greenWhiteRed(50):\n",
      "“WGCNA::greenWhiteRed: this palette is not suitable for people\n",
      "with green-red color blindness (the most common kind of color blindness).\n",
      "Consider using the function blueWhiteRed instead.”\n"
     ]
    },
    {
     "data": {
      "image/png": "[encoded data removed]",
      "text/plain": [
       "Plot with title “Module-trait relationships”"
      ]
     },
     "metadata": {
      "image/png": {
       "height": 420,
       "width": 420
      }
     },
     "output_type": "display_data"
    }
   ],
   "source": [
    "par(mar = c(6, 8.5, 3, 3));\n",
    "# Display the correlation values within a heatmap plot\n",
    "labeledHeatmap(Matrix = moduleTraitCor,\n",
    "               xLabels = names(allTraits),\n",
    "               yLabels = names(MEs),\n",
    "               ySymbols = names(MEs),\n",
    "               colorLabels = FALSE,\n",
    "               colors = greenWhiteRed(50),\n",
    "               textMatrix = textMatrix,\n",
    "               setStdMargins = FALSE,\n",
    "               cex.text = 0.5,\n",
    "               zlim = c(-1,1),\n",
    "               main = paste(\"Module-trait relationships\"))"
   ]
  },
  {
   "cell_type": "code",
   "execution_count": 56,
   "id": "31d99875-e87e-4cd8-aabf-f1ec66e93a9c",
   "metadata": {},
   "outputs": [
    {
     "name": "stderr",
     "output_type": "stream",
     "text": [
      "Warning message in greenWhiteRed(50):\n",
      "“WGCNA::greenWhiteRed: this palette is not suitable for people\n",
      "with green-red color blindness (the most common kind of color blindness).\n",
      "Consider using the function blueWhiteRed instead.”\n"
     ]
    },
    {
     "data": {
      "text/html": [
       "<strong>png:</strong> 2"
      ],
      "text/latex": [
       "\\textbf{png:} 2"
      ],
      "text/markdown": [
       "**png:** 2"
      ],
      "text/plain": [
       "png \n",
       "  2 "
      ]
     },
     "metadata": {},
     "output_type": "display_data"
    }
   ],
   "source": [
    "pdf(\"6-module-traits-order.pdf\", width = 8, height = 12)  # Adjust width and height as needed\n",
    "par(mar = c(6, 8.5, 3, 3))\n",
    "\n",
    "# Display the correlation values within a heatmap plot\n",
    "labeledHeatmap(Matrix = moduleTraitCor,\n",
    "               xLabels = names(allTraits),\n",
    "               yLabels = names(MEs),\n",
    "               ySymbols = names(MEs),\n",
    "               colorLabels = FALSE,\n",
    "               colors = greenWhiteRed(50),\n",
    "               textMatrix = textMatrix,\n",
    "               setStdMargins = FALSE,\n",
    "               cex.text = 0.5,\n",
    "               zlim = c(-1, 1),\n",
    "               main = paste(\"Module-trait relationships\"))\n",
    "dev.off()"
   ]
  },
  {
   "cell_type": "code",
   "execution_count": 57,
   "id": "22327c4f-09ce-4874-a17c-cd7881ed614d",
   "metadata": {},
   "outputs": [
    {
     "data": {
      "image/png": "[encoded data removed]",
      "text/plain": [
       "Plot with title “”"
      ]
     },
     "metadata": {
      "image/png": {
       "height": 420,
       "width": 420
      }
     },
     "output_type": "display_data"
    }
   ],
   "source": [
    "# Re-cluster samples\n",
    "sampleTree2 = hclust(dist(datExpr), method = \"average\")\n",
    "# Convert traits to a color representation: white means low, red means high, grey means missing entry\n",
    "traitColors = numbers2colors(allTraits, signed = FALSE);\n",
    "# Plot the sample dendrogram and the colors underneath.\n",
    "plotDendroAndColors(sampleTree2, traitColors,\n",
    "                    groupLabels = names(allTraits), \n",
    "                    main = \"Sample dendrogram and trait heatmap\")"
   ]
  },
  {
   "cell_type": "code",
   "execution_count": null,
   "id": "b4e496bc-29c0-44dd-96bb-63e95ab2140e",
   "metadata": {},
   "outputs": [],
   "source": []
  }
 ],
 "metadata": {
  "kernelspec": {
   "display_name": "R",
   "language": "R",
   "name": "ir"
  },
  "language_info": {
   "codemirror_mode": "r",
   "file_extension": ".r",
   "mimetype": "text/x-r-source",
   "name": "R",
   "pygments_lexer": "r",
   "version": "4.3.1"
  }
 },
 "nbformat": 4,
 "nbformat_minor": 5
}
